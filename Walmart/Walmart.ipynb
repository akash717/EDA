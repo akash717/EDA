{
 "cells": [
  {
   "cell_type": "markdown",
   "id": "84ec21a8",
   "metadata": {},
   "source": [
    "#### Importing Libraries"
   ]
  },
  {
   "cell_type": "code",
   "execution_count": 1,
   "id": "f8dc426a",
   "metadata": {},
   "outputs": [],
   "source": [
    "import numpy as np\n",
    "import pandas as pd\n",
    "import seaborn as sns\n",
    "from scipy.stats import norm\n",
    "import scipy.stats as stats\n",
    "from matplotlib import pyplot as plt\n",
    "import warnings\n",
    "warnings.filterwarnings('ignore')"
   ]
  },
  {
   "cell_type": "markdown",
   "id": "c827769e",
   "metadata": {},
   "source": [
    "#### Importing CSV file data to data frame"
   ]
  },
  {
   "cell_type": "code",
   "execution_count": 2,
   "id": "f61e3680",
   "metadata": {},
   "outputs": [],
   "source": [
    "df=pd.read_csv(\"C:/Users/akash/Desktop/Scaler/Case_Study/walmart.csv\")"
   ]
  },
  {
   "cell_type": "code",
   "execution_count": 3,
   "id": "eda5805f",
   "metadata": {},
   "outputs": [
    {
     "data": {
      "text/html": [
       "<div>\n",
       "<style scoped>\n",
       "    .dataframe tbody tr th:only-of-type {\n",
       "        vertical-align: middle;\n",
       "    }\n",
       "\n",
       "    .dataframe tbody tr th {\n",
       "        vertical-align: top;\n",
       "    }\n",
       "\n",
       "    .dataframe thead th {\n",
       "        text-align: right;\n",
       "    }\n",
       "</style>\n",
       "<table border=\"1\" class=\"dataframe\">\n",
       "  <thead>\n",
       "    <tr style=\"text-align: right;\">\n",
       "      <th></th>\n",
       "      <th>User_ID</th>\n",
       "      <th>Product_ID</th>\n",
       "      <th>Gender</th>\n",
       "      <th>Age</th>\n",
       "      <th>Occupation</th>\n",
       "      <th>City_Category</th>\n",
       "      <th>Stay_In_Current_City_Years</th>\n",
       "      <th>Marital_Status</th>\n",
       "      <th>Product_Category</th>\n",
       "      <th>Purchase</th>\n",
       "    </tr>\n",
       "  </thead>\n",
       "  <tbody>\n",
       "    <tr>\n",
       "      <th>0</th>\n",
       "      <td>1000001</td>\n",
       "      <td>P00069042</td>\n",
       "      <td>F</td>\n",
       "      <td>0-17</td>\n",
       "      <td>10.0</td>\n",
       "      <td>A</td>\n",
       "      <td>2.0</td>\n",
       "      <td>0.0</td>\n",
       "      <td>3.0</td>\n",
       "      <td>8370.0</td>\n",
       "    </tr>\n",
       "    <tr>\n",
       "      <th>1</th>\n",
       "      <td>1000001</td>\n",
       "      <td>P00248942</td>\n",
       "      <td>F</td>\n",
       "      <td>0-17</td>\n",
       "      <td>10.0</td>\n",
       "      <td>A</td>\n",
       "      <td>2.0</td>\n",
       "      <td>0.0</td>\n",
       "      <td>1.0</td>\n",
       "      <td>15200.0</td>\n",
       "    </tr>\n",
       "    <tr>\n",
       "      <th>2</th>\n",
       "      <td>1000001</td>\n",
       "      <td>P00087842</td>\n",
       "      <td>F</td>\n",
       "      <td>0-17</td>\n",
       "      <td>10.0</td>\n",
       "      <td>A</td>\n",
       "      <td>2.0</td>\n",
       "      <td>0.0</td>\n",
       "      <td>12.0</td>\n",
       "      <td>1422.0</td>\n",
       "    </tr>\n",
       "    <tr>\n",
       "      <th>3</th>\n",
       "      <td>1000001</td>\n",
       "      <td>P00085442</td>\n",
       "      <td>F</td>\n",
       "      <td>0-17</td>\n",
       "      <td>10.0</td>\n",
       "      <td>A</td>\n",
       "      <td>2.0</td>\n",
       "      <td>0.0</td>\n",
       "      <td>12.0</td>\n",
       "      <td>1057.0</td>\n",
       "    </tr>\n",
       "    <tr>\n",
       "      <th>4</th>\n",
       "      <td>1000002</td>\n",
       "      <td>P00285442</td>\n",
       "      <td>M</td>\n",
       "      <td>55+</td>\n",
       "      <td>16.0</td>\n",
       "      <td>C</td>\n",
       "      <td>4.0</td>\n",
       "      <td>0.0</td>\n",
       "      <td>8.0</td>\n",
       "      <td>7969.0</td>\n",
       "    </tr>\n",
       "  </tbody>\n",
       "</table>\n",
       "</div>"
      ],
      "text/plain": [
       "   User_ID Product_ID Gender   Age  Occupation City_Category  \\\n",
       "0  1000001  P00069042      F  0-17        10.0             A   \n",
       "1  1000001  P00248942      F  0-17        10.0             A   \n",
       "2  1000001  P00087842      F  0-17        10.0             A   \n",
       "3  1000001  P00085442      F  0-17        10.0             A   \n",
       "4  1000002  P00285442      M   55+        16.0             C   \n",
       "\n",
       "   Stay_In_Current_City_Years  Marital_Status  Product_Category  Purchase  \n",
       "0                         2.0             0.0               3.0    8370.0  \n",
       "1                         2.0             0.0               1.0   15200.0  \n",
       "2                         2.0             0.0              12.0    1422.0  \n",
       "3                         2.0             0.0              12.0    1057.0  \n",
       "4                         4.0             0.0               8.0    7969.0  "
      ]
     },
     "execution_count": 3,
     "metadata": {},
     "output_type": "execute_result"
    }
   ],
   "source": [
    "df.head()"
   ]
  },
  {
   "cell_type": "markdown",
   "id": "f97558e1",
   "metadata": {},
   "source": [
    "#### Checking datatypes for the columns"
   ]
  },
  {
   "cell_type": "code",
   "execution_count": 4,
   "id": "d392763a",
   "metadata": {},
   "outputs": [
    {
     "name": "stdout",
     "output_type": "stream",
     "text": [
      "<class 'pandas.core.frame.DataFrame'>\n",
      "RangeIndex: 500423 entries, 0 to 500422\n",
      "Data columns (total 10 columns):\n",
      " #   Column                      Non-Null Count   Dtype  \n",
      "---  ------                      --------------   -----  \n",
      " 0   User_ID                     500423 non-null  int64  \n",
      " 1   Product_ID                  500423 non-null  object \n",
      " 2   Gender                      500422 non-null  object \n",
      " 3   Age                         500422 non-null  object \n",
      " 4   Occupation                  500422 non-null  float64\n",
      " 5   City_Category               500422 non-null  object \n",
      " 6   Stay_In_Current_City_Years  500422 non-null  float64\n",
      " 7   Marital_Status              500422 non-null  float64\n",
      " 8   Product_Category            500422 non-null  float64\n",
      " 9   Purchase                    500422 non-null  float64\n",
      "dtypes: float64(5), int64(1), object(4)\n",
      "memory usage: 38.2+ MB\n"
     ]
    }
   ],
   "source": [
    "df.info()"
   ]
  },
  {
   "cell_type": "code",
   "execution_count": 5,
   "id": "9f63cd3c",
   "metadata": {},
   "outputs": [
    {
     "data": {
      "text/plain": [
       "1.0    176166\n",
       "2.0     92636\n",
       "3.0     86732\n",
       "4.0     77157\n",
       "0.0     67731\n",
       "Name: Stay_In_Current_City_Years, dtype: int64"
      ]
     },
     "execution_count": 5,
     "metadata": {},
     "output_type": "execute_result"
    }
   ],
   "source": [
    "df['Stay_In_Current_City_Years'].value_counts()"
   ]
  },
  {
   "cell_type": "markdown",
   "id": "aed1e8ef",
   "metadata": {},
   "source": [
    "#### Changing the categorical values to object"
   ]
  },
  {
   "cell_type": "code",
   "execution_count": 6,
   "id": "8af2219f",
   "metadata": {},
   "outputs": [],
   "source": [
    "df['Marital_Status'] = df['Marital_Status'].astype('object')\n",
    "df['User_ID'] = df['User_ID'].astype('object')\n",
    "df['Product_Category'] = df['Product_Category'].astype('object')\n",
    "df['Stay_In_Current_City_Years'] = df['Stay_In_Current_City_Years'].astype('object')"
   ]
  },
  {
   "cell_type": "code",
   "execution_count": 7,
   "id": "e19b8746",
   "metadata": {},
   "outputs": [
    {
     "name": "stdout",
     "output_type": "stream",
     "text": [
      "<class 'pandas.core.frame.DataFrame'>\n",
      "RangeIndex: 500423 entries, 0 to 500422\n",
      "Data columns (total 10 columns):\n",
      " #   Column                      Non-Null Count   Dtype  \n",
      "---  ------                      --------------   -----  \n",
      " 0   User_ID                     500423 non-null  object \n",
      " 1   Product_ID                  500423 non-null  object \n",
      " 2   Gender                      500422 non-null  object \n",
      " 3   Age                         500422 non-null  object \n",
      " 4   Occupation                  500422 non-null  float64\n",
      " 5   City_Category               500422 non-null  object \n",
      " 6   Stay_In_Current_City_Years  500422 non-null  object \n",
      " 7   Marital_Status              500422 non-null  object \n",
      " 8   Product_Category            500422 non-null  object \n",
      " 9   Purchase                    500422 non-null  float64\n",
      "dtypes: float64(2), object(8)\n",
      "memory usage: 38.2+ MB\n"
     ]
    }
   ],
   "source": [
    "df.info()"
   ]
  },
  {
   "cell_type": "markdown",
   "id": "de2b0c2c",
   "metadata": {},
   "source": [
    "#### Checking for null values"
   ]
  },
  {
   "cell_type": "code",
   "execution_count": 8,
   "id": "51aa2cb9",
   "metadata": {},
   "outputs": [
    {
     "data": {
      "text/plain": [
       "User_ID                       0\n",
       "Product_ID                    0\n",
       "Gender                        1\n",
       "Age                           1\n",
       "Occupation                    1\n",
       "City_Category                 1\n",
       "Stay_In_Current_City_Years    1\n",
       "Marital_Status                1\n",
       "Product_Category              1\n",
       "Purchase                      1\n",
       "dtype: int64"
      ]
     },
     "execution_count": 8,
     "metadata": {},
     "output_type": "execute_result"
    }
   ],
   "source": [
    "df.isnull().sum()"
   ]
  },
  {
   "cell_type": "code",
   "execution_count": 9,
   "id": "d550352a",
   "metadata": {},
   "outputs": [
    {
     "data": {
      "text/html": [
       "<div>\n",
       "<style scoped>\n",
       "    .dataframe tbody tr th:only-of-type {\n",
       "        vertical-align: middle;\n",
       "    }\n",
       "\n",
       "    .dataframe tbody tr th {\n",
       "        vertical-align: top;\n",
       "    }\n",
       "\n",
       "    .dataframe thead th {\n",
       "        text-align: right;\n",
       "    }\n",
       "</style>\n",
       "<table border=\"1\" class=\"dataframe\">\n",
       "  <thead>\n",
       "    <tr style=\"text-align: right;\">\n",
       "      <th></th>\n",
       "      <th>User_ID</th>\n",
       "      <th>Product_ID</th>\n",
       "      <th>Gender</th>\n",
       "      <th>Age</th>\n",
       "      <th>Occupation</th>\n",
       "      <th>City_Category</th>\n",
       "      <th>Stay_In_Current_City_Years</th>\n",
       "      <th>Marital_Status</th>\n",
       "      <th>Product_Category</th>\n",
       "      <th>Purchase</th>\n",
       "    </tr>\n",
       "  </thead>\n",
       "  <tbody>\n",
       "    <tr>\n",
       "      <th>500422</th>\n",
       "      <td>1005061</td>\n",
       "      <td>P0028</td>\n",
       "      <td>NaN</td>\n",
       "      <td>NaN</td>\n",
       "      <td>NaN</td>\n",
       "      <td>NaN</td>\n",
       "      <td>NaN</td>\n",
       "      <td>NaN</td>\n",
       "      <td>NaN</td>\n",
       "      <td>NaN</td>\n",
       "    </tr>\n",
       "  </tbody>\n",
       "</table>\n",
       "</div>"
      ],
      "text/plain": [
       "        User_ID Product_ID Gender  Age  Occupation City_Category  \\\n",
       "500422  1005061      P0028    NaN  NaN         NaN           NaN   \n",
       "\n",
       "       Stay_In_Current_City_Years Marital_Status Product_Category  Purchase  \n",
       "500422                        NaN            NaN              NaN       NaN  "
      ]
     },
     "execution_count": 9,
     "metadata": {},
     "output_type": "execute_result"
    }
   ],
   "source": [
    "df[df.isna().any(axis=1)]"
   ]
  },
  {
   "cell_type": "markdown",
   "id": "0dbcb523",
   "metadata": {},
   "source": [
    "#### It seems like only one row have all null values so removing that row."
   ]
  },
  {
   "cell_type": "code",
   "execution_count": 10,
   "id": "ff7a78df",
   "metadata": {},
   "outputs": [],
   "source": [
    "index = df[df['User_ID'] == 1005061].index\n",
    "df.drop(index,inplace=True)"
   ]
  },
  {
   "cell_type": "code",
   "execution_count": 11,
   "id": "bb232058",
   "metadata": {},
   "outputs": [
    {
     "data": {
      "text/html": [
       "<div>\n",
       "<style scoped>\n",
       "    .dataframe tbody tr th:only-of-type {\n",
       "        vertical-align: middle;\n",
       "    }\n",
       "\n",
       "    .dataframe tbody tr th {\n",
       "        vertical-align: top;\n",
       "    }\n",
       "\n",
       "    .dataframe thead th {\n",
       "        text-align: right;\n",
       "    }\n",
       "</style>\n",
       "<table border=\"1\" class=\"dataframe\">\n",
       "  <thead>\n",
       "    <tr style=\"text-align: right;\">\n",
       "      <th></th>\n",
       "      <th>User_ID</th>\n",
       "      <th>Product_ID</th>\n",
       "      <th>Gender</th>\n",
       "      <th>Age</th>\n",
       "      <th>Occupation</th>\n",
       "      <th>City_Category</th>\n",
       "      <th>Stay_In_Current_City_Years</th>\n",
       "      <th>Marital_Status</th>\n",
       "      <th>Product_Category</th>\n",
       "      <th>Purchase</th>\n",
       "    </tr>\n",
       "  </thead>\n",
       "  <tbody>\n",
       "  </tbody>\n",
       "</table>\n",
       "</div>"
      ],
      "text/plain": [
       "Empty DataFrame\n",
       "Columns: [User_ID, Product_ID, Gender, Age, Occupation, City_Category, Stay_In_Current_City_Years, Marital_Status, Product_Category, Purchase]\n",
       "Index: []"
      ]
     },
     "execution_count": 11,
     "metadata": {},
     "output_type": "execute_result"
    }
   ],
   "source": [
    "df[df.isna().any(axis=1)]"
   ]
  },
  {
   "cell_type": "code",
   "execution_count": 12,
   "id": "580427c4",
   "metadata": {},
   "outputs": [
    {
     "data": {
      "text/html": [
       "<div>\n",
       "<style scoped>\n",
       "    .dataframe tbody tr th:only-of-type {\n",
       "        vertical-align: middle;\n",
       "    }\n",
       "\n",
       "    .dataframe tbody tr th {\n",
       "        vertical-align: top;\n",
       "    }\n",
       "\n",
       "    .dataframe thead th {\n",
       "        text-align: right;\n",
       "    }\n",
       "</style>\n",
       "<table border=\"1\" class=\"dataframe\">\n",
       "  <thead>\n",
       "    <tr style=\"text-align: right;\">\n",
       "      <th></th>\n",
       "      <th>User_ID</th>\n",
       "      <th>Product_ID</th>\n",
       "      <th>Gender</th>\n",
       "      <th>Age</th>\n",
       "      <th>Occupation</th>\n",
       "      <th>City_Category</th>\n",
       "      <th>Stay_In_Current_City_Years</th>\n",
       "      <th>Marital_Status</th>\n",
       "      <th>Product_Category</th>\n",
       "      <th>Purchase</th>\n",
       "    </tr>\n",
       "  </thead>\n",
       "  <tbody>\n",
       "    <tr>\n",
       "      <th>count</th>\n",
       "      <td>500325.0</td>\n",
       "      <td>500325</td>\n",
       "      <td>500325</td>\n",
       "      <td>500325</td>\n",
       "      <td>500325.000000</td>\n",
       "      <td>500325</td>\n",
       "      <td>500325.0</td>\n",
       "      <td>500325.0</td>\n",
       "      <td>500325.0</td>\n",
       "      <td>500325.000000</td>\n",
       "    </tr>\n",
       "    <tr>\n",
       "      <th>unique</th>\n",
       "      <td>5890.0</td>\n",
       "      <td>3612</td>\n",
       "      <td>2</td>\n",
       "      <td>7</td>\n",
       "      <td>NaN</td>\n",
       "      <td>3</td>\n",
       "      <td>5.0</td>\n",
       "      <td>2.0</td>\n",
       "      <td>18.0</td>\n",
       "      <td>NaN</td>\n",
       "    </tr>\n",
       "    <tr>\n",
       "      <th>top</th>\n",
       "      <td>1001680.0</td>\n",
       "      <td>P00265242</td>\n",
       "      <td>M</td>\n",
       "      <td>26-35</td>\n",
       "      <td>NaN</td>\n",
       "      <td>B</td>\n",
       "      <td>1.0</td>\n",
       "      <td>0.0</td>\n",
       "      <td>5.0</td>\n",
       "      <td>NaN</td>\n",
       "    </tr>\n",
       "    <tr>\n",
       "      <th>freq</th>\n",
       "      <td>952.0</td>\n",
       "      <td>1710</td>\n",
       "      <td>377343</td>\n",
       "      <td>199533</td>\n",
       "      <td>NaN</td>\n",
       "      <td>210817</td>\n",
       "      <td>176166.0</td>\n",
       "      <td>295765.0</td>\n",
       "      <td>138315.0</td>\n",
       "      <td>NaN</td>\n",
       "    </tr>\n",
       "    <tr>\n",
       "      <th>mean</th>\n",
       "      <td>NaN</td>\n",
       "      <td>NaN</td>\n",
       "      <td>NaN</td>\n",
       "      <td>NaN</td>\n",
       "      <td>8.082135</td>\n",
       "      <td>NaN</td>\n",
       "      <td>NaN</td>\n",
       "      <td>NaN</td>\n",
       "      <td>NaN</td>\n",
       "      <td>9331.870026</td>\n",
       "    </tr>\n",
       "    <tr>\n",
       "      <th>std</th>\n",
       "      <td>NaN</td>\n",
       "      <td>NaN</td>\n",
       "      <td>NaN</td>\n",
       "      <td>NaN</td>\n",
       "      <td>6.523247</td>\n",
       "      <td>NaN</td>\n",
       "      <td>NaN</td>\n",
       "      <td>NaN</td>\n",
       "      <td>NaN</td>\n",
       "      <td>4980.248218</td>\n",
       "    </tr>\n",
       "    <tr>\n",
       "      <th>min</th>\n",
       "      <td>NaN</td>\n",
       "      <td>NaN</td>\n",
       "      <td>NaN</td>\n",
       "      <td>NaN</td>\n",
       "      <td>0.000000</td>\n",
       "      <td>NaN</td>\n",
       "      <td>NaN</td>\n",
       "      <td>NaN</td>\n",
       "      <td>NaN</td>\n",
       "      <td>185.000000</td>\n",
       "    </tr>\n",
       "    <tr>\n",
       "      <th>25%</th>\n",
       "      <td>NaN</td>\n",
       "      <td>NaN</td>\n",
       "      <td>NaN</td>\n",
       "      <td>NaN</td>\n",
       "      <td>2.000000</td>\n",
       "      <td>NaN</td>\n",
       "      <td>NaN</td>\n",
       "      <td>NaN</td>\n",
       "      <td>NaN</td>\n",
       "      <td>5866.000000</td>\n",
       "    </tr>\n",
       "    <tr>\n",
       "      <th>50%</th>\n",
       "      <td>NaN</td>\n",
       "      <td>NaN</td>\n",
       "      <td>NaN</td>\n",
       "      <td>NaN</td>\n",
       "      <td>7.000000</td>\n",
       "      <td>NaN</td>\n",
       "      <td>NaN</td>\n",
       "      <td>NaN</td>\n",
       "      <td>NaN</td>\n",
       "      <td>8061.000000</td>\n",
       "    </tr>\n",
       "    <tr>\n",
       "      <th>75%</th>\n",
       "      <td>NaN</td>\n",
       "      <td>NaN</td>\n",
       "      <td>NaN</td>\n",
       "      <td>NaN</td>\n",
       "      <td>14.000000</td>\n",
       "      <td>NaN</td>\n",
       "      <td>NaN</td>\n",
       "      <td>NaN</td>\n",
       "      <td>NaN</td>\n",
       "      <td>12071.000000</td>\n",
       "    </tr>\n",
       "    <tr>\n",
       "      <th>max</th>\n",
       "      <td>NaN</td>\n",
       "      <td>NaN</td>\n",
       "      <td>NaN</td>\n",
       "      <td>NaN</td>\n",
       "      <td>20.000000</td>\n",
       "      <td>NaN</td>\n",
       "      <td>NaN</td>\n",
       "      <td>NaN</td>\n",
       "      <td>NaN</td>\n",
       "      <td>23961.000000</td>\n",
       "    </tr>\n",
       "  </tbody>\n",
       "</table>\n",
       "</div>"
      ],
      "text/plain": [
       "          User_ID Product_ID  Gender     Age     Occupation City_Category  \\\n",
       "count    500325.0     500325  500325  500325  500325.000000        500325   \n",
       "unique     5890.0       3612       2       7            NaN             3   \n",
       "top     1001680.0  P00265242       M   26-35            NaN             B   \n",
       "freq        952.0       1710  377343  199533            NaN        210817   \n",
       "mean          NaN        NaN     NaN     NaN       8.082135           NaN   \n",
       "std           NaN        NaN     NaN     NaN       6.523247           NaN   \n",
       "min           NaN        NaN     NaN     NaN       0.000000           NaN   \n",
       "25%           NaN        NaN     NaN     NaN       2.000000           NaN   \n",
       "50%           NaN        NaN     NaN     NaN       7.000000           NaN   \n",
       "75%           NaN        NaN     NaN     NaN      14.000000           NaN   \n",
       "max           NaN        NaN     NaN     NaN      20.000000           NaN   \n",
       "\n",
       "        Stay_In_Current_City_Years  Marital_Status  Product_Category  \\\n",
       "count                     500325.0        500325.0          500325.0   \n",
       "unique                         5.0             2.0              18.0   \n",
       "top                            1.0             0.0               5.0   \n",
       "freq                      176166.0        295765.0          138315.0   \n",
       "mean                           NaN             NaN               NaN   \n",
       "std                            NaN             NaN               NaN   \n",
       "min                            NaN             NaN               NaN   \n",
       "25%                            NaN             NaN               NaN   \n",
       "50%                            NaN             NaN               NaN   \n",
       "75%                            NaN             NaN               NaN   \n",
       "max                            NaN             NaN               NaN   \n",
       "\n",
       "             Purchase  \n",
       "count   500325.000000  \n",
       "unique            NaN  \n",
       "top               NaN  \n",
       "freq              NaN  \n",
       "mean      9331.870026  \n",
       "std       4980.248218  \n",
       "min        185.000000  \n",
       "25%       5866.000000  \n",
       "50%       8061.000000  \n",
       "75%      12071.000000  \n",
       "max      23961.000000  "
      ]
     },
     "execution_count": 12,
     "metadata": {},
     "output_type": "execute_result"
    }
   ],
   "source": [
    "df.describe(include='all')"
   ]
  },
  {
   "cell_type": "markdown",
   "id": "0c5dcd57",
   "metadata": {},
   "source": [
    "#### Purchase seems to have outliers as median and mean have a big difference."
   ]
  },
  {
   "cell_type": "code",
   "execution_count": 13,
   "id": "de9f006e",
   "metadata": {},
   "outputs": [
    {
     "data": {
      "image/png": "[encoded data removed]",
      "text/plain": [
       "<Figure size 432x288 with 1 Axes>"
      ]
     },
     "metadata": {
      "needs_background": "light"
     },
     "output_type": "display_data"
    }
   ],
   "source": [
    "sns.boxplot(y='Purchase',data=df)\n",
    "plt.show()"
   ]
  },
  {
   "cell_type": "code",
   "execution_count": 14,
   "id": "2108653e",
   "metadata": {},
   "outputs": [
    {
     "name": "stdout",
     "output_type": "stream",
     "text": [
      "Percentage of Outliers in Purchase Column is 0.49947534102833163\n"
     ]
    }
   ],
   "source": [
    "upper_bound = (1.5 * stats.iqr(df['Purchase'])) + np.quantile(df['Purchase'],0.75)\n",
    "print(\"Percentage of Outliers in Purchase Column is %s\" %((len(df[df['Purchase'] >= upper_bound])/len(df))*100))"
   ]
  },
  {
   "cell_type": "markdown",
   "id": "2589fb08",
   "metadata": {},
   "source": [
    "As outliers are only 0.5 percent so dropping it from dataset."
   ]
  },
  {
   "cell_type": "code",
   "execution_count": 15,
   "id": "e5eb4f24",
   "metadata": {},
   "outputs": [],
   "source": [
    "drop = df[df['Purchase'] >= upper_bound].index\n",
    "df.drop(drop,inplace=True)"
   ]
  },
  {
   "cell_type": "code",
   "execution_count": 16,
   "id": "4f30e7d1",
   "metadata": {},
   "outputs": [
    {
     "data": {
      "image/png": "[encoded data removed]",
      "text/plain": [
       "<Figure size 432x288 with 1 Axes>"
      ]
     },
     "metadata": {
      "needs_background": "light"
     },
     "output_type": "display_data"
    }
   ],
   "source": [
    "sns.boxplot(y='Purchase',data=df)\n",
    "plt.show()"
   ]
  },
  {
   "cell_type": "markdown",
   "id": "2124ccb2",
   "metadata": {},
   "source": [
    "### City "
   ]
  },
  {
   "cell_type": "code",
   "execution_count": 17,
   "id": "966ae054",
   "metadata": {},
   "outputs": [
    {
     "data": {
      "text/plain": [
       "B    209829\n",
       "C    154042\n",
       "A    133955\n",
       "Name: City_Category, dtype: int64"
      ]
     },
     "execution_count": 17,
     "metadata": {},
     "output_type": "execute_result"
    }
   ],
   "source": [
    "df['City_Category'].value_counts()"
   ]
  },
  {
   "cell_type": "markdown",
   "id": "01147220",
   "metadata": {},
   "source": [
    "#### Male customers have slight high spending than female customers per transaction in all city category. "
   ]
  },
  {
   "cell_type": "code",
   "execution_count": 106,
   "id": "9d762480",
   "metadata": {
    "scrolled": true
   },
   "outputs": [
    {
     "data": {
      "image/png": "[encoded data removed]",
      "text/plain": [
       "<Figure size 432x288 with 1 Axes>"
      ]
     },
     "metadata": {
      "needs_background": "light"
     },
     "output_type": "display_data"
    }
   ],
   "source": [
    "sns.barplot(x = 'City_Category' , y = 'Purchase' , hue = 'Gender' , data = df)\n",
    "plt.show()"
   ]
  },
  {
   "cell_type": "markdown",
   "id": "bc7cf05e",
   "metadata": {},
   "source": [
    "#### Marital Status doesnt seems to affect the customer purchase as per this data."
   ]
  },
  {
   "cell_type": "code",
   "execution_count": 19,
   "id": "7316c9ca",
   "metadata": {},
   "outputs": [
    {
     "data": {
      "image/png": "[encoded data removed]",
      "text/plain": [
       "<Figure size 432x288 with 1 Axes>"
      ]
     },
     "metadata": {
      "needs_background": "light"
     },
     "output_type": "display_data"
    }
   ],
   "source": [
    "sns.barplot(x = 'City_Category' , y = 'Purchase' , hue = 'Marital_Status' , data = df)\n",
    "plt.show()"
   ]
  },
  {
   "cell_type": "markdown",
   "id": "708681e1",
   "metadata": {},
   "source": [
    "#### Category of City B retains most people as we see the graph we are clearly able to see that in each stay in current city years B category city tops other categories."
   ]
  },
  {
   "cell_type": "code",
   "execution_count": 20,
   "id": "7a767af0",
   "metadata": {},
   "outputs": [
    {
     "data": {
      "image/png": "[encoded data removed]",
      "text/plain": [
       "<Figure size 432x288 with 1 Axes>"
      ]
     },
     "metadata": {
      "needs_background": "light"
     },
     "output_type": "display_data"
    }
   ],
   "source": [
    "sns.countplot(x = 'Stay_In_Current_City_Years' , hue = 'City_Category' , data = df)\n",
    "plt.show()"
   ]
  },
  {
   "cell_type": "markdown",
   "id": "8736a394",
   "metadata": {},
   "source": [
    "### Confidence Intervals for true mean Purchase\n",
    "#### For all transactions"
   ]
  },
  {
   "cell_type": "code",
   "execution_count": 21,
   "id": "f38e23c4",
   "metadata": {},
   "outputs": [
    {
     "data": {
      "text/plain": [
       "(497826, 10)"
      ]
     },
     "execution_count": 21,
     "metadata": {},
     "output_type": "execute_result"
    }
   ],
   "source": [
    "df.shape"
   ]
  },
  {
   "cell_type": "code",
   "execution_count": 22,
   "id": "6b2b44d5",
   "metadata": {},
   "outputs": [],
   "source": [
    "size = int(.8*len(df))\n",
    "r = 10000\n",
    "transactions_mean = np.empty(r)\n",
    "for i in range(r):\n",
    "    sample = df['Purchase'].sample(n = size,replace = True)\n",
    "    transactions_mean[i] = np.mean(sample)"
   ]
  },
  {
   "cell_type": "code",
   "execution_count": 30,
   "id": "f49b589c",
   "metadata": {},
   "outputs": [
    {
     "data": {
      "image/png": "[encoded data removed]",
      "text/plain": [
       "<Figure size 432x288 with 1 Axes>"
      ]
     },
     "metadata": {
      "needs_background": "light"
     },
     "output_type": "display_data"
    }
   ],
   "source": [
    "plt.hist(transactions_mean)\n",
    "plt.show()"
   ]
  },
  {
   "cell_type": "code",
   "execution_count": 23,
   "id": "93223f40",
   "metadata": {},
   "outputs": [],
   "source": [
    "def interval(percent,sample_means):\n",
    "    mean = sample_means.mean()\n",
    "    std = sample_means.std()\n",
    "    diff = norm.ppf(percent)*std\n",
    "    upper = mean + diff\n",
    "    lower = mean - diff\n",
    "    return(lower,upper)"
   ]
  },
  {
   "cell_type": "code",
   "execution_count": 24,
   "id": "f0066dc0",
   "metadata": {},
   "outputs": [
    {
     "name": "stdout",
     "output_type": "stream",
     "text": [
      "Confidence Interval for 90 percent is (9249.21 , 9274.93)\n",
      "Confidence Interval for 95 percent is (9246.75 , 9277.39)\n",
      "Confidence Interval for 99 percent is (9241.93 , 9282.21)\n"
     ]
    }
   ],
   "source": [
    "print(\"Confidence Interval for 90 percent is (%.2f , %.2f)\" %interval(.95,transactions_mean))\n",
    "print(\"Confidence Interval for 95 percent is (%.2f , %.2f)\" %interval(.975,transactions_mean))\n",
    "print(\"Confidence Interval for 99 percent is (%.2f , %.2f)\" %interval(.995,transactions_mean))"
   ]
  },
  {
   "cell_type": "markdown",
   "id": "1943df60",
   "metadata": {},
   "source": [
    "#### For transactions done by Male Customers"
   ]
  },
  {
   "cell_type": "code",
   "execution_count": 31,
   "id": "9a472ac7",
   "metadata": {},
   "outputs": [
    {
     "data": {
      "text/plain": [
       "375385"
      ]
     },
     "execution_count": 31,
     "metadata": {},
     "output_type": "execute_result"
    }
   ],
   "source": [
    "Male = df[df['Gender'] == 'M']['Purchase']\n",
    "len(Male)"
   ]
  },
  {
   "cell_type": "code",
   "execution_count": 32,
   "id": "055eb99e",
   "metadata": {},
   "outputs": [],
   "source": [
    "size = int(.8*len(Male))\n",
    "r = 100000\n",
    "transactions_mean_male = np.empty(r)\n",
    "for i in range(r):\n",
    "    sample = Male.sample(n = size,replace = True)\n",
    "    transactions_mean_male[i] = np.mean(sample)"
   ]
  },
  {
   "cell_type": "code",
   "execution_count": 33,
   "id": "f6e6735d",
   "metadata": {},
   "outputs": [
    {
     "data": {
      "image/png": "[encoded data removed]",
      "text/plain": [
       "<Figure size 432x288 with 1 Axes>"
      ]
     },
     "metadata": {
      "needs_background": "light"
     },
     "output_type": "display_data"
    }
   ],
   "source": [
    "plt.hist(transactions_mean_male)\n",
    "plt.show()"
   ]
  },
  {
   "cell_type": "code",
   "execution_count": 34,
   "id": "617e3808",
   "metadata": {},
   "outputs": [
    {
     "name": "stdout",
     "output_type": "stream",
     "text": [
      "Confidence Interval for 90 percent is (9416.72 , 9446.53)\n",
      "Confidence Interval for 95 percent is (9413.87 , 9449.38)\n",
      "Confidence Interval for 99 percent is (9408.29 , 9454.96)\n"
     ]
    }
   ],
   "source": [
    "print(\"Confidence Interval for 90 percent is (%.2f , %.2f)\" %interval(.95,transactions_mean_male))\n",
    "print(\"Confidence Interval for 95 percent is (%.2f , %.2f)\" %interval(.975,transactions_mean_male))\n",
    "print(\"Confidence Interval for 99 percent is (%.2f , %.2f)\" %interval(.995,transactions_mean_male))"
   ]
  },
  {
   "cell_type": "markdown",
   "id": "fa04567e",
   "metadata": {},
   "source": [
    "#### For transactions done by Female Customers"
   ]
  },
  {
   "cell_type": "code",
   "execution_count": 35,
   "id": "074f8373",
   "metadata": {},
   "outputs": [
    {
     "data": {
      "text/plain": [
       "122441"
      ]
     },
     "execution_count": 35,
     "metadata": {},
     "output_type": "execute_result"
    }
   ],
   "source": [
    "Female = df[df['Gender'] == 'F']['Purchase']\n",
    "len(Female)"
   ]
  },
  {
   "cell_type": "code",
   "execution_count": 36,
   "id": "d6467f72",
   "metadata": {},
   "outputs": [],
   "source": [
    "size = int(.8*len(Female))\n",
    "r = 100000\n",
    "transactions_mean_female = np.empty(r)\n",
    "for i in range(r):\n",
    "    sample = Female.sample(n = size,replace = True)\n",
    "    transactions_mean_female[i] = np.mean(sample)"
   ]
  },
  {
   "cell_type": "code",
   "execution_count": 37,
   "id": "57621ac2",
   "metadata": {},
   "outputs": [
    {
     "data": {
      "image/png": "[encoded data removed]",
      "text/plain": [
       "<Figure size 432x288 with 1 Axes>"
      ]
     },
     "metadata": {
      "needs_background": "light"
     },
     "output_type": "display_data"
    }
   ],
   "source": [
    "plt.hist(transactions_mean_female)\n",
    "plt.show()"
   ]
  },
  {
   "cell_type": "code",
   "execution_count": 38,
   "id": "bd4f0513",
   "metadata": {},
   "outputs": [
    {
     "name": "stdout",
     "output_type": "stream",
     "text": [
      "Confidence Interval for 90 percent is (8718.13 , 8766.94)\n",
      "Confidence Interval for 95 percent is (8713.45 , 8771.62)\n",
      "Confidence Interval for 99 percent is (8704.32 , 8780.75)\n"
     ]
    }
   ],
   "source": [
    "print(\"Confidence Interval for 90 percent is (%.2f , %.2f)\" %interval(.95,transactions_mean_female))\n",
    "print(\"Confidence Interval for 95 percent is (%.2f , %.2f)\" %interval(.975,transactions_mean_female))\n",
    "print(\"Confidence Interval for 99 percent is (%.2f , %.2f)\" %interval(.995,transactions_mean_female))"
   ]
  },
  {
   "cell_type": "markdown",
   "id": "8f042410",
   "metadata": {},
   "source": [
    "#### Men vs Women "
   ]
  },
  {
   "cell_type": "code",
   "execution_count": 88,
   "id": "3d5e10af",
   "metadata": {},
   "outputs": [
    {
     "data": {
      "image/png": "[encoded data removed]",
      "text/plain": [
       "<Figure size 432x288 with 1 Axes>"
      ]
     },
     "metadata": {
      "needs_background": "light"
     },
     "output_type": "display_data"
    }
   ],
   "source": [
    "plt.hist(transactions_mean_female , label='Female')\n",
    "plt.hist(transactions_mean_male , label = 'Male')\n",
    "plt.legend(loc = 'best')\n",
    "plt.show()"
   ]
  },
  {
   "cell_type": "markdown",
   "id": "2514ca73",
   "metadata": {},
   "source": [
    "#### For transactions done by Married Customers"
   ]
  },
  {
   "cell_type": "code",
   "execution_count": 39,
   "id": "6aa33772",
   "metadata": {},
   "outputs": [
    {
     "data": {
      "text/plain": [
       "203455"
      ]
     },
     "execution_count": 39,
     "metadata": {},
     "output_type": "execute_result"
    }
   ],
   "source": [
    "married=df[df['Marital_Status'] == 1 ]['Purchase']\n",
    "len(married)"
   ]
  },
  {
   "cell_type": "code",
   "execution_count": 40,
   "id": "16e3dd1b",
   "metadata": {},
   "outputs": [],
   "source": [
    "size = int(.8*len(married))\n",
    "r = 100000\n",
    "transactions_mean_married = np.empty(r)\n",
    "for i in range(r):\n",
    "    sample = married.sample(n = size,replace = True)\n",
    "    transactions_mean_married[i] = np.mean(sample)"
   ]
  },
  {
   "cell_type": "code",
   "execution_count": 41,
   "id": "fd2d9fb0",
   "metadata": {},
   "outputs": [
    {
     "data": {
      "image/png": "[encoded data removed]",
      "text/plain": [
       "<Figure size 432x288 with 1 Axes>"
      ]
     },
     "metadata": {
      "needs_background": "light"
     },
     "output_type": "display_data"
    }
   ],
   "source": [
    "plt.hist(transactions_mean_married)\n",
    "plt.show()"
   ]
  },
  {
   "cell_type": "code",
   "execution_count": 42,
   "id": "5e611a37",
   "metadata": {},
   "outputs": [
    {
     "name": "stdout",
     "output_type": "stream",
     "text": [
      "Confidence Interval for 90 percent is (9233.42 , 9273.39)\n",
      "Confidence Interval for 95 percent is (9229.60 , 9277.21)\n",
      "Confidence Interval for 99 percent is (9222.11 , 9284.69)\n"
     ]
    }
   ],
   "source": [
    "print(\"Confidence Interval for 90 percent is (%.2f , %.2f)\" %interval(.95,transactions_mean_married))\n",
    "print(\"Confidence Interval for 95 percent is (%.2f , %.2f)\" %interval(.975,transactions_mean_married))\n",
    "print(\"Confidence Interval for 99 percent is (%.2f , %.2f)\" %interval(.995,transactions_mean_married))"
   ]
  },
  {
   "cell_type": "markdown",
   "id": "812368f6",
   "metadata": {},
   "source": [
    "#### For transactions done by Single (Marital Status) Customers"
   ]
  },
  {
   "cell_type": "code",
   "execution_count": 43,
   "id": "f7ac2ca6",
   "metadata": {},
   "outputs": [
    {
     "data": {
      "text/plain": [
       "294371"
      ]
     },
     "execution_count": 43,
     "metadata": {},
     "output_type": "execute_result"
    }
   ],
   "source": [
    "single=df[df['Marital_Status'] == 0 ]['Purchase']\n",
    "len(single)"
   ]
  },
  {
   "cell_type": "code",
   "execution_count": 44,
   "id": "f35811a0",
   "metadata": {},
   "outputs": [],
   "source": [
    "size = int(.8*len(single))\n",
    "r = 100000\n",
    "transactions_mean_single = np.empty(r)\n",
    "for i in range(r):\n",
    "    sample = single.sample(n = size,replace = True)\n",
    "    transactions_mean_single[i] = np.mean(sample)"
   ]
  },
  {
   "cell_type": "code",
   "execution_count": 45,
   "id": "cf5a8c6b",
   "metadata": {},
   "outputs": [
    {
     "data": {
      "image/png": "[encoded data removed]",
      "text/plain": [
       "<Figure size 432x288 with 1 Axes>"
      ]
     },
     "metadata": {
      "needs_background": "light"
     },
     "output_type": "display_data"
    }
   ],
   "source": [
    "plt.hist(transactions_mean_single)\n",
    "plt.show()"
   ]
  },
  {
   "cell_type": "code",
   "execution_count": 46,
   "id": "f67c0c2f",
   "metadata": {},
   "outputs": [
    {
     "name": "stdout",
     "output_type": "stream",
     "text": [
      "Confidence Interval for 90 percent is (9251.41 , 9284.74)\n",
      "Confidence Interval for 95 percent is (9248.22 , 9287.94)\n",
      "Confidence Interval for 99 percent is (9241.98 , 9294.18)\n"
     ]
    }
   ],
   "source": [
    "print(\"Confidence Interval for 90 percent is (%.2f , %.2f)\" %interval(.95,transactions_mean_single))\n",
    "print(\"Confidence Interval for 95 percent is (%.2f , %.2f)\" %interval(.975,transactions_mean_single))\n",
    "print(\"Confidence Interval for 99 percent is (%.2f , %.2f)\" %interval(.995,transactions_mean_single))"
   ]
  },
  {
   "cell_type": "markdown",
   "id": "ed1d6236",
   "metadata": {},
   "source": [
    "#### we have a overlapping in married and signle customers sampling distributions as well as in CI , As the CI not have much difference we dont have a way of saying it definite that which true mean will be high. \n",
    "##### For Married\n",
    "- Confidence Interval for 90 percent is (9233.42 , 9273.39)\n",
    "- Confidence Interval for 95 percent is (9229.60 , 9277.21)\n",
    "- Confidence Interval for 99 percent is (9222.11 , 9284.69)\n",
    "\n",
    "##### For Single\n",
    "- Confidence Interval for 90 percent is (9251.41 , 9284.74)\n",
    "- Confidence Interval for 95 percent is (9248.22 , 9287.94)\n",
    "- Confidence Interval for 99 percent is (9241.98 , 9294.18)"
   ]
  },
  {
   "cell_type": "code",
   "execution_count": 107,
   "id": "ebad3b4f",
   "metadata": {},
   "outputs": [
    {
     "data": {
      "image/png": "[encoded data removed]",
      "text/plain": [
       "<Figure size 432x288 with 1 Axes>"
      ]
     },
     "metadata": {
      "needs_background": "light"
     },
     "output_type": "display_data"
    }
   ],
   "source": [
    "plt.hist(transactions_mean_single , label = 'Single')\n",
    "plt.hist(transactions_mean_married, label = 'Married')\n",
    "plt.legend(loc = 'best')\n",
    "plt.show()"
   ]
  },
  {
   "cell_type": "markdown",
   "id": "86c854a6",
   "metadata": {},
   "source": [
    "###  Age "
   ]
  },
  {
   "cell_type": "code",
   "execution_count": 47,
   "id": "7bd9f20d",
   "metadata": {},
   "outputs": [
    {
     "data": {
      "text/plain": [
       "26-35    198668\n",
       "36-45     99694\n",
       "18-25     90540\n",
       "46-50     41226\n",
       "51-55     34764\n",
       "55+       19322\n",
       "0-17      13612\n",
       "Name: Age, dtype: int64"
      ]
     },
     "execution_count": 47,
     "metadata": {},
     "output_type": "execute_result"
    }
   ],
   "source": [
    "df['Age'].value_counts()"
   ]
  },
  {
   "cell_type": "markdown",
   "id": "4a566649",
   "metadata": {},
   "source": [
    "#### Most Customers are in age group of 18-45"
   ]
  },
  {
   "cell_type": "code",
   "execution_count": 55,
   "id": "13f35cc6",
   "metadata": {},
   "outputs": [
    {
     "data": {
      "image/png": "[encoded data removed]",
      "text/plain": [
       "<Figure size 432x288 with 1 Axes>"
      ]
     },
     "metadata": {},
     "output_type": "display_data"
    }
   ],
   "source": [
    "temp = df[['User_ID','Age',]]\n",
    "temp.drop_duplicates(inplace = True)\n",
    "temp['Age'].value_counts().plot(kind='pie')\n",
    "plt.show()"
   ]
  },
  {
   "cell_type": "code",
   "execution_count": 102,
   "id": "7856bb25",
   "metadata": {},
   "outputs": [],
   "source": [
    "def f(x):\n",
    "    temp = x['Product_ID'].value_counts().reset_index()\n",
    "    return temp[temp['Product_ID'] == max(temp['Product_ID'])]"
   ]
  },
  {
   "cell_type": "markdown",
   "id": "916e9559",
   "metadata": {},
   "source": [
    "#### Most of our customer base is interested in this product P00265242"
   ]
  },
  {
   "cell_type": "code",
   "execution_count": 104,
   "id": "262505cf",
   "metadata": {},
   "outputs": [
    {
     "data": {
      "text/html": [
       "<div>\n",
       "<style scoped>\n",
       "    .dataframe tbody tr th:only-of-type {\n",
       "        vertical-align: middle;\n",
       "    }\n",
       "\n",
       "    .dataframe tbody tr th {\n",
       "        vertical-align: top;\n",
       "    }\n",
       "\n",
       "    .dataframe thead th {\n",
       "        text-align: right;\n",
       "    }\n",
       "</style>\n",
       "<table border=\"1\" class=\"dataframe\">\n",
       "  <thead>\n",
       "    <tr style=\"text-align: right;\">\n",
       "      <th></th>\n",
       "      <th></th>\n",
       "      <th>index</th>\n",
       "      <th>Product_ID</th>\n",
       "    </tr>\n",
       "    <tr>\n",
       "      <th>Age</th>\n",
       "      <th></th>\n",
       "      <th></th>\n",
       "      <th></th>\n",
       "    </tr>\n",
       "  </thead>\n",
       "  <tbody>\n",
       "    <tr>\n",
       "      <th>0-17</th>\n",
       "      <th>0</th>\n",
       "      <td>P00255842</td>\n",
       "      <td>63</td>\n",
       "    </tr>\n",
       "    <tr>\n",
       "      <th>18-25</th>\n",
       "      <th>0</th>\n",
       "      <td>P00265242</td>\n",
       "      <td>357</td>\n",
       "    </tr>\n",
       "    <tr>\n",
       "      <th>26-35</th>\n",
       "      <th>0</th>\n",
       "      <td>P00265242</td>\n",
       "      <td>669</td>\n",
       "    </tr>\n",
       "    <tr>\n",
       "      <th>36-45</th>\n",
       "      <th>0</th>\n",
       "      <td>P00025442</td>\n",
       "      <td>320</td>\n",
       "    </tr>\n",
       "    <tr>\n",
       "      <th>46-50</th>\n",
       "      <th>0</th>\n",
       "      <td>P00265242</td>\n",
       "      <td>125</td>\n",
       "    </tr>\n",
       "    <tr>\n",
       "      <th>51-55</th>\n",
       "      <th>0</th>\n",
       "      <td>P00265242</td>\n",
       "      <td>130</td>\n",
       "    </tr>\n",
       "    <tr>\n",
       "      <th>55+</th>\n",
       "      <th>0</th>\n",
       "      <td>P00265242</td>\n",
       "      <td>97</td>\n",
       "    </tr>\n",
       "  </tbody>\n",
       "</table>\n",
       "</div>"
      ],
      "text/plain": [
       "             index  Product_ID\n",
       "Age                           \n",
       "0-17  0  P00255842          63\n",
       "18-25 0  P00265242         357\n",
       "26-35 0  P00265242         669\n",
       "36-45 0  P00025442         320\n",
       "46-50 0  P00265242         125\n",
       "51-55 0  P00265242         130\n",
       "55+   0  P00265242          97"
      ]
     },
     "execution_count": 104,
     "metadata": {},
     "output_type": "execute_result"
    }
   ],
   "source": [
    "temp = df.groupby('Age').apply(f)\n",
    "temp"
   ]
  },
  {
   "cell_type": "code",
   "execution_count": 105,
   "id": "01282cee",
   "metadata": {},
   "outputs": [
    {
     "data": {
      "text/html": [
       "<div>\n",
       "<style scoped>\n",
       "    .dataframe tbody tr th:only-of-type {\n",
       "        vertical-align: middle;\n",
       "    }\n",
       "\n",
       "    .dataframe tbody tr th {\n",
       "        vertical-align: top;\n",
       "    }\n",
       "\n",
       "    .dataframe thead th {\n",
       "        text-align: right;\n",
       "    }\n",
       "</style>\n",
       "<table border=\"1\" class=\"dataframe\">\n",
       "  <thead>\n",
       "    <tr style=\"text-align: right;\">\n",
       "      <th></th>\n",
       "      <th></th>\n",
       "      <th>index</th>\n",
       "      <th>Product_ID</th>\n",
       "    </tr>\n",
       "    <tr>\n",
       "      <th>Gender</th>\n",
       "      <th></th>\n",
       "      <th></th>\n",
       "      <th></th>\n",
       "    </tr>\n",
       "  </thead>\n",
       "  <tbody>\n",
       "    <tr>\n",
       "      <th>F</th>\n",
       "      <th>0</th>\n",
       "      <td>P00265242</td>\n",
       "      <td>457</td>\n",
       "    </tr>\n",
       "    <tr>\n",
       "      <th>M</th>\n",
       "      <th>0</th>\n",
       "      <td>P00265242</td>\n",
       "      <td>1253</td>\n",
       "    </tr>\n",
       "  </tbody>\n",
       "</table>\n",
       "</div>"
      ],
      "text/plain": [
       "              index  Product_ID\n",
       "Gender                         \n",
       "F      0  P00265242         457\n",
       "M      0  P00265242        1253"
      ]
     },
     "execution_count": 105,
     "metadata": {},
     "output_type": "execute_result"
    }
   ],
   "source": [
    "temp = df.groupby('Gender').apply(f)\n",
    "temp"
   ]
  },
  {
   "cell_type": "code",
   "execution_count": 50,
   "id": "fffa2d5f",
   "metadata": {},
   "outputs": [],
   "source": [
    "def age_func(age_bin):\n",
    "    r = 100000\n",
    "    age = df[df['Age'] == age_bin]['Purchase']\n",
    "    size = int(0.8*len(age))\n",
    "    age_SampleMean = np.empty(r)\n",
    "    for i in range(r):\n",
    "        sample = age.sample(n = size , replace = True)\n",
    "        age_SampleMean[i] = np.mean(sample)\n",
    "    return age_SampleMean"
   ]
  },
  {
   "cell_type": "code",
   "execution_count": 57,
   "id": "f5fa5af1",
   "metadata": {
    "scrolled": false
   },
   "outputs": [],
   "source": [
    "l = df['Age'].unique()\n",
    "age_SampleMean = {}\n",
    "for i in l:\n",
    "    age_SampleMean[i] = age_func(i)"
   ]
  },
  {
   "cell_type": "code",
   "execution_count": 63,
   "id": "65051d18",
   "metadata": {
    "scrolled": false
   },
   "outputs": [
    {
     "name": "stdout",
     "output_type": "stream",
     "text": [
      "0-17\n"
     ]
    },
    {
     "data": {
      "image/png": "[encoded data removed]",
      "text/plain": [
       "<Figure size 432x288 with 1 Axes>"
      ]
     },
     "metadata": {
      "needs_background": "light"
     },
     "output_type": "display_data"
    },
    {
     "name": "stdout",
     "output_type": "stream",
     "text": [
      "55+\n"
     ]
    },
    {
     "data": {
      "image/png": "[encoded data removed]",
      "text/plain": [
       "<Figure size 432x288 with 1 Axes>"
      ]
     },
     "metadata": {
      "needs_background": "light"
     },
     "output_type": "display_data"
    },
    {
     "name": "stdout",
     "output_type": "stream",
     "text": [
      "26-35\n"
     ]
    },
    {
     "data": {
      "image/png": "[encoded data removed]",
      "text/plain": [
       "<Figure size 432x288 with 1 Axes>"
      ]
     },
     "metadata": {
      "needs_background": "light"
     },
     "output_type": "display_data"
    },
    {
     "name": "stdout",
     "output_type": "stream",
     "text": [
      "46-50\n"
     ]
    },
    {
     "data": {
      "image/png": "[encoded data removed]",
      "text/plain": [
       "<Figure size 432x288 with 1 Axes>"
      ]
     },
     "metadata": {
      "needs_background": "light"
     },
     "output_type": "display_data"
    },
    {
     "name": "stdout",
     "output_type": "stream",
     "text": [
      "51-55\n"
     ]
    },
    {
     "data": {
      "image/png": "[encoded data removed]",
      "text/plain": [
       "<Figure size 432x288 with 1 Axes>"
      ]
     },
     "metadata": {
      "needs_background": "light"
     },
     "output_type": "display_data"
    },
    {
     "name": "stdout",
     "output_type": "stream",
     "text": [
      "36-45\n"
     ]
    },
    {
     "data": {
      "image/png": "[encoded data removed]",
      "text/plain": [
       "<Figure size 432x288 with 1 Axes>"
      ]
     },
     "metadata": {
      "needs_background": "light"
     },
     "output_type": "display_data"
    },
    {
     "name": "stdout",
     "output_type": "stream",
     "text": [
      "18-25\n"
     ]
    },
    {
     "data": {
      "image/png": "[encoded data removed]",
      "text/plain": [
       "<Figure size 432x288 with 1 Axes>"
      ]
     },
     "metadata": {
      "needs_background": "light"
     },
     "output_type": "display_data"
    }
   ],
   "source": [
    "for i in l:\n",
    "    print(i)\n",
    "    plt.hist(age_SampleMean[i])\n",
    "    plt.show()"
   ]
  },
  {
   "cell_type": "code",
   "execution_count": 64,
   "id": "a68092ef",
   "metadata": {},
   "outputs": [
    {
     "name": "stdout",
     "output_type": "stream",
     "text": [
      "0-17\n",
      "Confidence Interval for 90 percent is (8893.92 , 9051.30)\n",
      "Confidence Interval for 95 percent is (8878.85 , 9066.38)\n",
      "Confidence Interval for 99 percent is (8849.39 , 9095.84)\n",
      "55+\n",
      "Confidence Interval for 90 percent is (9261.91 , 9388.72)\n",
      "Confidence Interval for 95 percent is (9249.76 , 9400.87)\n",
      "Confidence Interval for 99 percent is (9226.02 , 9424.61)\n",
      "26-35\n",
      "Confidence Interval for 90 percent is (9230.03 , 9270.32)\n",
      "Confidence Interval for 95 percent is (9226.17 , 9274.18)\n",
      "Confidence Interval for 99 percent is (9218.63 , 9281.72)\n",
      "46-50\n",
      "Confidence Interval for 90 percent is (9155.84 , 9242.85)\n",
      "Confidence Interval for 95 percent is (9147.51 , 9251.19)\n",
      "Confidence Interval for 99 percent is (9131.22 , 9267.48)\n",
      "51-55\n",
      "Confidence Interval for 90 percent is (9456.48 , 9553.20)\n",
      "Confidence Interval for 95 percent is (9447.21 , 9562.47)\n",
      "Confidence Interval for 99 percent is (9429.10 , 9580.57)\n",
      "36-45\n",
      "Confidence Interval for 90 percent is (9289.66 , 9346.44)\n",
      "Confidence Interval for 95 percent is (9284.23 , 9351.88)\n",
      "Confidence Interval for 99 percent is (9273.60 , 9362.51)\n",
      "18-25\n",
      "Confidence Interval for 90 percent is (9161.86 , 9222.06)\n",
      "Confidence Interval for 95 percent is (9156.10 , 9227.82)\n",
      "Confidence Interval for 99 percent is (9144.83 , 9239.09)\n"
     ]
    }
   ],
   "source": [
    "for i in l:\n",
    "    print(i)\n",
    "    print(\"Confidence Interval for 90 percent is (%.2f , %.2f)\" %interval(.95,age_SampleMean[i]))\n",
    "    print(\"Confidence Interval for 95 percent is (%.2f , %.2f)\" %interval(.975,age_SampleMean[i]))\n",
    "    print(\"Confidence Interval for 99 percent is (%.2f , %.2f)\" %interval(.995,age_SampleMean[i])) "
   ]
  },
  {
   "cell_type": "markdown",
   "id": "729f4064",
   "metadata": {},
   "source": [
    "#### Customers in the age grp of 51-55 are spending the most in per transaction."
   ]
  },
  {
   "cell_type": "code",
   "execution_count": 71,
   "id": "0ddadacf",
   "metadata": {},
   "outputs": [
    {
     "data": {
      "image/png": "[encoded data removed]",
      "text/plain": [
       "<Figure size 720x360 with 1 Axes>"
      ]
     },
     "metadata": {
      "needs_background": "light"
     },
     "output_type": "display_data"
    }
   ],
   "source": [
    "plt.figure(figsize=(10,5))\n",
    "for i in l:\n",
    "    plt.hist(age_SampleMean[i] , label = i)\n",
    "plt.legend(loc='best')\n",
    "plt.show()"
   ]
  },
  {
   "cell_type": "markdown",
   "id": "d92c0870",
   "metadata": {},
   "source": [
    "### Spending Male vs Female\n",
    "\n",
    "- As per below data we can clearly see for per trasaction male spend more than female.This might be due to spending age group 51-55 contains more male customers which increases the possibility of male customers to spend more and as well as in all age caategory group\n",
    "\n",
    "#### Male\n",
    "- Confidence Interval for 90 percent is (9416.72 , 9446.53)\n",
    "- Confidence Interval for 95 percent is (9413.87 , 9449.38)\n",
    "- Confidence Interval for 99 percent is (9408.29 , 9454.96)\n",
    "\n",
    "#### Female\n",
    "- Confidence Interval for 90 percent is (8718.13 , 8766.94)\n",
    "- Confidence Interval for 95 percent is (8713.45 , 8771.62)\n",
    "- Confidence Interval for 99 percent is (8704.32 , 8780.75)\n"
   ]
  },
  {
   "cell_type": "code",
   "execution_count": 89,
   "id": "f04ce999",
   "metadata": {},
   "outputs": [
    {
     "data": {
      "image/png": "[encoded data removed]",
      "text/plain": [
       "<Figure size 432x288 with 1 Axes>"
      ]
     },
     "metadata": {
      "needs_background": "light"
     },
     "output_type": "display_data"
    }
   ],
   "source": [
    "plt.hist(transactions_mean_female , label='Female')\n",
    "plt.hist(transactions_mean_male , label = 'Male')\n",
    "plt.legend(loc = 'best')\n",
    "plt.show()"
   ]
  }
 ],
 "metadata": {
  "kernelspec": {
   "display_name": "Python 3 (ipykernel)",
   "language": "python",
   "name": "python3"
  },
  "language_info": {
   "codemirror_mode": {
    "name": "ipython",
    "version": 3
   },
   "file_extension": ".py",
   "mimetype": "text/x-python",
   "name": "python",
   "nbconvert_exporter": "python",
   "pygments_lexer": "ipython3",
   "version": "3.8.5"
  }
 },
 "nbformat": 4,
 "nbformat_minor": 5
}
