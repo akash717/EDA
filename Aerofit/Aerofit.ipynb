{
 "cells": [
  {
   "cell_type": "markdown",
   "id": "8f982ffb",
   "metadata": {},
   "source": [
    "#### Importing Libraries"
   ]
  },
  {
   "cell_type": "code",
   "execution_count": 1,
   "id": "69002d11",
   "metadata": {},
   "outputs": [],
   "source": [
    "import pandas as pd\n",
    "import numpy as np\n",
    "from matplotlib import pyplot as plt\n",
    "import seaborn as sns\n",
    "import scipy.stats as stats"
   ]
  },
  {
   "cell_type": "markdown",
   "id": "e82cb5be",
   "metadata": {},
   "source": [
    "#### Importing excel data to data frame"
   ]
  },
  {
   "cell_type": "code",
   "execution_count": 2,
   "id": "766fae45",
   "metadata": {},
   "outputs": [],
   "source": [
    "df=pd.read_excel(\"C:/Users/akash/Desktop/Scaler/aerofit.xlsx\")"
   ]
  },
  {
   "cell_type": "code",
   "execution_count": 3,
   "id": "9361e239",
   "metadata": {},
   "outputs": [
    {
     "data": {
      "text/html": [
       "<div>\n",
       "<style scoped>\n",
       "    .dataframe tbody tr th:only-of-type {\n",
       "        vertical-align: middle;\n",
       "    }\n",
       "\n",
       "    .dataframe tbody tr th {\n",
       "        vertical-align: top;\n",
       "    }\n",
       "\n",
       "    .dataframe thead th {\n",
       "        text-align: right;\n",
       "    }\n",
       "</style>\n",
       "<table border=\"1\" class=\"dataframe\">\n",
       "  <thead>\n",
       "    <tr style=\"text-align: right;\">\n",
       "      <th></th>\n",
       "      <th>Product</th>\n",
       "      <th>Age</th>\n",
       "      <th>Gender</th>\n",
       "      <th>Education</th>\n",
       "      <th>MaritalStatus</th>\n",
       "      <th>Usage</th>\n",
       "      <th>Fitness</th>\n",
       "      <th>Income</th>\n",
       "      <th>Miles</th>\n",
       "    </tr>\n",
       "  </thead>\n",
       "  <tbody>\n",
       "    <tr>\n",
       "      <th>0</th>\n",
       "      <td>KP281</td>\n",
       "      <td>18</td>\n",
       "      <td>Male</td>\n",
       "      <td>14</td>\n",
       "      <td>Single</td>\n",
       "      <td>3</td>\n",
       "      <td>4</td>\n",
       "      <td>29562</td>\n",
       "      <td>112</td>\n",
       "    </tr>\n",
       "    <tr>\n",
       "      <th>1</th>\n",
       "      <td>KP281</td>\n",
       "      <td>19</td>\n",
       "      <td>Male</td>\n",
       "      <td>15</td>\n",
       "      <td>Single</td>\n",
       "      <td>2</td>\n",
       "      <td>3</td>\n",
       "      <td>31836</td>\n",
       "      <td>75</td>\n",
       "    </tr>\n",
       "    <tr>\n",
       "      <th>2</th>\n",
       "      <td>KP281</td>\n",
       "      <td>19</td>\n",
       "      <td>Female</td>\n",
       "      <td>14</td>\n",
       "      <td>Partnered</td>\n",
       "      <td>4</td>\n",
       "      <td>3</td>\n",
       "      <td>30699</td>\n",
       "      <td>66</td>\n",
       "    </tr>\n",
       "    <tr>\n",
       "      <th>3</th>\n",
       "      <td>KP281</td>\n",
       "      <td>19</td>\n",
       "      <td>Male</td>\n",
       "      <td>12</td>\n",
       "      <td>Single</td>\n",
       "      <td>3</td>\n",
       "      <td>3</td>\n",
       "      <td>32973</td>\n",
       "      <td>85</td>\n",
       "    </tr>\n",
       "    <tr>\n",
       "      <th>4</th>\n",
       "      <td>KP281</td>\n",
       "      <td>20</td>\n",
       "      <td>Male</td>\n",
       "      <td>13</td>\n",
       "      <td>Partnered</td>\n",
       "      <td>4</td>\n",
       "      <td>2</td>\n",
       "      <td>35247</td>\n",
       "      <td>47</td>\n",
       "    </tr>\n",
       "  </tbody>\n",
       "</table>\n",
       "</div>"
      ],
      "text/plain": [
       "  Product  Age  Gender  Education MaritalStatus  Usage  Fitness  Income  Miles\n",
       "0   KP281   18    Male         14        Single      3        4   29562    112\n",
       "1   KP281   19    Male         15        Single      2        3   31836     75\n",
       "2   KP281   19  Female         14     Partnered      4        3   30699     66\n",
       "3   KP281   19    Male         12        Single      3        3   32973     85\n",
       "4   KP281   20    Male         13     Partnered      4        2   35247     47"
      ]
     },
     "execution_count": 3,
     "metadata": {},
     "output_type": "execute_result"
    }
   ],
   "source": [
    "df.head()"
   ]
  },
  {
   "cell_type": "code",
   "execution_count": 4,
   "id": "ed594a67",
   "metadata": {},
   "outputs": [
    {
     "name": "stdout",
     "output_type": "stream",
     "text": [
      "<class 'pandas.core.frame.DataFrame'>\n",
      "RangeIndex: 180 entries, 0 to 179\n",
      "Data columns (total 9 columns):\n",
      " #   Column         Non-Null Count  Dtype \n",
      "---  ------         --------------  ----- \n",
      " 0   Product        180 non-null    object\n",
      " 1   Age            180 non-null    int64 \n",
      " 2   Gender         180 non-null    object\n",
      " 3   Education      180 non-null    int64 \n",
      " 4   MaritalStatus  180 non-null    object\n",
      " 5   Usage          180 non-null    int64 \n",
      " 6   Fitness        180 non-null    int64 \n",
      " 7   Income         180 non-null    int64 \n",
      " 8   Miles          180 non-null    int64 \n",
      "dtypes: int64(6), object(3)\n",
      "memory usage: 12.8+ KB\n"
     ]
    }
   ],
   "source": [
    "df.info()"
   ]
  },
  {
   "cell_type": "code",
   "execution_count": 5,
   "id": "5d309a1c",
   "metadata": {},
   "outputs": [
    {
     "data": {
      "text/html": [
       "<div>\n",
       "<style scoped>\n",
       "    .dataframe tbody tr th:only-of-type {\n",
       "        vertical-align: middle;\n",
       "    }\n",
       "\n",
       "    .dataframe tbody tr th {\n",
       "        vertical-align: top;\n",
       "    }\n",
       "\n",
       "    .dataframe thead th {\n",
       "        text-align: right;\n",
       "    }\n",
       "</style>\n",
       "<table border=\"1\" class=\"dataframe\">\n",
       "  <thead>\n",
       "    <tr style=\"text-align: right;\">\n",
       "      <th></th>\n",
       "      <th>Product</th>\n",
       "      <th>Age</th>\n",
       "      <th>Gender</th>\n",
       "      <th>Education</th>\n",
       "      <th>MaritalStatus</th>\n",
       "      <th>Usage</th>\n",
       "      <th>Fitness</th>\n",
       "      <th>Income</th>\n",
       "      <th>Miles</th>\n",
       "    </tr>\n",
       "  </thead>\n",
       "  <tbody>\n",
       "    <tr>\n",
       "      <th>count</th>\n",
       "      <td>180</td>\n",
       "      <td>180.000000</td>\n",
       "      <td>180</td>\n",
       "      <td>180.000000</td>\n",
       "      <td>180</td>\n",
       "      <td>180.000000</td>\n",
       "      <td>180.000000</td>\n",
       "      <td>180.000000</td>\n",
       "      <td>180.000000</td>\n",
       "    </tr>\n",
       "    <tr>\n",
       "      <th>unique</th>\n",
       "      <td>3</td>\n",
       "      <td>NaN</td>\n",
       "      <td>2</td>\n",
       "      <td>NaN</td>\n",
       "      <td>2</td>\n",
       "      <td>NaN</td>\n",
       "      <td>NaN</td>\n",
       "      <td>NaN</td>\n",
       "      <td>NaN</td>\n",
       "    </tr>\n",
       "    <tr>\n",
       "      <th>top</th>\n",
       "      <td>KP281</td>\n",
       "      <td>NaN</td>\n",
       "      <td>Male</td>\n",
       "      <td>NaN</td>\n",
       "      <td>Partnered</td>\n",
       "      <td>NaN</td>\n",
       "      <td>NaN</td>\n",
       "      <td>NaN</td>\n",
       "      <td>NaN</td>\n",
       "    </tr>\n",
       "    <tr>\n",
       "      <th>freq</th>\n",
       "      <td>80</td>\n",
       "      <td>NaN</td>\n",
       "      <td>104</td>\n",
       "      <td>NaN</td>\n",
       "      <td>107</td>\n",
       "      <td>NaN</td>\n",
       "      <td>NaN</td>\n",
       "      <td>NaN</td>\n",
       "      <td>NaN</td>\n",
       "    </tr>\n",
       "    <tr>\n",
       "      <th>mean</th>\n",
       "      <td>NaN</td>\n",
       "      <td>28.788889</td>\n",
       "      <td>NaN</td>\n",
       "      <td>15.572222</td>\n",
       "      <td>NaN</td>\n",
       "      <td>3.455556</td>\n",
       "      <td>3.311111</td>\n",
       "      <td>53719.577778</td>\n",
       "      <td>103.194444</td>\n",
       "    </tr>\n",
       "    <tr>\n",
       "      <th>std</th>\n",
       "      <td>NaN</td>\n",
       "      <td>6.943498</td>\n",
       "      <td>NaN</td>\n",
       "      <td>1.617055</td>\n",
       "      <td>NaN</td>\n",
       "      <td>1.084797</td>\n",
       "      <td>0.958869</td>\n",
       "      <td>16506.684226</td>\n",
       "      <td>51.863605</td>\n",
       "    </tr>\n",
       "    <tr>\n",
       "      <th>min</th>\n",
       "      <td>NaN</td>\n",
       "      <td>18.000000</td>\n",
       "      <td>NaN</td>\n",
       "      <td>12.000000</td>\n",
       "      <td>NaN</td>\n",
       "      <td>2.000000</td>\n",
       "      <td>1.000000</td>\n",
       "      <td>29562.000000</td>\n",
       "      <td>21.000000</td>\n",
       "    </tr>\n",
       "    <tr>\n",
       "      <th>25%</th>\n",
       "      <td>NaN</td>\n",
       "      <td>24.000000</td>\n",
       "      <td>NaN</td>\n",
       "      <td>14.000000</td>\n",
       "      <td>NaN</td>\n",
       "      <td>3.000000</td>\n",
       "      <td>3.000000</td>\n",
       "      <td>44058.750000</td>\n",
       "      <td>66.000000</td>\n",
       "    </tr>\n",
       "    <tr>\n",
       "      <th>50%</th>\n",
       "      <td>NaN</td>\n",
       "      <td>26.000000</td>\n",
       "      <td>NaN</td>\n",
       "      <td>16.000000</td>\n",
       "      <td>NaN</td>\n",
       "      <td>3.000000</td>\n",
       "      <td>3.000000</td>\n",
       "      <td>50596.500000</td>\n",
       "      <td>94.000000</td>\n",
       "    </tr>\n",
       "    <tr>\n",
       "      <th>75%</th>\n",
       "      <td>NaN</td>\n",
       "      <td>33.000000</td>\n",
       "      <td>NaN</td>\n",
       "      <td>16.000000</td>\n",
       "      <td>NaN</td>\n",
       "      <td>4.000000</td>\n",
       "      <td>4.000000</td>\n",
       "      <td>58668.000000</td>\n",
       "      <td>114.750000</td>\n",
       "    </tr>\n",
       "    <tr>\n",
       "      <th>max</th>\n",
       "      <td>NaN</td>\n",
       "      <td>50.000000</td>\n",
       "      <td>NaN</td>\n",
       "      <td>21.000000</td>\n",
       "      <td>NaN</td>\n",
       "      <td>7.000000</td>\n",
       "      <td>5.000000</td>\n",
       "      <td>104581.000000</td>\n",
       "      <td>360.000000</td>\n",
       "    </tr>\n",
       "  </tbody>\n",
       "</table>\n",
       "</div>"
      ],
      "text/plain": [
       "       Product         Age Gender   Education MaritalStatus       Usage  \\\n",
       "count      180  180.000000    180  180.000000           180  180.000000   \n",
       "unique       3         NaN      2         NaN             2         NaN   \n",
       "top      KP281         NaN   Male         NaN     Partnered         NaN   \n",
       "freq        80         NaN    104         NaN           107         NaN   \n",
       "mean       NaN   28.788889    NaN   15.572222           NaN    3.455556   \n",
       "std        NaN    6.943498    NaN    1.617055           NaN    1.084797   \n",
       "min        NaN   18.000000    NaN   12.000000           NaN    2.000000   \n",
       "25%        NaN   24.000000    NaN   14.000000           NaN    3.000000   \n",
       "50%        NaN   26.000000    NaN   16.000000           NaN    3.000000   \n",
       "75%        NaN   33.000000    NaN   16.000000           NaN    4.000000   \n",
       "max        NaN   50.000000    NaN   21.000000           NaN    7.000000   \n",
       "\n",
       "           Fitness         Income       Miles  \n",
       "count   180.000000     180.000000  180.000000  \n",
       "unique         NaN            NaN         NaN  \n",
       "top            NaN            NaN         NaN  \n",
       "freq           NaN            NaN         NaN  \n",
       "mean      3.311111   53719.577778  103.194444  \n",
       "std       0.958869   16506.684226   51.863605  \n",
       "min       1.000000   29562.000000   21.000000  \n",
       "25%       3.000000   44058.750000   66.000000  \n",
       "50%       3.000000   50596.500000   94.000000  \n",
       "75%       4.000000   58668.000000  114.750000  \n",
       "max       5.000000  104581.000000  360.000000  "
      ]
     },
     "execution_count": 5,
     "metadata": {},
     "output_type": "execute_result"
    }
   ],
   "source": [
    "df.describe(include=['object','int64'])"
   ]
  },
  {
   "cell_type": "markdown",
   "id": "e8754b66",
   "metadata": {},
   "source": [
    "#### As we see Age,Income and Miles std >2  and there is a significant difference between mean and median."
   ]
  },
  {
   "cell_type": "code",
   "execution_count": 6,
   "id": "a16f16c0",
   "metadata": {
    "scrolled": false
   },
   "outputs": [
    {
     "data": {
      "image/png": "[encoded data removed]",
      "text/plain": [
       "<Figure size 1080x360 with 3 Axes>"
      ]
     },
     "metadata": {
      "needs_background": "light"
     },
     "output_type": "display_data"
    }
   ],
   "source": [
    "l=['Income','Miles','Age']\n",
    "fig, axs = plt.subplots(ncols=3,nrows=1,figsize=(15, 5))\n",
    "axs=axs.flatten()\n",
    "index=0\n",
    "for i in l:\n",
    "    sns.boxplot(y=i,data=df,ax=axs[index]).set(title=i)\n",
    "    index+=1"
   ]
  },
  {
   "cell_type": "markdown",
   "id": "b9907775",
   "metadata": {},
   "source": [
    "Most of the outliers are seems to be lies in upper bound (1.5IQR+Q3)"
   ]
  },
  {
   "cell_type": "markdown",
   "id": "ea20f7df",
   "metadata": {},
   "source": [
    "Lets see how many outliers we have in each"
   ]
  },
  {
   "cell_type": "code",
   "execution_count": 7,
   "id": "cd3c6f01",
   "metadata": {},
   "outputs": [
    {
     "name": "stdout",
     "output_type": "stream",
     "text": [
      "No of Outliers for Income - 19\n",
      "No of Outliers for Miles - 13\n",
      "No of Outliers for Age - 5\n"
     ]
    }
   ],
   "source": [
    "Upper_bound_I = (1.5*stats.iqr(df['Income']))+np.quantile(df['Income'],0.75)\n",
    "Upper_bound_A = (1.5*stats.iqr(df['Age']))+np.quantile(df['Age'],0.75)\n",
    "Upper_bound_M = (1.5*stats.iqr(df['Miles']))+np.quantile(df['Miles'],0.75)\n",
    "print('No of Outliers for Income - %s' %len(df.loc[df['Income']>Upper_bound_I]))\n",
    "print('No of Outliers for Miles - %s' %len(df.loc[df['Miles']>Upper_bound_M]))\n",
    "print('No of Outliers for Age - %s' %len(df.loc[df['Age']>Upper_bound_A]))"
   ]
  },
  {
   "cell_type": "markdown",
   "id": "ae853c16",
   "metadata": {},
   "source": [
    "(19+13+5)=37 this is 20 percent of dataset so its not advicable to remove it."
   ]
  },
  {
   "cell_type": "markdown",
   "id": "cdd6e5f2",
   "metadata": {},
   "source": [
    "#### How much percent of sales for each product (Marginal Probability)"
   ]
  },
  {
   "cell_type": "code",
   "execution_count": 8,
   "id": "9d313a4d",
   "metadata": {},
   "outputs": [
    {
     "data": {
      "text/plain": [
       "KP281    80\n",
       "KP481    60\n",
       "KP781    40\n",
       "Name: Product, dtype: int64"
      ]
     },
     "execution_count": 8,
     "metadata": {},
     "output_type": "execute_result"
    }
   ],
   "source": [
    "df['Product'].value_counts()"
   ]
  },
  {
   "cell_type": "code",
   "execution_count": 9,
   "id": "dd9fd8ed",
   "metadata": {},
   "outputs": [
    {
     "data": {
      "text/plain": [
       "KP281    44.444444\n",
       "KP481    33.333333\n",
       "KP781    22.222222\n",
       "Name: Product, dtype: float64"
      ]
     },
     "execution_count": 9,
     "metadata": {},
     "output_type": "execute_result"
    }
   ],
   "source": [
    "df['Product'].value_counts()*(100/180)"
   ]
  },
  {
   "cell_type": "code",
   "execution_count": 10,
   "id": "f9a6b528",
   "metadata": {},
   "outputs": [
    {
     "data": {
      "image/png": "[encoded data removed]",
      "text/plain": [
       "<Figure size 432x288 with 1 Axes>"
      ]
     },
     "metadata": {},
     "output_type": "display_data"
    }
   ],
   "source": [
    "df['Product'].value_counts().plot(kind='pie')\n",
    "plt.show()"
   ]
  },
  {
   "cell_type": "markdown",
   "id": "2a1632fb",
   "metadata": {},
   "source": [
    "#### How featurs like MaritalStatus and Gender affect the purchase (Conditional Probability)"
   ]
  },
  {
   "cell_type": "code",
   "execution_count": 11,
   "id": "0a28d511",
   "metadata": {},
   "outputs": [
    {
     "data": {
      "image/png": "[encoded data removed]",
      "text/plain": [
       "<Figure size 1080x360 with 2 Axes>"
      ]
     },
     "metadata": {
      "needs_background": "light"
     },
     "output_type": "display_data"
    }
   ],
   "source": [
    "l=['MaritalStatus','Gender']\n",
    "fig, axs = plt.subplots(ncols=2,nrows=1,figsize=(15, 5))\n",
    "axs=axs.flatten()\n",
    "index=0\n",
    "for i in l:\n",
    "    sns.countplot(x=i,hue='Product',data=df,ax=axs[index]).set(title=i)\n",
    "    index+=1"
   ]
  },
  {
   "cell_type": "markdown",
   "id": "58c8ddf8",
   "metadata": {},
   "source": [
    "##### From above  :\n",
    " - we can clearly say partnered customers buy the most number of products in all 3 types of product.\n",
    " - Male buys more number of advanced level product\n",
    "#### Above give us the pure count as we saw in describe we have more Male than Female so lets check the probability and see who have more probability to buy each product"
   ]
  },
  {
   "cell_type": "code",
   "execution_count": 12,
   "id": "25b35047",
   "metadata": {},
   "outputs": [],
   "source": [
    "no_of_females = len(df.loc[df['Gender'] == 'Female'])\n",
    "no_of_males = len(df.loc[df['Gender'] == 'Male'])\n",
    "no_of_single = len(df.loc[df['MaritalStatus'] == 'Single'])\n",
    "no_of_partnered = len(df.loc[df['MaritalStatus'] == 'Partnered'])\n",
    "df_g = pd.crosstab(df['Gender'],df['Product'])\n",
    "df_m = pd.crosstab(df['MaritalStatus'],df['Product'])"
   ]
  },
  {
   "cell_type": "code",
   "execution_count": 13,
   "id": "a6c50b2c",
   "metadata": {},
   "outputs": [
    {
     "data": {
      "text/html": [
       "<div>\n",
       "<style scoped>\n",
       "    .dataframe tbody tr th:only-of-type {\n",
       "        vertical-align: middle;\n",
       "    }\n",
       "\n",
       "    .dataframe tbody tr th {\n",
       "        vertical-align: top;\n",
       "    }\n",
       "\n",
       "    .dataframe thead th {\n",
       "        text-align: right;\n",
       "    }\n",
       "</style>\n",
       "<table border=\"1\" class=\"dataframe\">\n",
       "  <thead>\n",
       "    <tr style=\"text-align: right;\">\n",
       "      <th>Product</th>\n",
       "      <th>KP281</th>\n",
       "      <th>KP481</th>\n",
       "      <th>KP781</th>\n",
       "    </tr>\n",
       "    <tr>\n",
       "      <th>MaritalStatus</th>\n",
       "      <th></th>\n",
       "      <th></th>\n",
       "      <th></th>\n",
       "    </tr>\n",
       "  </thead>\n",
       "  <tbody>\n",
       "    <tr>\n",
       "      <th>Partnered</th>\n",
       "      <td>48</td>\n",
       "      <td>36</td>\n",
       "      <td>23</td>\n",
       "    </tr>\n",
       "    <tr>\n",
       "      <th>Single</th>\n",
       "      <td>32</td>\n",
       "      <td>24</td>\n",
       "      <td>17</td>\n",
       "    </tr>\n",
       "  </tbody>\n",
       "</table>\n",
       "</div>"
      ],
      "text/plain": [
       "Product        KP281  KP481  KP781\n",
       "MaritalStatus                     \n",
       "Partnered         48     36     23\n",
       "Single            32     24     17"
      ]
     },
     "execution_count": 13,
     "metadata": {},
     "output_type": "execute_result"
    }
   ],
   "source": [
    "df_m"
   ]
  },
  {
   "cell_type": "code",
   "execution_count": 14,
   "id": "fb155525",
   "metadata": {},
   "outputs": [
    {
     "data": {
      "text/html": [
       "<div>\n",
       "<style scoped>\n",
       "    .dataframe tbody tr th:only-of-type {\n",
       "        vertical-align: middle;\n",
       "    }\n",
       "\n",
       "    .dataframe tbody tr th {\n",
       "        vertical-align: top;\n",
       "    }\n",
       "\n",
       "    .dataframe thead th {\n",
       "        text-align: right;\n",
       "    }\n",
       "</style>\n",
       "<table border=\"1\" class=\"dataframe\">\n",
       "  <thead>\n",
       "    <tr style=\"text-align: right;\">\n",
       "      <th>Product</th>\n",
       "      <th>KP281</th>\n",
       "      <th>KP481</th>\n",
       "      <th>KP781</th>\n",
       "    </tr>\n",
       "    <tr>\n",
       "      <th>Gender</th>\n",
       "      <th></th>\n",
       "      <th></th>\n",
       "      <th></th>\n",
       "    </tr>\n",
       "  </thead>\n",
       "  <tbody>\n",
       "    <tr>\n",
       "      <th>Female</th>\n",
       "      <td>0.526316</td>\n",
       "      <td>0.381579</td>\n",
       "      <td>0.092105</td>\n",
       "    </tr>\n",
       "    <tr>\n",
       "      <th>Male</th>\n",
       "      <td>0.384615</td>\n",
       "      <td>0.298077</td>\n",
       "      <td>0.317308</td>\n",
       "    </tr>\n",
       "  </tbody>\n",
       "</table>\n",
       "</div>"
      ],
      "text/plain": [
       "Product     KP281     KP481     KP781\n",
       "Gender                               \n",
       "Female   0.526316  0.381579  0.092105\n",
       "Male     0.384615  0.298077  0.317308"
      ]
     },
     "execution_count": 14,
     "metadata": {},
     "output_type": "execute_result"
    }
   ],
   "source": [
    "df_g.loc['Female'] = df_g.loc['Female']/no_of_females\n",
    "df_g.loc['Male'] = df_g.loc['Male']/no_of_males\n",
    "df_g"
   ]
  },
  {
   "cell_type": "markdown",
   "id": "0b55747d",
   "metadata": {},
   "source": [
    "##### Above is conditional probabilities, for example 0.53 is probability of buying KP281 given customer is female.\n",
    "Conclusions:\n",
    " - Female prefer entry level\n",
    " - Males prefer advanced level"
   ]
  },
  {
   "cell_type": "code",
   "execution_count": 15,
   "id": "c4a3648e",
   "metadata": {},
   "outputs": [
    {
     "data": {
      "image/png": "[encoded data removed]",
      "text/plain": [
       "<Figure size 432x288 with 2 Axes>"
      ]
     },
     "metadata": {
      "needs_background": "light"
     },
     "output_type": "display_data"
    }
   ],
   "source": [
    "sns.heatmap(df_g,annot=True)\n",
    "plt.show()"
   ]
  },
  {
   "cell_type": "code",
   "execution_count": 16,
   "id": "f2de95c1",
   "metadata": {},
   "outputs": [
    {
     "data": {
      "text/html": [
       "<div>\n",
       "<style scoped>\n",
       "    .dataframe tbody tr th:only-of-type {\n",
       "        vertical-align: middle;\n",
       "    }\n",
       "\n",
       "    .dataframe tbody tr th {\n",
       "        vertical-align: top;\n",
       "    }\n",
       "\n",
       "    .dataframe thead th {\n",
       "        text-align: right;\n",
       "    }\n",
       "</style>\n",
       "<table border=\"1\" class=\"dataframe\">\n",
       "  <thead>\n",
       "    <tr style=\"text-align: right;\">\n",
       "      <th>Product</th>\n",
       "      <th>KP281</th>\n",
       "      <th>KP481</th>\n",
       "      <th>KP781</th>\n",
       "    </tr>\n",
       "    <tr>\n",
       "      <th>MaritalStatus</th>\n",
       "      <th></th>\n",
       "      <th></th>\n",
       "      <th></th>\n",
       "    </tr>\n",
       "  </thead>\n",
       "  <tbody>\n",
       "    <tr>\n",
       "      <th>Partnered</th>\n",
       "      <td>0.448598</td>\n",
       "      <td>0.336449</td>\n",
       "      <td>0.214953</td>\n",
       "    </tr>\n",
       "    <tr>\n",
       "      <th>Single</th>\n",
       "      <td>0.438356</td>\n",
       "      <td>0.328767</td>\n",
       "      <td>0.232877</td>\n",
       "    </tr>\n",
       "  </tbody>\n",
       "</table>\n",
       "</div>"
      ],
      "text/plain": [
       "Product           KP281     KP481     KP781\n",
       "MaritalStatus                              \n",
       "Partnered      0.448598  0.336449  0.214953\n",
       "Single         0.438356  0.328767  0.232877"
      ]
     },
     "execution_count": 16,
     "metadata": {},
     "output_type": "execute_result"
    }
   ],
   "source": [
    "df_m.loc['Single'] = df_m.loc['Single']/no_of_single\n",
    "df_m.loc['Partnered'] = df_m.loc['Partnered']/no_of_partnered\n",
    "df_m"
   ]
  },
  {
   "cell_type": "markdown",
   "id": "7fba1430",
   "metadata": {},
   "source": [
    "##### Conclusions\n",
    " - when we saw the graph it looked as partnered people buy more in all type of products but as we see the table Partnered and Single both have preety much the same probability in each product."
   ]
  },
  {
   "cell_type": "code",
   "execution_count": 17,
   "id": "40294dc7",
   "metadata": {},
   "outputs": [
    {
     "data": {
      "image/png": "[encoded data removed]",
      "text/plain": [
       "<Figure size 432x288 with 2 Axes>"
      ]
     },
     "metadata": {
      "needs_background": "light"
     },
     "output_type": "display_data"
    }
   ],
   "source": [
    "sns.heatmap(df_m,annot=True)\n",
    "plt.show()"
   ]
  },
  {
   "cell_type": "markdown",
   "id": "816bce4d",
   "metadata": {},
   "source": [
    "#### Lets compare \n",
    " - Single male vs Single female\n",
    " - Patnered male vs Patnered female\n",
    " - Single male vs Patnered male\n",
    " - Single female vs Patnered female\n",
    " \n",
    " ##### First lets go with graph as we followed in for above comparison then will go into probability"
   ]
  },
  {
   "cell_type": "code",
   "execution_count": 18,
   "id": "51e08c70",
   "metadata": {},
   "outputs": [
    {
     "data": {
      "image/png": "[encoded data removed]",
      "text/plain": [
       "<Figure size 1080x720 with 4 Axes>"
      ]
     },
     "metadata": {
      "needs_background": "light"
     },
     "output_type": "display_data"
    }
   ],
   "source": [
    "l=['Gender','MaritalStatus']\n",
    "k=['Single','Partnered','Male','Female']\n",
    "fig, axs = plt.subplots(ncols=2,nrows=2,figsize=(15, 10))\n",
    "axs=axs.flatten()\n",
    "index=0\n",
    "\n",
    "for i in l:\n",
    "    for _ in range(0,2):\n",
    "        if i == 'Gender':\n",
    "            t = k[index]+' Male vs '+k[index]+' Female'\n",
    "            d=df.loc[df['MaritalStatus'] == k[index]]\n",
    "        else:\n",
    "            t = 'Single '+k[index]+' vs Partnered '+k[index]\n",
    "            d=df.loc[df['Gender'] == k[index]]\n",
    "        sns.countplot(x=i,hue='Product',data=d,ax=axs[index]).set(title=t)\n",
    "        index+=1"
   ]
  },
  {
   "cell_type": "markdown",
   "id": "f856805f",
   "metadata": {},
   "source": [
    "### Conclusions\n",
    "#### Single Male vs Single Female\n",
    " - Single male out buy single female in all type of product except for mid level.\n",
    "#### Partnered Male vs Partenerd Female\n",
    " - Partenered Female prefers entry level model.\n",
    " - Patnered Male seems to buy equally.\n",
    "#### Single Male vs Patnered Male\n",
    " - Patnered male out buy Single male in all type of product.\n",
    "#### Single Female vs Patnered Female\n",
    " - Patnered Female out buy Single Female in all type of product.\n",
    " - Single Female prefers mid level and entry level product with almost same level.\n",
    "##### Best Buyers for each Product in terms of count.\n",
    " - KP281 -- Partnered Female\n",
    " - KP481 -- Patnered Male\n",
    " - KP781 -- Patnered Male\n",
    " \n",
    "#### Lets check Probaility for all different features"
   ]
  },
  {
   "cell_type": "code",
   "execution_count": 19,
   "id": "f125b612",
   "metadata": {},
   "outputs": [],
   "source": [
    "df_male = df.loc[df['Gender'] == 'Male']\n",
    "df_female = df.loc[df['Gender'] == 'Female']\n",
    "no_of_singleMales = len(df_male.loc[df_male['MaritalStatus'] == 'Single'])\n",
    "no_of_partneredMales = len(df_male.loc[df_male['MaritalStatus'] == 'Partnered'])\n",
    "no_of_singleFemales = len(df_female.loc[df_female['MaritalStatus'] == 'Single'])\n",
    "no_of_partneredFemales = len(df_female.loc[df_female['MaritalStatus'] == 'Partnered'])\n",
    "df_givenMale = pd.crosstab(df_male['MaritalStatus'],df_male['Product'])\n",
    "df_givenFemale = pd.crosstab(df_female['MaritalStatus'],df_female['Product'])"
   ]
  },
  {
   "cell_type": "code",
   "execution_count": 20,
   "id": "650037c6",
   "metadata": {},
   "outputs": [
    {
     "data": {
      "text/html": [
       "<div>\n",
       "<style scoped>\n",
       "    .dataframe tbody tr th:only-of-type {\n",
       "        vertical-align: middle;\n",
       "    }\n",
       "\n",
       "    .dataframe tbody tr th {\n",
       "        vertical-align: top;\n",
       "    }\n",
       "\n",
       "    .dataframe thead th {\n",
       "        text-align: right;\n",
       "    }\n",
       "</style>\n",
       "<table border=\"1\" class=\"dataframe\">\n",
       "  <thead>\n",
       "    <tr style=\"text-align: right;\">\n",
       "      <th>Product</th>\n",
       "      <th>KP281</th>\n",
       "      <th>KP481</th>\n",
       "      <th>KP781</th>\n",
       "      <th>Given</th>\n",
       "    </tr>\n",
       "    <tr>\n",
       "      <th>MaritalStatus</th>\n",
       "      <th></th>\n",
       "      <th></th>\n",
       "      <th></th>\n",
       "      <th></th>\n",
       "    </tr>\n",
       "  </thead>\n",
       "  <tbody>\n",
       "    <tr>\n",
       "      <th>Partnered</th>\n",
       "      <td>0.344262</td>\n",
       "      <td>0.344262</td>\n",
       "      <td>0.311475</td>\n",
       "      <td>Partnered Male</td>\n",
       "    </tr>\n",
       "    <tr>\n",
       "      <th>Single</th>\n",
       "      <td>0.441860</td>\n",
       "      <td>0.232558</td>\n",
       "      <td>0.325581</td>\n",
       "      <td>Single Male</td>\n",
       "    </tr>\n",
       "  </tbody>\n",
       "</table>\n",
       "</div>"
      ],
      "text/plain": [
       "Product           KP281     KP481     KP781           Given\n",
       "MaritalStatus                                              \n",
       "Partnered      0.344262  0.344262  0.311475  Partnered Male\n",
       "Single         0.441860  0.232558  0.325581     Single Male"
      ]
     },
     "execution_count": 20,
     "metadata": {},
     "output_type": "execute_result"
    }
   ],
   "source": [
    "df_givenMale.loc['Partnered'] = df_givenMale.loc['Partnered']/no_of_partneredMales\n",
    "df_givenMale.loc['Single'] = df_givenMale.loc['Single']/no_of_singleMales\n",
    "df_givenMale['Given']=['Partnered Male','Single Male']\n",
    "df_givenMale"
   ]
  },
  {
   "cell_type": "code",
   "execution_count": 21,
   "id": "f7fead6d",
   "metadata": {},
   "outputs": [
    {
     "data": {
      "text/html": [
       "<div>\n",
       "<style scoped>\n",
       "    .dataframe tbody tr th:only-of-type {\n",
       "        vertical-align: middle;\n",
       "    }\n",
       "\n",
       "    .dataframe tbody tr th {\n",
       "        vertical-align: top;\n",
       "    }\n",
       "\n",
       "    .dataframe thead th {\n",
       "        text-align: right;\n",
       "    }\n",
       "</style>\n",
       "<table border=\"1\" class=\"dataframe\">\n",
       "  <thead>\n",
       "    <tr style=\"text-align: right;\">\n",
       "      <th>Product</th>\n",
       "      <th>KP281</th>\n",
       "      <th>KP481</th>\n",
       "      <th>KP781</th>\n",
       "      <th>Given</th>\n",
       "    </tr>\n",
       "    <tr>\n",
       "      <th>MaritalStatus</th>\n",
       "      <th></th>\n",
       "      <th></th>\n",
       "      <th></th>\n",
       "      <th></th>\n",
       "    </tr>\n",
       "  </thead>\n",
       "  <tbody>\n",
       "    <tr>\n",
       "      <th>Partnered</th>\n",
       "      <td>0.586957</td>\n",
       "      <td>0.326087</td>\n",
       "      <td>0.086957</td>\n",
       "      <td>Partnered Female</td>\n",
       "    </tr>\n",
       "    <tr>\n",
       "      <th>Single</th>\n",
       "      <td>0.433333</td>\n",
       "      <td>0.466667</td>\n",
       "      <td>0.100000</td>\n",
       "      <td>Single Female</td>\n",
       "    </tr>\n",
       "  </tbody>\n",
       "</table>\n",
       "</div>"
      ],
      "text/plain": [
       "Product           KP281     KP481     KP781             Given\n",
       "MaritalStatus                                                \n",
       "Partnered      0.586957  0.326087  0.086957  Partnered Female\n",
       "Single         0.433333  0.466667  0.100000     Single Female"
      ]
     },
     "execution_count": 21,
     "metadata": {},
     "output_type": "execute_result"
    }
   ],
   "source": [
    "df_givenFemale.loc['Partnered'] = df_givenFemale.loc['Partnered']/no_of_partneredFemales\n",
    "df_givenFemale.loc['Single'] = df_givenFemale.loc['Single']/no_of_singleFemales\n",
    "df_givenFemale['Given']=['Partnered Female','Single Female']\n",
    "df_givenFemale"
   ]
  },
  {
   "cell_type": "code",
   "execution_count": 22,
   "id": "4a126b86",
   "metadata": {},
   "outputs": [
    {
     "data": {
      "text/html": [
       "<div>\n",
       "<style scoped>\n",
       "    .dataframe tbody tr th:only-of-type {\n",
       "        vertical-align: middle;\n",
       "    }\n",
       "\n",
       "    .dataframe tbody tr th {\n",
       "        vertical-align: top;\n",
       "    }\n",
       "\n",
       "    .dataframe thead th {\n",
       "        text-align: right;\n",
       "    }\n",
       "</style>\n",
       "<table border=\"1\" class=\"dataframe\">\n",
       "  <thead>\n",
       "    <tr style=\"text-align: right;\">\n",
       "      <th>Product</th>\n",
       "      <th>KP281</th>\n",
       "      <th>KP481</th>\n",
       "      <th>KP781</th>\n",
       "    </tr>\n",
       "    <tr>\n",
       "      <th>Given</th>\n",
       "      <th></th>\n",
       "      <th></th>\n",
       "      <th></th>\n",
       "    </tr>\n",
       "  </thead>\n",
       "  <tbody>\n",
       "    <tr>\n",
       "      <th>Partnered Male</th>\n",
       "      <td>0.344262</td>\n",
       "      <td>0.344262</td>\n",
       "      <td>0.311475</td>\n",
       "    </tr>\n",
       "    <tr>\n",
       "      <th>Single Male</th>\n",
       "      <td>0.441860</td>\n",
       "      <td>0.232558</td>\n",
       "      <td>0.325581</td>\n",
       "    </tr>\n",
       "    <tr>\n",
       "      <th>Partnered Female</th>\n",
       "      <td>0.586957</td>\n",
       "      <td>0.326087</td>\n",
       "      <td>0.086957</td>\n",
       "    </tr>\n",
       "    <tr>\n",
       "      <th>Single Female</th>\n",
       "      <td>0.433333</td>\n",
       "      <td>0.466667</td>\n",
       "      <td>0.100000</td>\n",
       "    </tr>\n",
       "  </tbody>\n",
       "</table>\n",
       "</div>"
      ],
      "text/plain": [
       "Product              KP281     KP481     KP781\n",
       "Given                                         \n",
       "Partnered Male    0.344262  0.344262  0.311475\n",
       "Single Male       0.441860  0.232558  0.325581\n",
       "Partnered Female  0.586957  0.326087  0.086957\n",
       "Single Female     0.433333  0.466667  0.100000"
      ]
     },
     "execution_count": 22,
     "metadata": {},
     "output_type": "execute_result"
    }
   ],
   "source": [
    "df_prob=df_givenMale.append(df_givenFemale)\n",
    "df_prob.set_index('Given',inplace=True)\n",
    "df_prob"
   ]
  },
  {
   "cell_type": "markdown",
   "id": "fa7d495c",
   "metadata": {},
   "source": [
    "#### Conclusions\n",
    " - Partnered Female have more probability to buy KP281\n",
    " - Single Female have more probability to buy KP481\n",
    " - Single Male have more probability to buy KP781 , Also Partnered Male have almost same probability. As per counts we thought Partnered buy out Single male in all type of product which is proved wrong here with probability."
   ]
  },
  {
   "cell_type": "code",
   "execution_count": 23,
   "id": "78d79006",
   "metadata": {},
   "outputs": [
    {
     "data": {
      "image/png": "[encoded data removed]",
      "text/plain": [
       "<Figure size 432x288 with 2 Axes>"
      ]
     },
     "metadata": {
      "needs_background": "light"
     },
     "output_type": "display_data"
    }
   ],
   "source": [
    "sns.heatmap(df_prob,annot=True)\n",
    "plt.show()"
   ]
  },
  {
   "cell_type": "markdown",
   "id": "49cbc7be",
   "metadata": {},
   "source": [
    "### Lets compare Income, Age , Education vs product, Plot with median instead of mean as we had some outliers."
   ]
  },
  {
   "cell_type": "code",
   "execution_count": 24,
   "id": "70173e9c",
   "metadata": {},
   "outputs": [
    {
     "data": {
      "image/png": "[encoded data removed]",
      "text/plain": [
       "<Figure size 1080x360 with 3 Axes>"
      ]
     },
     "metadata": {
      "needs_background": "light"
     },
     "output_type": "display_data"
    }
   ],
   "source": [
    "l=['Income','Age','Education']\n",
    "fig, axs = plt.subplots(ncols=3,nrows=1,figsize=(15, 5))\n",
    "axs=axs.flatten()\n",
    "index=0\n",
    "for i in l:\n",
    "    sns.barplot(x='Product',y=i,data=df,ax=axs[index],estimator=np.median).set(title=i)\n",
    "    index+=1"
   ]
  },
  {
   "cell_type": "markdown",
   "id": "051a2643",
   "metadata": {},
   "source": [
    "##### Income only seems to cause some significant changes , age seems to be almost equal and and education years poeple with more than 16 years prefer KP781 model\n",
    " - People with more income buys advanced model makes sense.\n",
    " \n",
    "#### Lets compare group of people with income and product.\n",
    " - Group of people by single / partnered and male /Female"
   ]
  },
  {
   "cell_type": "code",
   "execution_count": 25,
   "id": "e4f77f0d",
   "metadata": {},
   "outputs": [
    {
     "data": {
      "image/png": "[encoded data removed]",
      "text/plain": [
       "<Figure size 720x360 with 2 Axes>"
      ]
     },
     "metadata": {
      "needs_background": "light"
     },
     "output_type": "display_data"
    }
   ],
   "source": [
    "fig,axs=plt.subplots(nrows=1,ncols=2,figsize=(10,5))\n",
    "sns.barplot(x='Product',y='Income',hue='Gender',data=df,ax=axs[0]).set(title='Gender vs Income')\n",
    "sns.barplot(x='Product',y='Income',hue='MaritalStatus',data=df,ax=axs[1]).set(title='Marital Stauts vs Income')\n",
    "plt.show()"
   ]
  },
  {
   "cell_type": "markdown",
   "id": "de6bece0",
   "metadata": {},
   "source": [
    " - As we see in both it matches to above peeple with more income buys advanced model.\n",
    "\n",
    "#### Lets do probability and check."
   ]
  },
  {
   "cell_type": "code",
   "execution_count": 26,
   "id": "ab0d07f7",
   "metadata": {},
   "outputs": [],
   "source": [
    "df_1 = df.loc[df['Income'] >= np.median(df['Income'])]\n",
    "df_2 = df.loc[df['Income'] <= np.median(df['Income'])]\n",
    "df_Income1=pd.crosstab(df_1['Gender'],df_1['Product'])\n",
    "df_Income2=pd.crosstab(df_2['Gender'],df_2['Product'])"
   ]
  },
  {
   "cell_type": "code",
   "execution_count": 27,
   "id": "3634ccb0",
   "metadata": {},
   "outputs": [
    {
     "data": {
      "text/html": [
       "<div>\n",
       "<style scoped>\n",
       "    .dataframe tbody tr th:only-of-type {\n",
       "        vertical-align: middle;\n",
       "    }\n",
       "\n",
       "    .dataframe tbody tr th {\n",
       "        vertical-align: top;\n",
       "    }\n",
       "\n",
       "    .dataframe thead th {\n",
       "        text-align: right;\n",
       "    }\n",
       "</style>\n",
       "<table border=\"1\" class=\"dataframe\">\n",
       "  <thead>\n",
       "    <tr style=\"text-align: right;\">\n",
       "      <th>Product</th>\n",
       "      <th>KP281</th>\n",
       "      <th>KP481</th>\n",
       "      <th>KP781</th>\n",
       "    </tr>\n",
       "    <tr>\n",
       "      <th>Given</th>\n",
       "      <th></th>\n",
       "      <th></th>\n",
       "      <th></th>\n",
       "    </tr>\n",
       "  </thead>\n",
       "  <tbody>\n",
       "    <tr>\n",
       "      <th>Female Income &gt; Median</th>\n",
       "      <td>0.433333</td>\n",
       "      <td>0.333333</td>\n",
       "      <td>0.233333</td>\n",
       "    </tr>\n",
       "    <tr>\n",
       "      <th>Male Income &gt; Median</th>\n",
       "      <td>0.283333</td>\n",
       "      <td>0.250000</td>\n",
       "      <td>0.466667</td>\n",
       "    </tr>\n",
       "  </tbody>\n",
       "</table>\n",
       "</div>"
      ],
      "text/plain": [
       "Product                    KP281     KP481     KP781\n",
       "Given                                               \n",
       "Female Income > Median  0.433333  0.333333  0.233333\n",
       "Male Income > Median    0.283333  0.250000  0.466667"
      ]
     },
     "execution_count": 27,
     "metadata": {},
     "output_type": "execute_result"
    }
   ],
   "source": [
    "df_Income1.loc['Female'] = df_Income1.loc['Female']/sum(df_Income1.loc['Female'])\n",
    "df_Income1.loc['Male'] = df_Income1.loc['Male']/sum(df_Income1.loc['Male'])\n",
    "df_Income1['Given']=['Female Income > Median','Male Income > Median']\n",
    "df_Income1.set_index('Given',inplace=True)\n",
    "df_Income1"
   ]
  },
  {
   "cell_type": "code",
   "execution_count": 28,
   "id": "10ed44c7",
   "metadata": {},
   "outputs": [
    {
     "data": {
      "image/png": "[encoded data removed]",
      "text/plain": [
       "<Figure size 432x288 with 2 Axes>"
      ]
     },
     "metadata": {
      "needs_background": "light"
     },
     "output_type": "display_data"
    }
   ],
   "source": [
    "sns.heatmap(df_Income1,annot=True)\n",
    "plt.show()"
   ]
  },
  {
   "cell_type": "markdown",
   "id": "fce6001e",
   "metadata": {},
   "source": [
    "From above \n",
    " - we can say that Female with income greater than median also prefers entry model\n",
    " - Male with more income prefers advanced model"
   ]
  },
  {
   "cell_type": "code",
   "execution_count": 29,
   "id": "a2a23e97",
   "metadata": {},
   "outputs": [
    {
     "data": {
      "text/html": [
       "<div>\n",
       "<style scoped>\n",
       "    .dataframe tbody tr th:only-of-type {\n",
       "        vertical-align: middle;\n",
       "    }\n",
       "\n",
       "    .dataframe tbody tr th {\n",
       "        vertical-align: top;\n",
       "    }\n",
       "\n",
       "    .dataframe thead th {\n",
       "        text-align: right;\n",
       "    }\n",
       "</style>\n",
       "<table border=\"1\" class=\"dataframe\">\n",
       "  <thead>\n",
       "    <tr style=\"text-align: right;\">\n",
       "      <th>Product</th>\n",
       "      <th>KP281</th>\n",
       "      <th>KP481</th>\n",
       "      <th>KP781</th>\n",
       "    </tr>\n",
       "    <tr>\n",
       "      <th>Given</th>\n",
       "      <th></th>\n",
       "      <th></th>\n",
       "      <th></th>\n",
       "    </tr>\n",
       "  </thead>\n",
       "  <tbody>\n",
       "    <tr>\n",
       "      <th>Female Income &lt; Median</th>\n",
       "      <td>0.586957</td>\n",
       "      <td>0.413043</td>\n",
       "      <td>0.000000</td>\n",
       "    </tr>\n",
       "    <tr>\n",
       "      <th>Male Income &lt; Median</th>\n",
       "      <td>0.522727</td>\n",
       "      <td>0.363636</td>\n",
       "      <td>0.113636</td>\n",
       "    </tr>\n",
       "  </tbody>\n",
       "</table>\n",
       "</div>"
      ],
      "text/plain": [
       "Product                    KP281     KP481     KP781\n",
       "Given                                               \n",
       "Female Income < Median  0.586957  0.413043  0.000000\n",
       "Male Income < Median    0.522727  0.363636  0.113636"
      ]
     },
     "execution_count": 29,
     "metadata": {},
     "output_type": "execute_result"
    }
   ],
   "source": [
    "df_Income2.loc['Female'] = df_Income2.loc['Female']/sum(df_Income2.loc['Female'])\n",
    "df_Income2.loc['Male'] = df_Income2.loc['Male']/sum(df_Income2.loc['Male'])\n",
    "df_Income2['Given']=['Female Income < Median','Male Income < Median']\n",
    "df_Income2.set_index('Given',inplace=True)\n",
    "df_Income2"
   ]
  },
  {
   "cell_type": "code",
   "execution_count": 30,
   "id": "4c21310a",
   "metadata": {},
   "outputs": [
    {
     "data": {
      "image/png": "[encoded data removed]",
      "text/plain": [
       "<Figure size 432x288 with 2 Axes>"
      ]
     },
     "metadata": {
      "needs_background": "light"
     },
     "output_type": "display_data"
    }
   ],
   "source": [
    "sns.heatmap(df_Income2,annot=True)\n",
    "plt.show()"
   ]
  },
  {
   "cell_type": "markdown",
   "id": "2808e0db",
   "metadata": {},
   "source": [
    "From above \n",
    " - Irrespective of male or female people with income lesser than median prefer entry level model."
   ]
  },
  {
   "cell_type": "markdown",
   "id": "0b8bdd00",
   "metadata": {},
   "source": [
    "##### Lets comapre partnered female vs single female with income greater than median \n",
    " - Why we are taking this ? -- As we saw other categories seems to be perform as expected who have more income buys advanced model but here with more income goes for entry level product so lets compare and check how different female groups reacts."
   ]
  },
  {
   "cell_type": "code",
   "execution_count": 31,
   "id": "d2a0de29",
   "metadata": {},
   "outputs": [
    {
     "data": {
      "text/html": [
       "<div>\n",
       "<style scoped>\n",
       "    .dataframe tbody tr th:only-of-type {\n",
       "        vertical-align: middle;\n",
       "    }\n",
       "\n",
       "    .dataframe tbody tr th {\n",
       "        vertical-align: top;\n",
       "    }\n",
       "\n",
       "    .dataframe thead th {\n",
       "        text-align: right;\n",
       "    }\n",
       "</style>\n",
       "<table border=\"1\" class=\"dataframe\">\n",
       "  <thead>\n",
       "    <tr style=\"text-align: right;\">\n",
       "      <th>Product</th>\n",
       "      <th>KP281</th>\n",
       "      <th>KP481</th>\n",
       "      <th>KP781</th>\n",
       "    </tr>\n",
       "    <tr>\n",
       "      <th>Given</th>\n",
       "      <th></th>\n",
       "      <th></th>\n",
       "      <th></th>\n",
       "    </tr>\n",
       "  </thead>\n",
       "  <tbody>\n",
       "    <tr>\n",
       "      <th>Partnered Female Income &gt; Median</th>\n",
       "      <td>0.45</td>\n",
       "      <td>0.35</td>\n",
       "      <td>0.2</td>\n",
       "    </tr>\n",
       "    <tr>\n",
       "      <th>Single Female Income &gt; Median</th>\n",
       "      <td>0.40</td>\n",
       "      <td>0.30</td>\n",
       "      <td>0.3</td>\n",
       "    </tr>\n",
       "  </tbody>\n",
       "</table>\n",
       "</div>"
      ],
      "text/plain": [
       "Product                           KP281  KP481  KP781\n",
       "Given                                                \n",
       "Partnered Female Income > Median   0.45   0.35    0.2\n",
       "Single Female Income > Median      0.40   0.30    0.3"
      ]
     },
     "execution_count": 31,
     "metadata": {},
     "output_type": "execute_result"
    }
   ],
   "source": [
    "df_M = df_1.loc[df_1['Gender'] == 'Female']\n",
    "df_M = pd.crosstab(df_M['MaritalStatus'],df_M['Product'])\n",
    "df_M.loc['Single'] = df_M.loc['Single']/sum(df_M.loc['Single'])\n",
    "df_M.loc['Partnered'] = df_M.loc['Partnered']/sum(df_M.loc['Partnered'])\n",
    "df_M['Given']=['Partnered Female Income > Median','Single Female Income > Median']\n",
    "df_M.set_index('Given',inplace=True)\n",
    "df_M"
   ]
  },
  {
   "cell_type": "markdown",
   "id": "a44f70df",
   "metadata": {},
   "source": [
    "##### Conclusions\n",
    " - As per above nothing has changed both single and partnered women prefers entry level model."
   ]
  },
  {
   "cell_type": "code",
   "execution_count": 32,
   "id": "3417cb12",
   "metadata": {},
   "outputs": [
    {
     "data": {
      "image/png": "[encoded data removed]",
      "text/plain": [
       "<Figure size 432x288 with 2 Axes>"
      ]
     },
     "metadata": {
      "needs_background": "light"
     },
     "output_type": "display_data"
    }
   ],
   "source": [
    "sns.heatmap(df_M,annot=True)\n",
    "plt.show()"
   ]
  },
  {
   "cell_type": "markdown",
   "id": "580e8c05",
   "metadata": {},
   "source": [
    "#### Lets compare Age vs Income and Education vs Income for different product"
   ]
  },
  {
   "cell_type": "code",
   "execution_count": 33,
   "id": "cde4a0c8",
   "metadata": {
    "scrolled": true
   },
   "outputs": [
    {
     "data": {
      "image/png": "[encoded data removed]",
      "text/plain": [
       "<Figure size 1080x360 with 2 Axes>"
      ]
     },
     "metadata": {
      "needs_background": "light"
     },
     "output_type": "display_data"
    }
   ],
   "source": [
    "fig,axs=plt.subplots(nrows=1,ncols=2,figsize=(15,5))\n",
    "sns.scatterplot(x='Age',y='Income',hue='Product',data=df,ax=axs[0])\n",
    "sns.histplot(x='Education',y='Income',hue='Product',data=df,ax=axs[1])\n",
    "plt.show()"
   ]
  },
  {
   "cell_type": "markdown",
   "id": "ee5fa680",
   "metadata": {},
   "source": [
    " - Poeple with more Income buys advanced model irrespecctive of their age groups.\n",
    " - People who have education more than 16 years always prefer advanced model irrespective of their income.\n",
    " \n",
    "#### Lets check from where if income is greater than this number people will purely wants advanced level.\n",
    " - As per below we see if income is greater than 70,000 people purely wants advanced level."
   ]
  },
  {
   "cell_type": "code",
   "execution_count": 34,
   "id": "1a753254",
   "metadata": {},
   "outputs": [
    {
     "data": {
      "image/png": "[encoded data removed]",
      "text/plain": [
       "<Figure size 432x288 with 1 Axes>"
      ]
     },
     "metadata": {
      "needs_background": "light"
     },
     "output_type": "display_data"
    }
   ],
   "source": [
    "sns.histplot(x='Income',hue='Product',data=df)\n",
    "plt.show()"
   ]
  },
  {
   "cell_type": "markdown",
   "id": "a899a717",
   "metadata": {},
   "source": [
    "#### Correlation\n",
    "  Below have more correaltion and also it makes sense poeple who are fit would have used more and ran more miles.\n",
    " - Fitness and Miles \n",
    " - Fitness and usuage\n",
    " - Usage and Miles "
   ]
  },
  {
   "cell_type": "code",
   "execution_count": 35,
   "id": "0a038607",
   "metadata": {},
   "outputs": [
    {
     "data": {
      "image/png": "[encoded data removed]",
      "text/plain": [
       "<Figure size 432x288 with 2 Axes>"
      ]
     },
     "metadata": {
      "needs_background": "light"
     },
     "output_type": "display_data"
    }
   ],
   "source": [
    "sns.heatmap(df.corr(),annot=True).set(title= 'Correlation between all numeric columns in dataframe')\n",
    "plt.show()"
   ]
  },
  {
   "cell_type": "markdown",
   "id": "a1c4822f",
   "metadata": {},
   "source": [
    " - As per below graph we can say if customers wants to be in atleast level 4 fitness , he or she expected to run more than 125 Miles."
   ]
  },
  {
   "cell_type": "code",
   "execution_count": 36,
   "id": "ba529d1d",
   "metadata": {},
   "outputs": [
    {
     "data": {
      "text/plain": [
       "<AxesSubplot:xlabel='Fitness', ylabel='Miles'>"
      ]
     },
     "execution_count": 36,
     "metadata": {},
     "output_type": "execute_result"
    },
    {
     "data": {
      "image/png": "[encoded data removed]",
      "text/plain": [
       "<Figure size 432x288 with 1 Axes>"
      ]
     },
     "metadata": {
      "needs_background": "light"
     },
     "output_type": "display_data"
    }
   ],
   "source": [
    "sns.barplot(x='Fitness',y='Miles',data=df)"
   ]
  }
 ],
 "metadata": {
  "kernelspec": {
   "display_name": "Python 3 (ipykernel)",
   "language": "python",
   "name": "python3"
  },
  "language_info": {
   "codemirror_mode": {
    "name": "ipython",
    "version": 3
   },
   "file_extension": ".py",
   "mimetype": "text/x-python",
   "name": "python",
   "nbconvert_exporter": "python",
   "pygments_lexer": "ipython3",
   "version": "3.8.5"
  }
 },
 "nbformat": 4,
 "nbformat_minor": 5
}
