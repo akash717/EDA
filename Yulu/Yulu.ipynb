{
 "cells": [
  {
   "cell_type": "markdown",
   "id": "8df3ba79",
   "metadata": {},
   "source": [
    "#### Importing Libraries"
   ]
  },
  {
   "cell_type": "code",
   "execution_count": 1,
   "id": "bd78b4a8",
   "metadata": {},
   "outputs": [],
   "source": [
    "import pandas as pd\n",
    "import numpy as np\n",
    "from matplotlib import pyplot as plt\n",
    "import seaborn as sns\n",
    "from scipy import stats\n",
    "from statsmodels.graphics.gofplots import qqplot_2samples\n",
    "import warnings\n",
    "warnings.filterwarnings('ignore')"
   ]
  },
  {
   "cell_type": "markdown",
   "id": "bd79142e",
   "metadata": {},
   "source": [
    "#### Loading the data"
   ]
  },
  {
   "cell_type": "code",
   "execution_count": 2,
   "id": "06dc3ca1",
   "metadata": {},
   "outputs": [
    {
     "data": {
      "text/html": [
       "<div>\n",
       "<style scoped>\n",
       "    .dataframe tbody tr th:only-of-type {\n",
       "        vertical-align: middle;\n",
       "    }\n",
       "\n",
       "    .dataframe tbody tr th {\n",
       "        vertical-align: top;\n",
       "    }\n",
       "\n",
       "    .dataframe thead th {\n",
       "        text-align: right;\n",
       "    }\n",
       "</style>\n",
       "<table border=\"1\" class=\"dataframe\">\n",
       "  <thead>\n",
       "    <tr style=\"text-align: right;\">\n",
       "      <th></th>\n",
       "      <th>datetime</th>\n",
       "      <th>season</th>\n",
       "      <th>holiday</th>\n",
       "      <th>workingday</th>\n",
       "      <th>weather</th>\n",
       "      <th>temp</th>\n",
       "      <th>atemp</th>\n",
       "      <th>humidity</th>\n",
       "      <th>windspeed</th>\n",
       "      <th>casual</th>\n",
       "      <th>registered</th>\n",
       "      <th>count</th>\n",
       "    </tr>\n",
       "  </thead>\n",
       "  <tbody>\n",
       "    <tr>\n",
       "      <th>0</th>\n",
       "      <td>01-01-2011 00:00</td>\n",
       "      <td>1</td>\n",
       "      <td>0</td>\n",
       "      <td>0</td>\n",
       "      <td>1</td>\n",
       "      <td>9.84</td>\n",
       "      <td>14.395</td>\n",
       "      <td>81</td>\n",
       "      <td>0.0</td>\n",
       "      <td>3</td>\n",
       "      <td>13</td>\n",
       "      <td>16</td>\n",
       "    </tr>\n",
       "    <tr>\n",
       "      <th>1</th>\n",
       "      <td>01-01-2011 01:00</td>\n",
       "      <td>1</td>\n",
       "      <td>0</td>\n",
       "      <td>0</td>\n",
       "      <td>1</td>\n",
       "      <td>9.02</td>\n",
       "      <td>13.635</td>\n",
       "      <td>80</td>\n",
       "      <td>0.0</td>\n",
       "      <td>8</td>\n",
       "      <td>32</td>\n",
       "      <td>40</td>\n",
       "    </tr>\n",
       "    <tr>\n",
       "      <th>2</th>\n",
       "      <td>01-01-2011 02:00</td>\n",
       "      <td>1</td>\n",
       "      <td>0</td>\n",
       "      <td>0</td>\n",
       "      <td>1</td>\n",
       "      <td>9.02</td>\n",
       "      <td>13.635</td>\n",
       "      <td>80</td>\n",
       "      <td>0.0</td>\n",
       "      <td>5</td>\n",
       "      <td>27</td>\n",
       "      <td>32</td>\n",
       "    </tr>\n",
       "    <tr>\n",
       "      <th>3</th>\n",
       "      <td>01-01-2011 03:00</td>\n",
       "      <td>1</td>\n",
       "      <td>0</td>\n",
       "      <td>0</td>\n",
       "      <td>1</td>\n",
       "      <td>9.84</td>\n",
       "      <td>14.395</td>\n",
       "      <td>75</td>\n",
       "      <td>0.0</td>\n",
       "      <td>3</td>\n",
       "      <td>10</td>\n",
       "      <td>13</td>\n",
       "    </tr>\n",
       "    <tr>\n",
       "      <th>4</th>\n",
       "      <td>01-01-2011 04:00</td>\n",
       "      <td>1</td>\n",
       "      <td>0</td>\n",
       "      <td>0</td>\n",
       "      <td>1</td>\n",
       "      <td>9.84</td>\n",
       "      <td>14.395</td>\n",
       "      <td>75</td>\n",
       "      <td>0.0</td>\n",
       "      <td>0</td>\n",
       "      <td>1</td>\n",
       "      <td>1</td>\n",
       "    </tr>\n",
       "  </tbody>\n",
       "</table>\n",
       "</div>"
      ],
      "text/plain": [
       "           datetime  season  holiday  workingday  weather  temp   atemp  \\\n",
       "0  01-01-2011 00:00       1        0           0        1  9.84  14.395   \n",
       "1  01-01-2011 01:00       1        0           0        1  9.02  13.635   \n",
       "2  01-01-2011 02:00       1        0           0        1  9.02  13.635   \n",
       "3  01-01-2011 03:00       1        0           0        1  9.84  14.395   \n",
       "4  01-01-2011 04:00       1        0           0        1  9.84  14.395   \n",
       "\n",
       "   humidity  windspeed  casual  registered  count  \n",
       "0        81        0.0       3          13     16  \n",
       "1        80        0.0       8          32     40  \n",
       "2        80        0.0       5          27     32  \n",
       "3        75        0.0       3          10     13  \n",
       "4        75        0.0       0           1      1  "
      ]
     },
     "execution_count": 2,
     "metadata": {},
     "output_type": "execute_result"
    }
   ],
   "source": [
    "df = pd.read_csv('C:/Users/akash/Desktop/Scaler/Case_Study/Yulu/yulu.csv')\n",
    "df.head()"
   ]
  },
  {
   "cell_type": "markdown",
   "id": "9ddbcc57",
   "metadata": {},
   "source": [
    "#### No missing values"
   ]
  },
  {
   "cell_type": "code",
   "execution_count": 3,
   "id": "4315a30e",
   "metadata": {},
   "outputs": [
    {
     "name": "stdout",
     "output_type": "stream",
     "text": [
      "<class 'pandas.core.frame.DataFrame'>\n",
      "RangeIndex: 10886 entries, 0 to 10885\n",
      "Data columns (total 12 columns):\n",
      " #   Column      Non-Null Count  Dtype  \n",
      "---  ------      --------------  -----  \n",
      " 0   datetime    10886 non-null  object \n",
      " 1   season      10886 non-null  int64  \n",
      " 2   holiday     10886 non-null  int64  \n",
      " 3   workingday  10886 non-null  int64  \n",
      " 4   weather     10886 non-null  int64  \n",
      " 5   temp        10886 non-null  float64\n",
      " 6   atemp       10886 non-null  float64\n",
      " 7   humidity    10886 non-null  int64  \n",
      " 8   windspeed   10886 non-null  float64\n",
      " 9   casual      10886 non-null  int64  \n",
      " 10  registered  10886 non-null  int64  \n",
      " 11  count       10886 non-null  int64  \n",
      "dtypes: float64(3), int64(8), object(1)\n",
      "memory usage: 1020.7+ KB\n"
     ]
    }
   ],
   "source": [
    "df.info()"
   ]
  },
  {
   "cell_type": "code",
   "execution_count": 4,
   "id": "3fce3ef0",
   "metadata": {},
   "outputs": [
    {
     "name": "stdout",
     "output_type": "stream",
     "text": [
      "season - [1 2 3 4]\n",
      "holiday - [0 1]\n",
      "workingday - [0 1]\n",
      "Weather - [1 2 3 4]\n"
     ]
    }
   ],
   "source": [
    "print(\"season - %s\"  %df['season'].unique())\n",
    "print(\"holiday - %s\"  %df['holiday'].unique())\n",
    "print(\"workingday - %s\"  %df['workingday'].unique())\n",
    "print(\"Weather - %s\"  %df['weather'].unique())"
   ]
  },
  {
   "cell_type": "markdown",
   "id": "d921962e",
   "metadata": {},
   "source": [
    "#### Converting Categorical values to object"
   ]
  },
  {
   "cell_type": "code",
   "execution_count": 5,
   "id": "743cdc08",
   "metadata": {},
   "outputs": [],
   "source": [
    "df['season'] = df['season'].astype('object')\n",
    "df['holiday'] = df['holiday'].astype('object')\n",
    "df['workingday'] = df['workingday'].astype('object')\n",
    "df['Weather'] = df['season'].astype('object')"
   ]
  },
  {
   "cell_type": "code",
   "execution_count": 6,
   "id": "031afb46",
   "metadata": {},
   "outputs": [
    {
     "data": {
      "text/html": [
       "<div>\n",
       "<style scoped>\n",
       "    .dataframe tbody tr th:only-of-type {\n",
       "        vertical-align: middle;\n",
       "    }\n",
       "\n",
       "    .dataframe tbody tr th {\n",
       "        vertical-align: top;\n",
       "    }\n",
       "\n",
       "    .dataframe thead th {\n",
       "        text-align: right;\n",
       "    }\n",
       "</style>\n",
       "<table border=\"1\" class=\"dataframe\">\n",
       "  <thead>\n",
       "    <tr style=\"text-align: right;\">\n",
       "      <th></th>\n",
       "      <th>datetime</th>\n",
       "      <th>season</th>\n",
       "      <th>holiday</th>\n",
       "      <th>workingday</th>\n",
       "      <th>weather</th>\n",
       "      <th>temp</th>\n",
       "      <th>atemp</th>\n",
       "      <th>humidity</th>\n",
       "      <th>windspeed</th>\n",
       "      <th>casual</th>\n",
       "      <th>registered</th>\n",
       "      <th>count</th>\n",
       "      <th>Weather</th>\n",
       "    </tr>\n",
       "  </thead>\n",
       "  <tbody>\n",
       "    <tr>\n",
       "      <th>count</th>\n",
       "      <td>10886</td>\n",
       "      <td>10886.0</td>\n",
       "      <td>10886.0</td>\n",
       "      <td>10886.0</td>\n",
       "      <td>10886.000000</td>\n",
       "      <td>10886.00000</td>\n",
       "      <td>10886.000000</td>\n",
       "      <td>10886.000000</td>\n",
       "      <td>10886.000000</td>\n",
       "      <td>10886.000000</td>\n",
       "      <td>10886.000000</td>\n",
       "      <td>10886.000000</td>\n",
       "      <td>10886.0</td>\n",
       "    </tr>\n",
       "    <tr>\n",
       "      <th>unique</th>\n",
       "      <td>10886</td>\n",
       "      <td>4.0</td>\n",
       "      <td>2.0</td>\n",
       "      <td>2.0</td>\n",
       "      <td>NaN</td>\n",
       "      <td>NaN</td>\n",
       "      <td>NaN</td>\n",
       "      <td>NaN</td>\n",
       "      <td>NaN</td>\n",
       "      <td>NaN</td>\n",
       "      <td>NaN</td>\n",
       "      <td>NaN</td>\n",
       "      <td>4.0</td>\n",
       "    </tr>\n",
       "    <tr>\n",
       "      <th>top</th>\n",
       "      <td>10-01-2012 09:00</td>\n",
       "      <td>4.0</td>\n",
       "      <td>0.0</td>\n",
       "      <td>1.0</td>\n",
       "      <td>NaN</td>\n",
       "      <td>NaN</td>\n",
       "      <td>NaN</td>\n",
       "      <td>NaN</td>\n",
       "      <td>NaN</td>\n",
       "      <td>NaN</td>\n",
       "      <td>NaN</td>\n",
       "      <td>NaN</td>\n",
       "      <td>4.0</td>\n",
       "    </tr>\n",
       "    <tr>\n",
       "      <th>freq</th>\n",
       "      <td>1</td>\n",
       "      <td>2734.0</td>\n",
       "      <td>10575.0</td>\n",
       "      <td>7412.0</td>\n",
       "      <td>NaN</td>\n",
       "      <td>NaN</td>\n",
       "      <td>NaN</td>\n",
       "      <td>NaN</td>\n",
       "      <td>NaN</td>\n",
       "      <td>NaN</td>\n",
       "      <td>NaN</td>\n",
       "      <td>NaN</td>\n",
       "      <td>2734.0</td>\n",
       "    </tr>\n",
       "    <tr>\n",
       "      <th>mean</th>\n",
       "      <td>NaN</td>\n",
       "      <td>NaN</td>\n",
       "      <td>NaN</td>\n",
       "      <td>NaN</td>\n",
       "      <td>1.418427</td>\n",
       "      <td>20.23086</td>\n",
       "      <td>23.655084</td>\n",
       "      <td>61.886460</td>\n",
       "      <td>12.799395</td>\n",
       "      <td>36.021955</td>\n",
       "      <td>155.552177</td>\n",
       "      <td>191.574132</td>\n",
       "      <td>NaN</td>\n",
       "    </tr>\n",
       "    <tr>\n",
       "      <th>std</th>\n",
       "      <td>NaN</td>\n",
       "      <td>NaN</td>\n",
       "      <td>NaN</td>\n",
       "      <td>NaN</td>\n",
       "      <td>0.633839</td>\n",
       "      <td>7.79159</td>\n",
       "      <td>8.474601</td>\n",
       "      <td>19.245033</td>\n",
       "      <td>8.164537</td>\n",
       "      <td>49.960477</td>\n",
       "      <td>151.039033</td>\n",
       "      <td>181.144454</td>\n",
       "      <td>NaN</td>\n",
       "    </tr>\n",
       "    <tr>\n",
       "      <th>min</th>\n",
       "      <td>NaN</td>\n",
       "      <td>NaN</td>\n",
       "      <td>NaN</td>\n",
       "      <td>NaN</td>\n",
       "      <td>1.000000</td>\n",
       "      <td>0.82000</td>\n",
       "      <td>0.760000</td>\n",
       "      <td>0.000000</td>\n",
       "      <td>0.000000</td>\n",
       "      <td>0.000000</td>\n",
       "      <td>0.000000</td>\n",
       "      <td>1.000000</td>\n",
       "      <td>NaN</td>\n",
       "    </tr>\n",
       "    <tr>\n",
       "      <th>25%</th>\n",
       "      <td>NaN</td>\n",
       "      <td>NaN</td>\n",
       "      <td>NaN</td>\n",
       "      <td>NaN</td>\n",
       "      <td>1.000000</td>\n",
       "      <td>13.94000</td>\n",
       "      <td>16.665000</td>\n",
       "      <td>47.000000</td>\n",
       "      <td>7.001500</td>\n",
       "      <td>4.000000</td>\n",
       "      <td>36.000000</td>\n",
       "      <td>42.000000</td>\n",
       "      <td>NaN</td>\n",
       "    </tr>\n",
       "    <tr>\n",
       "      <th>50%</th>\n",
       "      <td>NaN</td>\n",
       "      <td>NaN</td>\n",
       "      <td>NaN</td>\n",
       "      <td>NaN</td>\n",
       "      <td>1.000000</td>\n",
       "      <td>20.50000</td>\n",
       "      <td>24.240000</td>\n",
       "      <td>62.000000</td>\n",
       "      <td>12.998000</td>\n",
       "      <td>17.000000</td>\n",
       "      <td>118.000000</td>\n",
       "      <td>145.000000</td>\n",
       "      <td>NaN</td>\n",
       "    </tr>\n",
       "    <tr>\n",
       "      <th>75%</th>\n",
       "      <td>NaN</td>\n",
       "      <td>NaN</td>\n",
       "      <td>NaN</td>\n",
       "      <td>NaN</td>\n",
       "      <td>2.000000</td>\n",
       "      <td>26.24000</td>\n",
       "      <td>31.060000</td>\n",
       "      <td>77.000000</td>\n",
       "      <td>16.997900</td>\n",
       "      <td>49.000000</td>\n",
       "      <td>222.000000</td>\n",
       "      <td>284.000000</td>\n",
       "      <td>NaN</td>\n",
       "    </tr>\n",
       "    <tr>\n",
       "      <th>max</th>\n",
       "      <td>NaN</td>\n",
       "      <td>NaN</td>\n",
       "      <td>NaN</td>\n",
       "      <td>NaN</td>\n",
       "      <td>4.000000</td>\n",
       "      <td>41.00000</td>\n",
       "      <td>45.455000</td>\n",
       "      <td>100.000000</td>\n",
       "      <td>56.996900</td>\n",
       "      <td>367.000000</td>\n",
       "      <td>886.000000</td>\n",
       "      <td>977.000000</td>\n",
       "      <td>NaN</td>\n",
       "    </tr>\n",
       "  </tbody>\n",
       "</table>\n",
       "</div>"
      ],
      "text/plain": [
       "                datetime   season  holiday  workingday       weather  \\\n",
       "count              10886  10886.0  10886.0     10886.0  10886.000000   \n",
       "unique             10886      4.0      2.0         2.0           NaN   \n",
       "top     10-01-2012 09:00      4.0      0.0         1.0           NaN   \n",
       "freq                   1   2734.0  10575.0      7412.0           NaN   \n",
       "mean                 NaN      NaN      NaN         NaN      1.418427   \n",
       "std                  NaN      NaN      NaN         NaN      0.633839   \n",
       "min                  NaN      NaN      NaN         NaN      1.000000   \n",
       "25%                  NaN      NaN      NaN         NaN      1.000000   \n",
       "50%                  NaN      NaN      NaN         NaN      1.000000   \n",
       "75%                  NaN      NaN      NaN         NaN      2.000000   \n",
       "max                  NaN      NaN      NaN         NaN      4.000000   \n",
       "\n",
       "               temp         atemp      humidity     windspeed        casual  \\\n",
       "count   10886.00000  10886.000000  10886.000000  10886.000000  10886.000000   \n",
       "unique          NaN           NaN           NaN           NaN           NaN   \n",
       "top             NaN           NaN           NaN           NaN           NaN   \n",
       "freq            NaN           NaN           NaN           NaN           NaN   \n",
       "mean       20.23086     23.655084     61.886460     12.799395     36.021955   \n",
       "std         7.79159      8.474601     19.245033      8.164537     49.960477   \n",
       "min         0.82000      0.760000      0.000000      0.000000      0.000000   \n",
       "25%        13.94000     16.665000     47.000000      7.001500      4.000000   \n",
       "50%        20.50000     24.240000     62.000000     12.998000     17.000000   \n",
       "75%        26.24000     31.060000     77.000000     16.997900     49.000000   \n",
       "max        41.00000     45.455000    100.000000     56.996900    367.000000   \n",
       "\n",
       "          registered         count  Weather  \n",
       "count   10886.000000  10886.000000  10886.0  \n",
       "unique           NaN           NaN      4.0  \n",
       "top              NaN           NaN      4.0  \n",
       "freq             NaN           NaN   2734.0  \n",
       "mean      155.552177    191.574132      NaN  \n",
       "std       151.039033    181.144454      NaN  \n",
       "min         0.000000      1.000000      NaN  \n",
       "25%        36.000000     42.000000      NaN  \n",
       "50%       118.000000    145.000000      NaN  \n",
       "75%       222.000000    284.000000      NaN  \n",
       "max       886.000000    977.000000      NaN  "
      ]
     },
     "execution_count": 6,
     "metadata": {},
     "output_type": "execute_result"
    }
   ],
   "source": [
    "df.describe(include = ['int64' , 'float64', 'object'])"
   ]
  },
  {
   "cell_type": "markdown",
   "id": "a5400179",
   "metadata": {},
   "source": [
    "#### Checking for outliers in casual and registered as their meian and mean have significant difference."
   ]
  },
  {
   "cell_type": "code",
   "execution_count": 7,
   "id": "a3a47c47",
   "metadata": {},
   "outputs": [
    {
     "data": {
      "image/png": "[encoded data removed]",
      "text/plain": [
       "<Figure size 1080x360 with 3 Axes>"
      ]
     },
     "metadata": {
      "needs_background": "light"
     },
     "output_type": "display_data"
    }
   ],
   "source": [
    "l = ['casual','registered','count']\n",
    "fig,axs = plt.subplots(ncols = 3, nrows = 1,figsize=(15,5))\n",
    "index=0\n",
    "for i in l:\n",
    "    sns.boxplot(y = i , data = df , ax = axs[index])\n",
    "    index=index+1"
   ]
  },
  {
   "cell_type": "code",
   "execution_count": 8,
   "id": "25f2c77c",
   "metadata": {},
   "outputs": [
    {
     "name": "stdout",
     "output_type": "stream",
     "text": [
      "No of Outliers for casual - 749\n",
      "No of Outliers for registered - 423\n",
      "No of Outliers for count - 300\n"
     ]
    }
   ],
   "source": [
    "Upper_bound_C = (1.5*stats.iqr(df['casual']))+np.quantile(df['casual'],0.75)\n",
    "Upper_bound_R = (1.5*stats.iqr(df['registered']))+np.quantile(df['registered'],0.75)\n",
    "Upper_bound_Co = (1.5*stats.iqr(df['count']))+np.quantile(df['count'],0.75)\n",
    "print('No of Outliers for casual - %s' %len(df.loc[df['casual']>Upper_bound_C]))\n",
    "print('No of Outliers for registered - %s' %len(df.loc[df['registered']>Upper_bound_R]))\n",
    "print('No of Outliers for count - %s' %len(df.loc[df['count']>Upper_bound_Co]))"
   ]
  },
  {
   "cell_type": "markdown",
   "id": "7bc93275",
   "metadata": {},
   "source": [
    "#### Temp have positive correlation with count\n",
    "#### humidity have negative correlation with count"
   ]
  },
  {
   "cell_type": "code",
   "execution_count": 9,
   "id": "7ed742bb",
   "metadata": {},
   "outputs": [
    {
     "data": {
      "text/plain": [
       "<AxesSubplot:>"
      ]
     },
     "execution_count": 9,
     "metadata": {},
     "output_type": "execute_result"
    },
    {
     "data": {
      "image/png": "[encoded data removed]",
      "text/plain": [
       "<Figure size 432x288 with 2 Axes>"
      ]
     },
     "metadata": {
      "needs_background": "light"
     },
     "output_type": "display_data"
    }
   ],
   "source": [
    "sns.heatmap(df.corr(method=\"spearman\"),annot=True)"
   ]
  },
  {
   "cell_type": "markdown",
   "id": "67968164",
   "metadata": {},
   "source": [
    "#### We cant remove all of these as it is 10 percent of our data."
   ]
  },
  {
   "cell_type": "code",
   "execution_count": 10,
   "id": "3a6f2c6b",
   "metadata": {},
   "outputs": [
    {
     "data": {
      "text/plain": [
       "10.490538306081206"
      ]
     },
     "execution_count": 10,
     "metadata": {},
     "output_type": "execute_result"
    }
   ],
   "source": [
    "(len(df[(df['casual']>Upper_bound_C) | (df['registered']>Upper_bound_R) | (df['count']>Upper_bound_Co)])/len(df))*100"
   ]
  },
  {
   "cell_type": "markdown",
   "id": "b67bd3ac",
   "metadata": {},
   "source": [
    "#### Lets check for common rows which have outlier in all 3 columns -- As it is only .275 percent ,this we can remove it from dataframe"
   ]
  },
  {
   "cell_type": "code",
   "execution_count": 11,
   "id": "e0bf6bdc",
   "metadata": {},
   "outputs": [
    {
     "data": {
      "text/plain": [
       "0.275583318023149"
      ]
     },
     "execution_count": 11,
     "metadata": {},
     "output_type": "execute_result"
    }
   ],
   "source": [
    "(len(df[(df['casual']>Upper_bound_C) & (df['registered']>Upper_bound_R) & (df['count']>Upper_bound_Co)])/len(df))*100"
   ]
  },
  {
   "cell_type": "code",
   "execution_count": 12,
   "id": "3bc64cd0",
   "metadata": {},
   "outputs": [],
   "source": [
    "drop = df[(df['casual']>Upper_bound_C) & (df['registered']>Upper_bound_R) & (df['count']>Upper_bound_Co)].index\n",
    "df.drop(drop,inplace=True)"
   ]
  },
  {
   "cell_type": "markdown",
   "id": "c9f722dc",
   "metadata": {},
   "source": [
    "#### As we see here count is mostly high in weather 1 and weather 2\n",
    "#### As per season count is mostly high in season 2 and season 3"
   ]
  },
  {
   "cell_type": "code",
   "execution_count": 13,
   "id": "1f589cab",
   "metadata": {},
   "outputs": [
    {
     "data": {
      "image/png": "[encoded data removed]",
      "text/plain": [
       "<Figure size 432x288 with 1 Axes>"
      ]
     },
     "metadata": {
      "needs_background": "light"
     },
     "output_type": "display_data"
    }
   ],
   "source": [
    "sns.barplot(x='season',y='count',hue='weather',data=df)\n",
    "plt.show()"
   ]
  },
  {
   "cell_type": "markdown",
   "id": "03c84065",
   "metadata": {},
   "source": [
    "#### Working Day has effect on number of electric cycles rented"
   ]
  },
  {
   "cell_type": "markdown",
   "id": "c9c6c2af",
   "metadata": {},
   "source": [
    "#### The mean looks more are less same as per the graph lets do Hypothesis test to find out"
   ]
  },
  {
   "cell_type": "code",
   "execution_count": 14,
   "id": "08c9c3bb",
   "metadata": {},
   "outputs": [
    {
     "data": {
      "image/png": "[encoded data removed]",
      "text/plain": [
       "<Figure size 432x288 with 1 Axes>"
      ]
     },
     "metadata": {
      "needs_background": "light"
     },
     "output_type": "display_data"
    }
   ],
   "source": [
    "sns.barplot(y='count',x='workingday',data=df)\n",
    "plt.show()"
   ]
  },
  {
   "cell_type": "markdown",
   "id": "19d79ae2",
   "metadata": {},
   "source": [
    "### T- Test - two sided"
   ]
  },
  {
   "cell_type": "markdown",
   "id": "b6dc8667",
   "metadata": {},
   "source": [
    "Assuming counts of cycle for different datetime is independent events\n",
    "\n",
    "Null Hypothessis is both population mean of number of cycles/bikes rented are same for Working and non working.\n",
    "\n",
    "Alternative Hypothesis is both population mean of number of cycles/bikes rented are not equal for Working and non working.\n",
    "\n",
    "Significance = 5%"
   ]
  },
  {
   "cell_type": "code",
   "execution_count": 15,
   "id": "34170e02",
   "metadata": {},
   "outputs": [],
   "source": [
    "df_working = df[df['workingday'] == 1]\n",
    "df_nonworking = df[df['workingday'] == 0]"
   ]
  },
  {
   "cell_type": "code",
   "execution_count": 16,
   "id": "019cb636",
   "metadata": {},
   "outputs": [
    {
     "name": "stdout",
     "output_type": "stream",
     "text": [
      "workingday 0 Variance is 30086.950350982017\n",
      "workingday 1 Variance is 32668.883306255997\n"
     ]
    },
    {
     "data": {
      "image/png": "[encoded data removed]",
      "text/plain": [
       "<Figure size 1080x216 with 2 Axes>"
      ]
     },
     "metadata": {
      "needs_background": "light"
     },
     "output_type": "display_data"
    }
   ],
   "source": [
    "fig,axs = plt.subplots(nrows = 1,ncols = 2,figsize=(15,3))\n",
    "index = 0\n",
    "axs = axs.flatten()\n",
    "for i in range(0,2):\n",
    "    sns.histplot(x = 'count',data= df[df['workingday']==i],ax = axs[index]).set(title = \"workingday {}\".format(i))\n",
    "    print(\"workingday {} Variance is {}\".format(i,np.var(df[df['workingday']==i]['count'])))\n",
    "    index=index+1\n",
    "plt.show()"
   ]
  },
  {
   "cell_type": "code",
   "execution_count": 17,
   "id": "24f83060",
   "metadata": {},
   "outputs": [
    {
     "data": {
      "text/plain": [
       "Ttest_indResult(statistic=0.6161762184303081, pvalue=0.5377911440927007)"
      ]
     },
     "execution_count": 17,
     "metadata": {},
     "output_type": "execute_result"
    }
   ],
   "source": [
    "stats.ttest_ind(df_working['count'],df_nonworking['count'])"
   ]
  },
  {
   "cell_type": "markdown",
   "id": "5ee4e70d",
   "metadata": {},
   "source": [
    "#### pvalue is significantly greater than .05 , so we can conclude with it that both population mean are same."
   ]
  },
  {
   "cell_type": "markdown",
   "id": "59f18808",
   "metadata": {},
   "source": [
    "### Anova"
   ]
  },
  {
   "cell_type": "markdown",
   "id": "0ee89bcb",
   "metadata": {},
   "source": [
    "#### Weather  --  No. of cycles rented is similar or different in different weathers"
   ]
  },
  {
   "cell_type": "code",
   "execution_count": 18,
   "id": "f255e969",
   "metadata": {},
   "outputs": [
    {
     "data": {
      "text/plain": [
       "array([1, 2, 3, 4], dtype=int64)"
      ]
     },
     "execution_count": 18,
     "metadata": {},
     "output_type": "execute_result"
    }
   ],
   "source": [
    "df['weather'].unique()"
   ]
  },
  {
   "cell_type": "markdown",
   "id": "42077e38",
   "metadata": {},
   "source": [
    "#### We see noticeable differnce in sample mean"
   ]
  },
  {
   "cell_type": "code",
   "execution_count": 19,
   "id": "48e64a5c",
   "metadata": {},
   "outputs": [
    {
     "data": {
      "image/png": "[encoded data removed]",
      "text/plain": [
       "<Figure size 432x288 with 1 Axes>"
      ]
     },
     "metadata": {
      "needs_background": "light"
     },
     "output_type": "display_data"
    }
   ],
   "source": [
    "sns.barplot(y='count',x='weather',data=df)\n",
    "plt.show()"
   ]
  },
  {
   "cell_type": "markdown",
   "id": "c03a6d79",
   "metadata": {},
   "source": [
    "Null Hypothesis -- All mean populations of the weather are same\n",
    "\n",
    "Alternative Hypothesis -- Not all are equal\n",
    "\n",
    "Significance level = 5% percent"
   ]
  },
  {
   "cell_type": "code",
   "execution_count": 20,
   "id": "f1f16bed",
   "metadata": {},
   "outputs": [],
   "source": [
    "df_1=df[df['weather']==1]\n",
    "df_2=df[df['weather']==2]\n",
    "df_3=df[df['weather']==3]\n",
    "df_4=df[df['weather']==4]"
   ]
  },
  {
   "cell_type": "code",
   "execution_count": 21,
   "id": "eb294950",
   "metadata": {},
   "outputs": [
    {
     "data": {
      "text/html": [
       "<div>\n",
       "<style scoped>\n",
       "    .dataframe tbody tr th:only-of-type {\n",
       "        vertical-align: middle;\n",
       "    }\n",
       "\n",
       "    .dataframe tbody tr th {\n",
       "        vertical-align: top;\n",
       "    }\n",
       "\n",
       "    .dataframe thead th {\n",
       "        text-align: right;\n",
       "    }\n",
       "</style>\n",
       "<table border=\"1\" class=\"dataframe\">\n",
       "  <thead>\n",
       "    <tr style=\"text-align: right;\">\n",
       "      <th></th>\n",
       "      <th>datetime</th>\n",
       "      <th>season</th>\n",
       "      <th>holiday</th>\n",
       "      <th>workingday</th>\n",
       "      <th>weather</th>\n",
       "      <th>temp</th>\n",
       "      <th>atemp</th>\n",
       "      <th>humidity</th>\n",
       "      <th>windspeed</th>\n",
       "      <th>casual</th>\n",
       "      <th>registered</th>\n",
       "      <th>count</th>\n",
       "      <th>Weather</th>\n",
       "    </tr>\n",
       "  </thead>\n",
       "  <tbody>\n",
       "    <tr>\n",
       "      <th>5631</th>\n",
       "      <td>09-01-2012 18:00</td>\n",
       "      <td>1</td>\n",
       "      <td>0</td>\n",
       "      <td>1</td>\n",
       "      <td>4</td>\n",
       "      <td>8.2</td>\n",
       "      <td>11.365</td>\n",
       "      <td>86</td>\n",
       "      <td>6.0032</td>\n",
       "      <td>6</td>\n",
       "      <td>158</td>\n",
       "      <td>164</td>\n",
       "      <td>1</td>\n",
       "    </tr>\n",
       "  </tbody>\n",
       "</table>\n",
       "</div>"
      ],
      "text/plain": [
       "              datetime season holiday workingday  weather  temp   atemp  \\\n",
       "5631  09-01-2012 18:00      1       0          1        4   8.2  11.365   \n",
       "\n",
       "      humidity  windspeed  casual  registered  count Weather  \n",
       "5631        86     6.0032       6         158    164       1  "
      ]
     },
     "execution_count": 21,
     "metadata": {},
     "output_type": "execute_result"
    }
   ],
   "source": [
    "df_4"
   ]
  },
  {
   "cell_type": "markdown",
   "id": "6f9d5465",
   "metadata": {},
   "source": [
    "#### As we have only one observation under weather 4 will check for other weathers"
   ]
  },
  {
   "cell_type": "code",
   "execution_count": 22,
   "id": "b39c5198",
   "metadata": {},
   "outputs": [
    {
     "name": "stdout",
     "output_type": "stream",
     "text": [
      "Weather 1 Variance is 34101.0262353682\n",
      "Weather 2 Variance is 27882.22433892511\n",
      "Weather 3 Variance is 19182.418761290777\n"
     ]
    },
    {
     "data": {
      "image/png": "[encoded data removed]",
      "text/plain": [
       "<Figure size 1080x576 with 4 Axes>"
      ]
     },
     "metadata": {
      "needs_background": "light"
     },
     "output_type": "display_data"
    }
   ],
   "source": [
    "fig,axs = plt.subplots(nrows = 2,ncols = 2,figsize=(15,8))\n",
    "index = 0\n",
    "axs = axs.flatten()\n",
    "for i in range(1,4):\n",
    "    sns.histplot(x = 'count',data= df[df['weather']==i],ax = axs[index]).set(title = \"Weather {}\".format(i))\n",
    "    print(\"Weather {} Variance is {}\".format(i,np.var(df[df['weather']==i]['count'])))\n",
    "    index=index+1\n",
    "plt.show()"
   ]
  },
  {
   "cell_type": "markdown",
   "id": "201486de",
   "metadata": {},
   "source": [
    "##### Lets do boxcox and try to make it as Approximately Normal dist then will perform Anova\n",
    "##### we have variations but approximately we can go with this data."
   ]
  },
  {
   "cell_type": "code",
   "execution_count": 23,
   "id": "f982840d",
   "metadata": {},
   "outputs": [
    {
     "name": "stdout",
     "output_type": "stream",
     "text": [
      "Weather 1 Variance is 40.66658225318325\n",
      "Weather 2 Variance is 30.399127429155563\n",
      "Weather 3 Variance is 10.474445485951652\n"
     ]
    },
    {
     "data": {
      "image/png": "[encoded data removed]",
      "text/plain": [
       "<Figure size 1080x576 with 6 Axes>"
      ]
     },
     "metadata": {
      "needs_background": "light"
     },
     "output_type": "display_data"
    }
   ],
   "source": [
    "fig,axs = plt.subplots(nrows = 3,ncols = 2,figsize=(15,8))\n",
    "index = 0\n",
    "axs = axs.flatten()\n",
    "boxcox =[]\n",
    "for i in range(1,4):\n",
    "    f,h = stats.boxcox(df[df['weather']==i]['count'])\n",
    "    boxcox.append(f)\n",
    "    sns.histplot(x = f ,ax = axs[index]).set(title = \"Weather {}\".format(i))\n",
    "    print(\"Weather {} Variance is {}\".format(i,np.var(f)))\n",
    "    index=index+1\n",
    "    stats.probplot(f, dist=\"norm\", plot =axs[index])\n",
    "    index+=1\n",
    "plt.show()"
   ]
  },
  {
   "cell_type": "markdown",
   "id": "10398d47",
   "metadata": {},
   "source": [
    "#### As P-Value is lesser than 0.05 we reject Null Hypothesis , Population means are not same."
   ]
  },
  {
   "cell_type": "code",
   "execution_count": 24,
   "id": "23cf3d12",
   "metadata": {},
   "outputs": [
    {
     "data": {
      "text/plain": [
       "F_onewayResult(statistic=440.1904898946861, pvalue=1.537464542423308e-184)"
      ]
     },
     "execution_count": 24,
     "metadata": {},
     "output_type": "execute_result"
    }
   ],
   "source": [
    "stats.f_oneway(boxcox[0],boxcox[1],boxcox[2])"
   ]
  },
  {
   "cell_type": "markdown",
   "id": "6c0ee871",
   "metadata": {},
   "source": [
    "#### As we know population mean for all weathers are not equal and from above we discovered approximated weather 1 and weather 2 have high mean lets do Hypothesis testing on these 2 weathers"
   ]
  },
  {
   "cell_type": "markdown",
   "id": "311e2c33",
   "metadata": {},
   "source": [
    "#### T-Test -- One Sided\n",
    "Null Hypothesis -- weather1 and weather2 population mean are same for number of bikes.\n",
    "\n",
    "Alternative Hypothesis -- weather1 population mean for number of bikes is greater than weather2 population mean for number of bikes.\n",
    "\n",
    "Significance value = 5%"
   ]
  },
  {
   "cell_type": "code",
   "execution_count": 25,
   "id": "5b1b949f",
   "metadata": {},
   "outputs": [
    {
     "data": {
      "text/plain": [
       "Ttest_indResult(statistic=6.202267793294654, pvalue=2.8929219970924407e-10)"
      ]
     },
     "execution_count": 25,
     "metadata": {},
     "output_type": "execute_result"
    }
   ],
   "source": [
    "stats.ttest_ind(df_1['count'],df_2['count'],alternative='greater')"
   ]
  },
  {
   "cell_type": "markdown",
   "id": "b9a23e8a",
   "metadata": {},
   "source": [
    "As pvalue is lesser than 0.05 we reject NULL Hypothesis and confirm that weather1 population mean is greater than weather2 population "
   ]
  },
  {
   "cell_type": "markdown",
   "id": "891bd6c4",
   "metadata": {},
   "source": [
    "#### Season  --  No. of cycles rented is similar or different in different seasons"
   ]
  },
  {
   "cell_type": "code",
   "execution_count": 26,
   "id": "2c718033",
   "metadata": {},
   "outputs": [
    {
     "data": {
      "text/plain": [
       "4    2731\n",
       "3    2721\n",
       "2    2720\n",
       "1    2684\n",
       "Name: season, dtype: int64"
      ]
     },
     "execution_count": 26,
     "metadata": {},
     "output_type": "execute_result"
    }
   ],
   "source": [
    "df['season'].value_counts()"
   ]
  },
  {
   "cell_type": "markdown",
   "id": "7678bc9d",
   "metadata": {},
   "source": [
    "#### We see noticeable differnce in sample mean"
   ]
  },
  {
   "cell_type": "code",
   "execution_count": 27,
   "id": "66c5a5f8",
   "metadata": {},
   "outputs": [
    {
     "data": {
      "image/png": "[encoded data removed]",
      "text/plain": [
       "<Figure size 432x288 with 1 Axes>"
      ]
     },
     "metadata": {
      "needs_background": "light"
     },
     "output_type": "display_data"
    }
   ],
   "source": [
    "sns.barplot(y='count',x='season',data=df)\n",
    "plt.show()"
   ]
  },
  {
   "cell_type": "markdown",
   "id": "e3255fef",
   "metadata": {},
   "source": [
    "Null Hypothesis -- All mean populations of the season are same\n",
    "\n",
    "Alternative Hypothesis -- Not all are equal\n",
    "\n",
    "Significance level = 5% percent"
   ]
  },
  {
   "cell_type": "code",
   "execution_count": 28,
   "id": "6ffa89a6",
   "metadata": {},
   "outputs": [
    {
     "name": "stdout",
     "output_type": "stream",
     "text": [
      "Season 1 Variance is 15359.425644682515\n",
      "Season 2 Variance is 35472.23384934581\n",
      "Season 3 Variance is 37500.967107748525\n",
      "Season 4 Variance is 31069.4493361209\n"
     ]
    },
    {
     "data": {
      "image/png": "[encoded data removed]",
      "text/plain": [
       "<Figure size 1080x576 with 4 Axes>"
      ]
     },
     "metadata": {
      "needs_background": "light"
     },
     "output_type": "display_data"
    }
   ],
   "source": [
    "fig,axs = plt.subplots(nrows = 2,ncols = 2,figsize=(15,8))\n",
    "index = 0\n",
    "axs = axs.flatten()\n",
    "for i in range(1,5):\n",
    "    sns.histplot(x = 'count',data= df[df['season']==i],ax = axs[index]).set(title = \"Season {}\".format(i))\n",
    "    print(\"Season {} Variance is {}\".format(i,np.var(df[df['season']==i]['count'])))\n",
    "    index=index+1\n",
    "plt.show()"
   ]
  },
  {
   "cell_type": "markdown",
   "id": "c458278b",
   "metadata": {},
   "source": [
    "##### Lets do boxcox and try to make it as Approximately Normal dist then will perform Anova"
   ]
  },
  {
   "cell_type": "code",
   "execution_count": 29,
   "id": "6dc4e79d",
   "metadata": {},
   "outputs": [
    {
     "name": "stdout",
     "output_type": "stream",
     "text": [
      "Season 1 Variance is 16.433125091465634\n",
      "Season 2 Variance is 45.6556456476883\n",
      "Season 3 Variance is 68.15519702828756\n",
      "Season 4 Variance is 43.02474985412279\n"
     ]
    },
    {
     "data": {
      "image/png": "[encoded data removed]",
      "text/plain": [
       "<Figure size 1080x720 with 8 Axes>"
      ]
     },
     "metadata": {
      "needs_background": "light"
     },
     "output_type": "display_data"
    }
   ],
   "source": [
    "fig,axs = plt.subplots(nrows = 4,ncols = 2,figsize=(15,10))\n",
    "index = 0\n",
    "axs = axs.flatten()\n",
    "boxcox =[]\n",
    "for i in range(1,5):\n",
    "    f,h = stats.boxcox(df[df['season']==i]['count'])\n",
    "    boxcox.append(f)\n",
    "    sns.histplot(x = f ,ax = axs[index]).set(title = \"Season {}\".format(i))\n",
    "    print(\"Season {} Variance is {}\".format(i,np.var(f)))\n",
    "    index=index+1\n",
    "    stats.probplot(f, dist=\"norm\", plot =axs[index])\n",
    "    index+=1\n",
    "plt.show()"
   ]
  },
  {
   "cell_type": "markdown",
   "id": "45137f71",
   "metadata": {},
   "source": [
    "#### As P-Value is lesser than 0.05 we reject Null Hypothesis , Population means are not same."
   ]
  },
  {
   "cell_type": "code",
   "execution_count": 30,
   "id": "d86c4228",
   "metadata": {},
   "outputs": [
    {
     "data": {
      "text/plain": [
       "F_onewayResult(statistic=901.2720662453708, pvalue=0.0)"
      ]
     },
     "execution_count": 30,
     "metadata": {},
     "output_type": "execute_result"
    }
   ],
   "source": [
    "stats.f_oneway(boxcox[0],boxcox[1],boxcox[2],boxcox[3])"
   ]
  },
  {
   "cell_type": "markdown",
   "id": "05eeb21b",
   "metadata": {},
   "source": [
    "#### As we know population mean for all seasons are not equal and from above we discovered approximated season 2 and season 3 have high mean lets do Hypothesis testing on these 2 seasons"
   ]
  },
  {
   "cell_type": "markdown",
   "id": "f75c9ed3",
   "metadata": {},
   "source": [
    "#### T-Test -- One Sided\n",
    "Null Hypothesis -- season2 and season3 population mean for number of bikes are same.\n",
    "\n",
    "Alternative Hypothesis -- season3 population mean for number of bikes is greater than season2 population mean for number of bikes.\n",
    "\n",
    "Significance value = 5%"
   ]
  },
  {
   "cell_type": "code",
   "execution_count": 31,
   "id": "f4fcb1a9",
   "metadata": {},
   "outputs": [
    {
     "data": {
      "text/plain": [
       "Ttest_indResult(statistic=3.729353817838736, pvalue=9.696243142925167e-05)"
      ]
     },
     "execution_count": 31,
     "metadata": {},
     "output_type": "execute_result"
    }
   ],
   "source": [
    "stats.ttest_ind(df[df['season'] == 3]['count'],df[df['season'] == 2]['count'],alternative='greater')"
   ]
  },
  {
   "cell_type": "markdown",
   "id": "b8360347",
   "metadata": {},
   "source": [
    "As pvalue is lesser than 0.05 we reject NULL Hypothesis and confirm that season3 population mean is greater than season2 population "
   ]
  },
  {
   "cell_type": "markdown",
   "id": "3ab8e780",
   "metadata": {},
   "source": [
    "### CHI - Square Test"
   ]
  },
  {
   "cell_type": "markdown",
   "id": "a08f5253",
   "metadata": {},
   "source": [
    "#### Checking if Weather is dependent on the season "
   ]
  },
  {
   "cell_type": "markdown",
   "id": "905231e6",
   "metadata": {},
   "source": [
    "Null Hypothesis -- season and weather are independent\n",
    "\n",
    "Alternative Hypothesis -- season and weather are dependent\n",
    "\n",
    "Significance = 5%"
   ]
  },
  {
   "cell_type": "code",
   "execution_count": 32,
   "id": "72812175",
   "metadata": {},
   "outputs": [
    {
     "data": {
      "text/html": [
       "<div>\n",
       "<style scoped>\n",
       "    .dataframe tbody tr th:only-of-type {\n",
       "        vertical-align: middle;\n",
       "    }\n",
       "\n",
       "    .dataframe tbody tr th {\n",
       "        vertical-align: top;\n",
       "    }\n",
       "\n",
       "    .dataframe thead th {\n",
       "        text-align: right;\n",
       "    }\n",
       "</style>\n",
       "<table border=\"1\" class=\"dataframe\">\n",
       "  <thead>\n",
       "    <tr style=\"text-align: right;\">\n",
       "      <th>weather</th>\n",
       "      <th>1</th>\n",
       "      <th>2</th>\n",
       "      <th>3</th>\n",
       "      <th>4</th>\n",
       "    </tr>\n",
       "    <tr>\n",
       "      <th>season</th>\n",
       "      <th></th>\n",
       "      <th></th>\n",
       "      <th></th>\n",
       "      <th></th>\n",
       "    </tr>\n",
       "  </thead>\n",
       "  <tbody>\n",
       "    <tr>\n",
       "      <th>1</th>\n",
       "      <td>1757</td>\n",
       "      <td>715</td>\n",
       "      <td>211</td>\n",
       "      <td>1</td>\n",
       "    </tr>\n",
       "    <tr>\n",
       "      <th>2</th>\n",
       "      <td>1788</td>\n",
       "      <td>708</td>\n",
       "      <td>224</td>\n",
       "      <td>0</td>\n",
       "    </tr>\n",
       "    <tr>\n",
       "      <th>3</th>\n",
       "      <td>1921</td>\n",
       "      <td>601</td>\n",
       "      <td>199</td>\n",
       "      <td>0</td>\n",
       "    </tr>\n",
       "    <tr>\n",
       "      <th>4</th>\n",
       "      <td>1699</td>\n",
       "      <td>807</td>\n",
       "      <td>225</td>\n",
       "      <td>0</td>\n",
       "    </tr>\n",
       "  </tbody>\n",
       "</table>\n",
       "</div>"
      ],
      "text/plain": [
       "weather     1    2    3  4\n",
       "season                    \n",
       "1        1757  715  211  1\n",
       "2        1788  708  224  0\n",
       "3        1921  601  199  0\n",
       "4        1699  807  225  0"
      ]
     },
     "execution_count": 32,
     "metadata": {},
     "output_type": "execute_result"
    }
   ],
   "source": [
    "ct = pd.crosstab(df['season'],df['weather'])\n",
    "ct"
   ]
  },
  {
   "cell_type": "markdown",
   "id": "b0c998d1",
   "metadata": {},
   "source": [
    "#### As P-Value is lesser than 0.05 we reject Null Hypothesis , season and weather are dependent"
   ]
  },
  {
   "cell_type": "code",
   "execution_count": 33,
   "id": "1e5fef16",
   "metadata": {},
   "outputs": [
    {
     "name": "stdout",
     "output_type": "stream",
     "text": [
      "P-Value is 1.4072239516222583e-07\n",
      "Chi-square_statistics is 49.38223405442044\n",
      "\n",
      "----------Expected Values-----------\n"
     ]
    },
    {
     "data": {
      "text/html": [
       "<div>\n",
       "<style scoped>\n",
       "    .dataframe tbody tr th:only-of-type {\n",
       "        vertical-align: middle;\n",
       "    }\n",
       "\n",
       "    .dataframe tbody tr th {\n",
       "        vertical-align: top;\n",
       "    }\n",
       "\n",
       "    .dataframe thead th {\n",
       "        text-align: right;\n",
       "    }\n",
       "</style>\n",
       "<table border=\"1\" class=\"dataframe\">\n",
       "  <thead>\n",
       "    <tr style=\"text-align: right;\">\n",
       "      <th></th>\n",
       "      <th>0</th>\n",
       "      <th>1</th>\n",
       "      <th>2</th>\n",
       "      <th>3</th>\n",
       "    </tr>\n",
       "  </thead>\n",
       "  <tbody>\n",
       "    <tr>\n",
       "      <th>0</th>\n",
       "      <td>1771.449889</td>\n",
       "      <td>699.926676</td>\n",
       "      <td>212.376197</td>\n",
       "      <td>0.247237</td>\n",
       "    </tr>\n",
       "    <tr>\n",
       "      <th>1</th>\n",
       "      <td>1795.210022</td>\n",
       "      <td>709.314665</td>\n",
       "      <td>215.224761</td>\n",
       "      <td>0.250553</td>\n",
       "    </tr>\n",
       "    <tr>\n",
       "      <th>2</th>\n",
       "      <td>1795.870026</td>\n",
       "      <td>709.575442</td>\n",
       "      <td>215.303887</td>\n",
       "      <td>0.250645</td>\n",
       "    </tr>\n",
       "    <tr>\n",
       "      <th>3</th>\n",
       "      <td>1802.470063</td>\n",
       "      <td>712.183217</td>\n",
       "      <td>216.095155</td>\n",
       "      <td>0.251566</td>\n",
       "    </tr>\n",
       "  </tbody>\n",
       "</table>\n",
       "</div>"
      ],
      "text/plain": [
       "             0           1           2         3\n",
       "0  1771.449889  699.926676  212.376197  0.247237\n",
       "1  1795.210022  709.314665  215.224761  0.250553\n",
       "2  1795.870026  709.575442  215.303887  0.250645\n",
       "3  1802.470063  712.183217  216.095155  0.251566"
      ]
     },
     "execution_count": 33,
     "metadata": {},
     "output_type": "execute_result"
    }
   ],
   "source": [
    "t_stat,pvalue,dof,expected = stats.chi2_contingency(ct)\n",
    "print(\"P-Value is {}\".format(pvalue))\n",
    "print(\"Chi-square_statistics is {}\".format(t_stat))\n",
    "print()\n",
    "print(\"----------Expected Values-----------\")\n",
    "pd.DataFrame(expected) "
   ]
  },
  {
   "cell_type": "markdown",
   "id": "b54e3f86",
   "metadata": {},
   "source": [
    "#### Whether Number of cycles rented in waether is dependent on Number of rented in season"
   ]
  },
  {
   "cell_type": "code",
   "execution_count": 34,
   "id": "6d4f3bdf",
   "metadata": {},
   "outputs": [
    {
     "data": {
      "text/html": [
       "<div>\n",
       "<style scoped>\n",
       "    .dataframe tbody tr th:only-of-type {\n",
       "        vertical-align: middle;\n",
       "    }\n",
       "\n",
       "    .dataframe tbody tr th {\n",
       "        vertical-align: top;\n",
       "    }\n",
       "\n",
       "    .dataframe thead th {\n",
       "        text-align: right;\n",
       "    }\n",
       "</style>\n",
       "<table border=\"1\" class=\"dataframe\">\n",
       "  <thead>\n",
       "    <tr style=\"text-align: right;\">\n",
       "      <th>weather</th>\n",
       "      <th>1</th>\n",
       "      <th>2</th>\n",
       "      <th>3</th>\n",
       "    </tr>\n",
       "    <tr>\n",
       "      <th>season</th>\n",
       "      <th></th>\n",
       "      <th></th>\n",
       "      <th></th>\n",
       "    </tr>\n",
       "  </thead>\n",
       "  <tbody>\n",
       "    <tr>\n",
       "      <th>1</th>\n",
       "      <td>221426</td>\n",
       "      <td>76406</td>\n",
       "      <td>12919</td>\n",
       "    </tr>\n",
       "    <tr>\n",
       "      <th>2</th>\n",
       "      <td>416195</td>\n",
       "      <td>134177</td>\n",
       "      <td>27755</td>\n",
       "    </tr>\n",
       "    <tr>\n",
       "      <th>3</th>\n",
       "      <td>462924</td>\n",
       "      <td>136821</td>\n",
       "      <td>31160</td>\n",
       "    </tr>\n",
       "    <tr>\n",
       "      <th>4</th>\n",
       "      <td>353963</td>\n",
       "      <td>157191</td>\n",
       "      <td>30255</td>\n",
       "    </tr>\n",
       "  </tbody>\n",
       "</table>\n",
       "</div>"
      ],
      "text/plain": [
       "weather       1       2      3\n",
       "season                        \n",
       "1        221426   76406  12919\n",
       "2        416195  134177  27755\n",
       "3        462924  136821  31160\n",
       "4        353963  157191  30255"
      ]
     },
     "execution_count": 34,
     "metadata": {},
     "output_type": "execute_result"
    }
   ],
   "source": [
    "df1 = df[~(df['weather'] == 4)]\n",
    "ct = pd.pivot_table(data = df1, index = 'season', columns = 'weather',aggfunc=np.sum)['count']\n",
    "ct"
   ]
  },
  {
   "cell_type": "markdown",
   "id": "665a3846",
   "metadata": {},
   "source": [
    "#### Chi-square_statistics is very high and P value is zero so there is very strong conclusion that these 2 are related."
   ]
  },
  {
   "cell_type": "code",
   "execution_count": 35,
   "id": "470949b7",
   "metadata": {},
   "outputs": [
    {
     "name": "stdout",
     "output_type": "stream",
     "text": [
      "P-Value is 0.0\n",
      "Chi-square_statistics is 10802.911433682099\n",
      "\n",
      "----------Expected Values-----------\n"
     ]
    },
    {
     "data": {
      "text/html": [
       "<div>\n",
       "<style scoped>\n",
       "    .dataframe tbody tr th:only-of-type {\n",
       "        vertical-align: middle;\n",
       "    }\n",
       "\n",
       "    .dataframe tbody tr th {\n",
       "        vertical-align: top;\n",
       "    }\n",
       "\n",
       "    .dataframe thead th {\n",
       "        text-align: right;\n",
       "    }\n",
       "</style>\n",
       "<table border=\"1\" class=\"dataframe\">\n",
       "  <thead>\n",
       "    <tr style=\"text-align: right;\">\n",
       "      <th></th>\n",
       "      <th>0</th>\n",
       "      <th>1</th>\n",
       "      <th>2</th>\n",
       "    </tr>\n",
       "  </thead>\n",
       "  <tbody>\n",
       "    <tr>\n",
       "      <th>0</th>\n",
       "      <td>219285.644185</td>\n",
       "      <td>76074.136153</td>\n",
       "      <td>15391.219663</td>\n",
       "    </tr>\n",
       "    <tr>\n",
       "      <th>1</th>\n",
       "      <td>407963.133234</td>\n",
       "      <td>141529.752476</td>\n",
       "      <td>28634.114291</td>\n",
       "    </tr>\n",
       "    <tr>\n",
       "      <th>2</th>\n",
       "      <td>445206.642438</td>\n",
       "      <td>154450.196039</td>\n",
       "      <td>31248.161523</td>\n",
       "    </tr>\n",
       "    <tr>\n",
       "      <th>3</th>\n",
       "      <td>382052.580144</td>\n",
       "      <td>132540.915332</td>\n",
       "      <td>26815.504524</td>\n",
       "    </tr>\n",
       "  </tbody>\n",
       "</table>\n",
       "</div>"
      ],
      "text/plain": [
       "               0              1             2\n",
       "0  219285.644185   76074.136153  15391.219663\n",
       "1  407963.133234  141529.752476  28634.114291\n",
       "2  445206.642438  154450.196039  31248.161523\n",
       "3  382052.580144  132540.915332  26815.504524"
      ]
     },
     "execution_count": 35,
     "metadata": {},
     "output_type": "execute_result"
    }
   ],
   "source": [
    "t_stat,pvalue,dof,expected = stats.chi2_contingency(ct)\n",
    "print(\"P-Value is {}\".format(pvalue))\n",
    "print(\"Chi-square_statistics is {}\".format(t_stat))\n",
    "print()\n",
    "print(\"----------Expected Values-----------\")\n",
    "pd.DataFrame(expected) "
   ]
  },
  {
   "cell_type": "markdown",
   "id": "78f5cd8f",
   "metadata": {},
   "source": [
    "#### temp vs weather and season"
   ]
  },
  {
   "cell_type": "code",
   "execution_count": 36,
   "id": "38cccb79",
   "metadata": {},
   "outputs": [
    {
     "data": {
      "image/png": "[encoded data removed]",
      "text/plain": [
       "<Figure size 432x288 with 1 Axes>"
      ]
     },
     "metadata": {
      "needs_background": "light"
     },
     "output_type": "display_data"
    }
   ],
   "source": [
    "sns.barplot(x='season',y='temp',hue='weather',data=df)\n",
    "plt.show()"
   ]
  },
  {
   "cell_type": "markdown",
   "id": "b216dc73",
   "metadata": {},
   "source": [
    "#### Lets check population mean of temp between weather1 and weather2 , season2 and season3"
   ]
  },
  {
   "cell_type": "markdown",
   "id": "50769da3",
   "metadata": {},
   "source": [
    "#### One sided T-Test \n",
    "\n",
    "Null Hypothesis -- season2 and season3 population mean for temp are same.\n",
    "\n",
    "Alternative Hypothesis -- season3 population mean of temp is greater than season2 population mean of temp.\n",
    "\n",
    "Significance value = 5%"
   ]
  },
  {
   "cell_type": "code",
   "execution_count": 37,
   "id": "c6e7247e",
   "metadata": {},
   "outputs": [
    {
     "data": {
      "text/plain": [
       "Ttest_indResult(statistic=48.17366279423885, pvalue=0.0)"
      ]
     },
     "execution_count": 37,
     "metadata": {},
     "output_type": "execute_result"
    }
   ],
   "source": [
    "stats.ttest_ind(df[df['season'] == 3]['temp'],df[df['season'] == 2]['temp'],alternative='greater')"
   ]
  },
  {
   "cell_type": "markdown",
   "id": "e67ce163",
   "metadata": {},
   "source": [
    "#### Season 3 have mean temp greater than season 2, As pvalue is lesser than 0.05"
   ]
  },
  {
   "cell_type": "markdown",
   "id": "285d8729",
   "metadata": {},
   "source": [
    "With same set up but instead of season 2 lets check with season 1 and season 4"
   ]
  },
  {
   "cell_type": "code",
   "execution_count": 38,
   "id": "215043de",
   "metadata": {},
   "outputs": [
    {
     "data": {
      "text/plain": [
       "Ttest_indResult(statistic=130.59859318642657, pvalue=0.0)"
      ]
     },
     "execution_count": 38,
     "metadata": {},
     "output_type": "execute_result"
    }
   ],
   "source": [
    "stats.ttest_ind(df[df['season'] == 3]['temp'],df[df['season'] == 1]['temp'],alternative='greater')"
   ]
  },
  {
   "cell_type": "code",
   "execution_count": 39,
   "id": "119f3cfc",
   "metadata": {},
   "outputs": [
    {
     "data": {
      "text/plain": [
       "Ttest_indResult(statistic=103.24270640527541, pvalue=0.0)"
      ]
     },
     "execution_count": 39,
     "metadata": {},
     "output_type": "execute_result"
    }
   ],
   "source": [
    "stats.ttest_ind(df[df['season'] == 3]['temp'],df[df['season'] == 4]['temp'],alternative='greater')"
   ]
  },
  {
   "cell_type": "markdown",
   "id": "bbf88d13",
   "metadata": {},
   "source": [
    "#### Season 3 have mean temp greater than season 1 and season 4 , As pvalue is lesser than 0.05"
   ]
  },
  {
   "cell_type": "markdown",
   "id": "9d6b06ab",
   "metadata": {},
   "source": [
    "#### One sided T-Test \n",
    "\n",
    "Null Hypothesis -- weather1 and weather2 population mean for temp are same.\n",
    "\n",
    "Alternative Hypothesis -- weather1 population mean of temp is greater than weather2 population mean of temp.\n",
    "\n",
    "Significance value = 5%"
   ]
  },
  {
   "cell_type": "code",
   "execution_count": 40,
   "id": "47fc54a2",
   "metadata": {},
   "outputs": [
    {
     "data": {
      "text/plain": [
       "Ttest_indResult(statistic=5.317100387752267, pvalue=5.3854527146646476e-08)"
      ]
     },
     "execution_count": 40,
     "metadata": {},
     "output_type": "execute_result"
    }
   ],
   "source": [
    "stats.ttest_ind(df[df['weather'] == 1]['temp'],df[df['weather'] == 2]['temp'],alternative='greater')"
   ]
  },
  {
   "cell_type": "markdown",
   "id": "7958e686",
   "metadata": {},
   "source": [
    "#### Weather 1 have mean temp greater than weather 2 as pvalue is lesser than 0.05"
   ]
  },
  {
   "cell_type": "markdown",
   "id": "4c007cb6",
   "metadata": {},
   "source": [
    "With same set up but instead of weather 2 lets check with weather 3 "
   ]
  },
  {
   "cell_type": "code",
   "execution_count": 41,
   "id": "d6d16614",
   "metadata": {},
   "outputs": [
    {
     "data": {
      "text/plain": [
       "Ttest_indResult(statistic=3.417921895115183, pvalue=0.0003170743930708656)"
      ]
     },
     "execution_count": 41,
     "metadata": {},
     "output_type": "execute_result"
    }
   ],
   "source": [
    "stats.ttest_ind(df[df['weather'] == 1]['temp'],df[df['weather'] == 3]['temp'],alternative='greater')"
   ]
  },
  {
   "cell_type": "markdown",
   "id": "dfafd01b",
   "metadata": {},
   "source": [
    "#### Weather 1 have mean temp greater than weather 3 as pvalue is lesser than 0.05"
   ]
  },
  {
   "cell_type": "code",
   "execution_count": 42,
   "id": "e8953c8e",
   "metadata": {},
   "outputs": [
    {
     "data": {
      "image/png": "[encoded data removed]",
      "text/plain": [
       "<Figure size 432x288 with 1 Axes>"
      ]
     },
     "metadata": {
      "needs_background": "light"
     },
     "output_type": "display_data"
    }
   ],
   "source": [
    "sns.barplot(x='season',y='humidity',hue='weather',data=df)\n",
    "plt.show()"
   ]
  },
  {
   "cell_type": "markdown",
   "id": "e8a6750e",
   "metadata": {},
   "source": [
    "#### One sided T-Test \n",
    "\n",
    "Null Hypothesis -- weather1 and weather2 population mean for humidity are same.\n",
    "\n",
    "Alternative Hypothesis -- weather1 population mean of humidity is lesser than weather2 population mean of humidity.\n",
    "\n",
    "Significance value = 5%"
   ]
  },
  {
   "cell_type": "code",
   "execution_count": 43,
   "id": "fdf538e9",
   "metadata": {},
   "outputs": [
    {
     "data": {
      "text/plain": [
       "Ttest_indResult(statistic=-31.68480268442733, pvalue=2.4419351964198334e-210)"
      ]
     },
     "execution_count": 43,
     "metadata": {},
     "output_type": "execute_result"
    }
   ],
   "source": [
    "stats.ttest_ind(df[df['weather'] == 1]['humidity'],df[df['weather'] == 2]['humidity'],alternative='less')"
   ]
  },
  {
   "cell_type": "markdown",
   "id": "86622cdf",
   "metadata": {},
   "source": [
    "#### weather 1 mean population for humidity is lesser than weather 2 as pvalue is lesser than 0.05"
   ]
  },
  {
   "cell_type": "markdown",
   "id": "ff15f3e0",
   "metadata": {},
   "source": [
    "With same set up but instead of weather 2 lets check with weather 3 "
   ]
  },
  {
   "cell_type": "code",
   "execution_count": 44,
   "id": "3552f4c4",
   "metadata": {},
   "outputs": [
    {
     "data": {
      "text/plain": [
       "Ttest_indResult(statistic=-38.46973136343918, pvalue=1.3444440531767446e-297)"
      ]
     },
     "execution_count": 44,
     "metadata": {},
     "output_type": "execute_result"
    }
   ],
   "source": [
    "stats.ttest_ind(df[df['weather'] == 1]['humidity'],df[df['weather'] == 3]['humidity'],alternative='less')"
   ]
  },
  {
   "cell_type": "markdown",
   "id": "c6ec30e8",
   "metadata": {},
   "source": [
    "#### weather 1 mean population for humidity is lesser than weather 3 as pvalue is lesser than 0.05"
   ]
  },
  {
   "cell_type": "markdown",
   "id": "95a28f7d",
   "metadata": {},
   "source": [
    "#### One sided T-Test \n",
    "\n",
    "Null Hypothesis -- season2 and season3 population mean for humidity are same.\n",
    "\n",
    "Alternative Hypothesis -- season3 population mean of humidity is lesser than season2 population mean of humidity.\n",
    "\n",
    "Significance value = 5%"
   ]
  },
  {
   "cell_type": "code",
   "execution_count": 45,
   "id": "cf8bb638",
   "metadata": {},
   "outputs": [
    {
     "data": {
      "text/plain": [
       "Ttest_indResult(statistic=6.3254244099668515, pvalue=0.9999999998636447)"
      ]
     },
     "execution_count": 45,
     "metadata": {},
     "output_type": "execute_result"
    }
   ],
   "source": [
    "stats.ttest_ind(df[df['season'] == 3]['humidity'],df[df['season'] == 2]['humidity'],alternative='less')"
   ]
  },
  {
   "cell_type": "markdown",
   "id": "7cf21d3a",
   "metadata": {},
   "source": [
    "#### Season 3 and season 2 population mean are same as pvalue is much hihger than 0.05"
   ]
  },
  {
   "cell_type": "markdown",
   "id": "f8f555ec",
   "metadata": {},
   "source": [
    "With same set up but instead of season 2 lets check with season 1 and season 4"
   ]
  },
  {
   "cell_type": "code",
   "execution_count": 46,
   "id": "ef3037f5",
   "metadata": {},
   "outputs": [
    {
     "data": {
      "text/plain": [
       "Ttest_indResult(statistic=15.501248179964632, pvalue=1.0)"
      ]
     },
     "execution_count": 46,
     "metadata": {},
     "output_type": "execute_result"
    }
   ],
   "source": [
    "stats.ttest_ind(df[df['season'] == 3]['humidity'],df[df['season'] == 1]['humidity'],alternative='less')"
   ]
  },
  {
   "cell_type": "code",
   "execution_count": 47,
   "id": "c9e91ecb",
   "metadata": {},
   "outputs": [
    {
     "data": {
      "text/plain": [
       "Ttest_indResult(statistic=-4.202109168200038, pvalue=1.343331995600396e-05)"
      ]
     },
     "execution_count": 47,
     "metadata": {},
     "output_type": "execute_result"
    }
   ],
   "source": [
    "stats.ttest_ind(df[df['season'] == 3]['humidity'],df[df['season'] == 4]['humidity'],alternative='less')"
   ]
  },
  {
   "cell_type": "markdown",
   "id": "d8720ec4",
   "metadata": {},
   "source": [
    "#### As per season it doesnt seems to follow the trend as no of bikes increases in one seaon and humidity decreases "
   ]
  }
 ],
 "metadata": {
  "kernelspec": {
   "display_name": "Python 3 (ipykernel)",
   "language": "python",
   "name": "python3"
  },
  "language_info": {
   "codemirror_mode": {
    "name": "ipython",
    "version": 3
   },
   "file_extension": ".py",
   "mimetype": "text/x-python",
   "name": "python",
   "nbconvert_exporter": "python",
   "pygments_lexer": "ipython3",
   "version": "3.8.5"
  }
 },
 "nbformat": 4,
 "nbformat_minor": 5
}
