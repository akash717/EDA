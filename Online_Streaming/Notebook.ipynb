{
 "cells": [
  {
   "cell_type": "markdown",
   "id": "ce0404fb",
   "metadata": {},
   "source": [
    "### Importing Libraries required"
   ]
  },
  {
   "cell_type": "code",
   "execution_count": 1,
   "id": "472c33d3",
   "metadata": {},
   "outputs": [],
   "source": [
    "import numpy as np\n",
    "import pandas as pd\n",
    "import matplotlib.pyplot as plt\n",
    "import seaborn as sns\n",
    "import missingno as msno"
   ]
  },
  {
   "cell_type": "markdown",
   "id": "ea6d55ee",
   "metadata": {},
   "source": [
    "### Reading the file and loading the data it into dataframe"
   ]
  },
  {
   "cell_type": "code",
   "execution_count": 2,
   "id": "f2737f96",
   "metadata": {},
   "outputs": [],
   "source": [
    "df=pd.read_csv(\"C:/Users/akash/Desktop/Scaler/netflix.csv\")"
   ]
  },
  {
   "cell_type": "code",
   "execution_count": 3,
   "id": "5ab7bafc",
   "metadata": {},
   "outputs": [
    {
     "data": {
      "text/html": [
       "<div>\n",
       "<style scoped>\n",
       "    .dataframe tbody tr th:only-of-type {\n",
       "        vertical-align: middle;\n",
       "    }\n",
       "\n",
       "    .dataframe tbody tr th {\n",
       "        vertical-align: top;\n",
       "    }\n",
       "\n",
       "    .dataframe thead th {\n",
       "        text-align: right;\n",
       "    }\n",
       "</style>\n",
       "<table border=\"1\" class=\"dataframe\">\n",
       "  <thead>\n",
       "    <tr style=\"text-align: right;\">\n",
       "      <th></th>\n",
       "      <th>show_id</th>\n",
       "      <th>type</th>\n",
       "      <th>title</th>\n",
       "      <th>director</th>\n",
       "      <th>cast</th>\n",
       "      <th>country</th>\n",
       "      <th>date_added</th>\n",
       "      <th>release_year</th>\n",
       "      <th>rating</th>\n",
       "      <th>duration</th>\n",
       "      <th>listed_in</th>\n",
       "      <th>description</th>\n",
       "    </tr>\n",
       "  </thead>\n",
       "  <tbody>\n",
       "    <tr>\n",
       "      <th>0</th>\n",
       "      <td>s1</td>\n",
       "      <td>Movie</td>\n",
       "      <td>Dick Johnson Is Dead</td>\n",
       "      <td>Kirsten Johnson</td>\n",
       "      <td>NaN</td>\n",
       "      <td>United States</td>\n",
       "      <td>September 25, 2021</td>\n",
       "      <td>2020</td>\n",
       "      <td>PG-13</td>\n",
       "      <td>90 min</td>\n",
       "      <td>Documentaries</td>\n",
       "      <td>As her father nears the end of his life, filmm...</td>\n",
       "    </tr>\n",
       "    <tr>\n",
       "      <th>1</th>\n",
       "      <td>s2</td>\n",
       "      <td>TV Show</td>\n",
       "      <td>Blood &amp; Water</td>\n",
       "      <td>NaN</td>\n",
       "      <td>Ama Qamata, Khosi Ngema, Gail Mabalane, Thaban...</td>\n",
       "      <td>South Africa</td>\n",
       "      <td>September 24, 2021</td>\n",
       "      <td>2021</td>\n",
       "      <td>TV-MA</td>\n",
       "      <td>2 Seasons</td>\n",
       "      <td>International TV Shows, TV Dramas, TV Mysteries</td>\n",
       "      <td>After crossing paths at a party, a Cape Town t...</td>\n",
       "    </tr>\n",
       "    <tr>\n",
       "      <th>2</th>\n",
       "      <td>s3</td>\n",
       "      <td>TV Show</td>\n",
       "      <td>Ganglands</td>\n",
       "      <td>Julien Leclercq</td>\n",
       "      <td>Sami Bouajila, Tracy Gotoas, Samuel Jouy, Nabi...</td>\n",
       "      <td>NaN</td>\n",
       "      <td>September 24, 2021</td>\n",
       "      <td>2021</td>\n",
       "      <td>TV-MA</td>\n",
       "      <td>1 Season</td>\n",
       "      <td>Crime TV Shows, International TV Shows, TV Act...</td>\n",
       "      <td>To protect his family from a powerful drug lor...</td>\n",
       "    </tr>\n",
       "    <tr>\n",
       "      <th>3</th>\n",
       "      <td>s4</td>\n",
       "      <td>TV Show</td>\n",
       "      <td>Jailbirds New Orleans</td>\n",
       "      <td>NaN</td>\n",
       "      <td>NaN</td>\n",
       "      <td>NaN</td>\n",
       "      <td>September 24, 2021</td>\n",
       "      <td>2021</td>\n",
       "      <td>TV-MA</td>\n",
       "      <td>1 Season</td>\n",
       "      <td>Docuseries, Reality TV</td>\n",
       "      <td>Feuds, flirtations and toilet talk go down amo...</td>\n",
       "    </tr>\n",
       "    <tr>\n",
       "      <th>4</th>\n",
       "      <td>s5</td>\n",
       "      <td>TV Show</td>\n",
       "      <td>Kota Factory</td>\n",
       "      <td>NaN</td>\n",
       "      <td>Mayur More, Jitendra Kumar, Ranjan Raj, Alam K...</td>\n",
       "      <td>India</td>\n",
       "      <td>September 24, 2021</td>\n",
       "      <td>2021</td>\n",
       "      <td>TV-MA</td>\n",
       "      <td>2 Seasons</td>\n",
       "      <td>International TV Shows, Romantic TV Shows, TV ...</td>\n",
       "      <td>In a city of coaching centers known to train I...</td>\n",
       "    </tr>\n",
       "  </tbody>\n",
       "</table>\n",
       "</div>"
      ],
      "text/plain": [
       "  show_id     type                  title         director  \\\n",
       "0      s1    Movie   Dick Johnson Is Dead  Kirsten Johnson   \n",
       "1      s2  TV Show          Blood & Water              NaN   \n",
       "2      s3  TV Show              Ganglands  Julien Leclercq   \n",
       "3      s4  TV Show  Jailbirds New Orleans              NaN   \n",
       "4      s5  TV Show           Kota Factory              NaN   \n",
       "\n",
       "                                                cast        country  \\\n",
       "0                                                NaN  United States   \n",
       "1  Ama Qamata, Khosi Ngema, Gail Mabalane, Thaban...   South Africa   \n",
       "2  Sami Bouajila, Tracy Gotoas, Samuel Jouy, Nabi...            NaN   \n",
       "3                                                NaN            NaN   \n",
       "4  Mayur More, Jitendra Kumar, Ranjan Raj, Alam K...          India   \n",
       "\n",
       "           date_added  release_year rating   duration  \\\n",
       "0  September 25, 2021          2020  PG-13     90 min   \n",
       "1  September 24, 2021          2021  TV-MA  2 Seasons   \n",
       "2  September 24, 2021          2021  TV-MA   1 Season   \n",
       "3  September 24, 2021          2021  TV-MA   1 Season   \n",
       "4  September 24, 2021          2021  TV-MA  2 Seasons   \n",
       "\n",
       "                                           listed_in  \\\n",
       "0                                      Documentaries   \n",
       "1    International TV Shows, TV Dramas, TV Mysteries   \n",
       "2  Crime TV Shows, International TV Shows, TV Act...   \n",
       "3                             Docuseries, Reality TV   \n",
       "4  International TV Shows, Romantic TV Shows, TV ...   \n",
       "\n",
       "                                         description  \n",
       "0  As her father nears the end of his life, filmm...  \n",
       "1  After crossing paths at a party, a Cape Town t...  \n",
       "2  To protect his family from a powerful drug lor...  \n",
       "3  Feuds, flirtations and toilet talk go down amo...  \n",
       "4  In a city of coaching centers known to train I...  "
      ]
     },
     "execution_count": 3,
     "metadata": {},
     "output_type": "execute_result"
    }
   ],
   "source": [
    "df.head()"
   ]
  },
  {
   "cell_type": "markdown",
   "id": "eb9fd02f",
   "metadata": {},
   "source": [
    "### Checking the missing values in each column also checking the data types of each column."
   ]
  },
  {
   "cell_type": "code",
   "execution_count": 4,
   "id": "0093d0bc",
   "metadata": {},
   "outputs": [
    {
     "name": "stdout",
     "output_type": "stream",
     "text": [
      "<class 'pandas.core.frame.DataFrame'>\n",
      "RangeIndex: 8807 entries, 0 to 8806\n",
      "Data columns (total 12 columns):\n",
      " #   Column        Non-Null Count  Dtype \n",
      "---  ------        --------------  ----- \n",
      " 0   show_id       8807 non-null   object\n",
      " 1   type          8807 non-null   object\n",
      " 2   title         8807 non-null   object\n",
      " 3   director      6173 non-null   object\n",
      " 4   cast          7982 non-null   object\n",
      " 5   country       7976 non-null   object\n",
      " 6   date_added    8797 non-null   object\n",
      " 7   release_year  8807 non-null   int64 \n",
      " 8   rating        8803 non-null   object\n",
      " 9   duration      8804 non-null   object\n",
      " 10  listed_in     8807 non-null   object\n",
      " 11  description   8807 non-null   object\n",
      "dtypes: int64(1), object(11)\n",
      "memory usage: 825.8+ KB\n"
     ]
    }
   ],
   "source": [
    "df.info()"
   ]
  },
  {
   "cell_type": "code",
   "execution_count": 5,
   "id": "358eb314",
   "metadata": {
    "scrolled": false
   },
   "outputs": [
    {
     "data": {
      "text/plain": [
       "show_id            0\n",
       "type               0\n",
       "title              0\n",
       "director        2634\n",
       "cast             825\n",
       "country          831\n",
       "date_added        10\n",
       "release_year       0\n",
       "rating             4\n",
       "duration           3\n",
       "listed_in          0\n",
       "description        0\n",
       "dtype: int64"
      ]
     },
     "execution_count": 5,
     "metadata": {},
     "output_type": "execute_result"
    }
   ],
   "source": [
    "df.isna().sum()"
   ]
  },
  {
   "cell_type": "markdown",
   "id": "b960325f",
   "metadata": {},
   "source": [
    "Below plot is to see we have any relanships between missing values and there is none"
   ]
  },
  {
   "cell_type": "code",
   "execution_count": 6,
   "id": "73067b72",
   "metadata": {},
   "outputs": [
    {
     "data": {
      "text/plain": [
       "<AxesSubplot:>"
      ]
     },
     "execution_count": 6,
     "metadata": {},
     "output_type": "execute_result"
    },
    {
     "data": {
      "image/png": "[encoded data removed]",
      "text/plain": [
       "<Figure size 1440x864 with 2 Axes>"
      ]
     },
     "metadata": {
      "needs_background": "light"
     },
     "output_type": "display_data"
    }
   ],
   "source": [
    "msno.heatmap(df,labels=True)"
   ]
  },
  {
   "cell_type": "code",
   "execution_count": 7,
   "id": "782212cb",
   "metadata": {},
   "outputs": [],
   "source": [
    "df['date_added']=pd.to_datetime(df['date_added'])"
   ]
  },
  {
   "cell_type": "code",
   "execution_count": 8,
   "id": "a89fb790",
   "metadata": {},
   "outputs": [
    {
     "data": {
      "text/html": [
       "<div>\n",
       "<style scoped>\n",
       "    .dataframe tbody tr th:only-of-type {\n",
       "        vertical-align: middle;\n",
       "    }\n",
       "\n",
       "    .dataframe tbody tr th {\n",
       "        vertical-align: top;\n",
       "    }\n",
       "\n",
       "    .dataframe thead th {\n",
       "        text-align: right;\n",
       "    }\n",
       "</style>\n",
       "<table border=\"1\" class=\"dataframe\">\n",
       "  <thead>\n",
       "    <tr style=\"text-align: right;\">\n",
       "      <th></th>\n",
       "      <th>show_id</th>\n",
       "      <th>type</th>\n",
       "      <th>title</th>\n",
       "      <th>director</th>\n",
       "      <th>cast</th>\n",
       "      <th>country</th>\n",
       "      <th>date_added</th>\n",
       "      <th>release_year</th>\n",
       "      <th>rating</th>\n",
       "      <th>duration</th>\n",
       "      <th>listed_in</th>\n",
       "      <th>description</th>\n",
       "    </tr>\n",
       "  </thead>\n",
       "  <tbody>\n",
       "  </tbody>\n",
       "</table>\n",
       "</div>"
      ],
      "text/plain": [
       "Empty DataFrame\n",
       "Columns: [show_id, type, title, director, cast, country, date_added, release_year, rating, duration, listed_in, description]\n",
       "Index: []"
      ]
     },
     "execution_count": 8,
     "metadata": {},
     "output_type": "execute_result"
    }
   ],
   "source": [
    "df[df.duplicated()]"
   ]
  },
  {
   "cell_type": "markdown",
   "id": "8c8b219e",
   "metadata": {},
   "source": [
    "#### Observations from below dataset."
   ]
  },
  {
   "cell_type": "markdown",
   "id": "49efa417",
   "metadata": {},
   "source": [
    " - David Attenborough casted in more number of movies+TV series.\n",
    " - Rajiv Chilaka directed most number of movies+TV series.\n",
    " - 109 movies and TV Shows released on January 1 2020 on netflix is the most in one day.\n",
    " - TV-MA most number of movies+TV series made in this rating.\n",
    " - United States made more number of movies , as per this we can say that they have largest film industry and big audience.\n",
    " - we have Tv series or movies released from 1925- 2021"
   ]
  },
  {
   "cell_type": "code",
   "execution_count": 9,
   "id": "50cc00ed",
   "metadata": {},
   "outputs": [
    {
     "data": {
      "text/html": [
       "<div>\n",
       "<style scoped>\n",
       "    .dataframe tbody tr th:only-of-type {\n",
       "        vertical-align: middle;\n",
       "    }\n",
       "\n",
       "    .dataframe tbody tr th {\n",
       "        vertical-align: top;\n",
       "    }\n",
       "\n",
       "    .dataframe thead th {\n",
       "        text-align: right;\n",
       "    }\n",
       "</style>\n",
       "<table border=\"1\" class=\"dataframe\">\n",
       "  <thead>\n",
       "    <tr style=\"text-align: right;\">\n",
       "      <th></th>\n",
       "      <th>show_id</th>\n",
       "      <th>type</th>\n",
       "      <th>title</th>\n",
       "      <th>director</th>\n",
       "      <th>cast</th>\n",
       "      <th>country</th>\n",
       "      <th>release_year</th>\n",
       "      <th>rating</th>\n",
       "      <th>duration</th>\n",
       "      <th>listed_in</th>\n",
       "      <th>description</th>\n",
       "    </tr>\n",
       "  </thead>\n",
       "  <tbody>\n",
       "    <tr>\n",
       "      <th>count</th>\n",
       "      <td>8807</td>\n",
       "      <td>8807</td>\n",
       "      <td>8807</td>\n",
       "      <td>6173</td>\n",
       "      <td>7982</td>\n",
       "      <td>7976</td>\n",
       "      <td>8807.000000</td>\n",
       "      <td>8803</td>\n",
       "      <td>8804</td>\n",
       "      <td>8807</td>\n",
       "      <td>8807</td>\n",
       "    </tr>\n",
       "    <tr>\n",
       "      <th>unique</th>\n",
       "      <td>8807</td>\n",
       "      <td>2</td>\n",
       "      <td>8807</td>\n",
       "      <td>4528</td>\n",
       "      <td>7692</td>\n",
       "      <td>748</td>\n",
       "      <td>NaN</td>\n",
       "      <td>17</td>\n",
       "      <td>220</td>\n",
       "      <td>514</td>\n",
       "      <td>8775</td>\n",
       "    </tr>\n",
       "    <tr>\n",
       "      <th>top</th>\n",
       "      <td>s4369</td>\n",
       "      <td>Movie</td>\n",
       "      <td>The Land</td>\n",
       "      <td>Rajiv Chilaka</td>\n",
       "      <td>David Attenborough</td>\n",
       "      <td>United States</td>\n",
       "      <td>NaN</td>\n",
       "      <td>TV-MA</td>\n",
       "      <td>1 Season</td>\n",
       "      <td>Dramas, International Movies</td>\n",
       "      <td>Paranormal activity at a lush, abandoned prope...</td>\n",
       "    </tr>\n",
       "    <tr>\n",
       "      <th>freq</th>\n",
       "      <td>1</td>\n",
       "      <td>6131</td>\n",
       "      <td>1</td>\n",
       "      <td>19</td>\n",
       "      <td>19</td>\n",
       "      <td>2818</td>\n",
       "      <td>NaN</td>\n",
       "      <td>3207</td>\n",
       "      <td>1793</td>\n",
       "      <td>362</td>\n",
       "      <td>4</td>\n",
       "    </tr>\n",
       "    <tr>\n",
       "      <th>mean</th>\n",
       "      <td>NaN</td>\n",
       "      <td>NaN</td>\n",
       "      <td>NaN</td>\n",
       "      <td>NaN</td>\n",
       "      <td>NaN</td>\n",
       "      <td>NaN</td>\n",
       "      <td>2014.180198</td>\n",
       "      <td>NaN</td>\n",
       "      <td>NaN</td>\n",
       "      <td>NaN</td>\n",
       "      <td>NaN</td>\n",
       "    </tr>\n",
       "    <tr>\n",
       "      <th>std</th>\n",
       "      <td>NaN</td>\n",
       "      <td>NaN</td>\n",
       "      <td>NaN</td>\n",
       "      <td>NaN</td>\n",
       "      <td>NaN</td>\n",
       "      <td>NaN</td>\n",
       "      <td>8.819312</td>\n",
       "      <td>NaN</td>\n",
       "      <td>NaN</td>\n",
       "      <td>NaN</td>\n",
       "      <td>NaN</td>\n",
       "    </tr>\n",
       "    <tr>\n",
       "      <th>min</th>\n",
       "      <td>NaN</td>\n",
       "      <td>NaN</td>\n",
       "      <td>NaN</td>\n",
       "      <td>NaN</td>\n",
       "      <td>NaN</td>\n",
       "      <td>NaN</td>\n",
       "      <td>1925.000000</td>\n",
       "      <td>NaN</td>\n",
       "      <td>NaN</td>\n",
       "      <td>NaN</td>\n",
       "      <td>NaN</td>\n",
       "    </tr>\n",
       "    <tr>\n",
       "      <th>25%</th>\n",
       "      <td>NaN</td>\n",
       "      <td>NaN</td>\n",
       "      <td>NaN</td>\n",
       "      <td>NaN</td>\n",
       "      <td>NaN</td>\n",
       "      <td>NaN</td>\n",
       "      <td>2013.000000</td>\n",
       "      <td>NaN</td>\n",
       "      <td>NaN</td>\n",
       "      <td>NaN</td>\n",
       "      <td>NaN</td>\n",
       "    </tr>\n",
       "    <tr>\n",
       "      <th>50%</th>\n",
       "      <td>NaN</td>\n",
       "      <td>NaN</td>\n",
       "      <td>NaN</td>\n",
       "      <td>NaN</td>\n",
       "      <td>NaN</td>\n",
       "      <td>NaN</td>\n",
       "      <td>2017.000000</td>\n",
       "      <td>NaN</td>\n",
       "      <td>NaN</td>\n",
       "      <td>NaN</td>\n",
       "      <td>NaN</td>\n",
       "    </tr>\n",
       "    <tr>\n",
       "      <th>75%</th>\n",
       "      <td>NaN</td>\n",
       "      <td>NaN</td>\n",
       "      <td>NaN</td>\n",
       "      <td>NaN</td>\n",
       "      <td>NaN</td>\n",
       "      <td>NaN</td>\n",
       "      <td>2019.000000</td>\n",
       "      <td>NaN</td>\n",
       "      <td>NaN</td>\n",
       "      <td>NaN</td>\n",
       "      <td>NaN</td>\n",
       "    </tr>\n",
       "    <tr>\n",
       "      <th>max</th>\n",
       "      <td>NaN</td>\n",
       "      <td>NaN</td>\n",
       "      <td>NaN</td>\n",
       "      <td>NaN</td>\n",
       "      <td>NaN</td>\n",
       "      <td>NaN</td>\n",
       "      <td>2021.000000</td>\n",
       "      <td>NaN</td>\n",
       "      <td>NaN</td>\n",
       "      <td>NaN</td>\n",
       "      <td>NaN</td>\n",
       "    </tr>\n",
       "  </tbody>\n",
       "</table>\n",
       "</div>"
      ],
      "text/plain": [
       "       show_id   type     title       director                cast  \\\n",
       "count     8807   8807      8807           6173                7982   \n",
       "unique    8807      2      8807           4528                7692   \n",
       "top      s4369  Movie  The Land  Rajiv Chilaka  David Attenborough   \n",
       "freq         1   6131         1             19                  19   \n",
       "mean       NaN    NaN       NaN            NaN                 NaN   \n",
       "std        NaN    NaN       NaN            NaN                 NaN   \n",
       "min        NaN    NaN       NaN            NaN                 NaN   \n",
       "25%        NaN    NaN       NaN            NaN                 NaN   \n",
       "50%        NaN    NaN       NaN            NaN                 NaN   \n",
       "75%        NaN    NaN       NaN            NaN                 NaN   \n",
       "max        NaN    NaN       NaN            NaN                 NaN   \n",
       "\n",
       "              country  release_year rating  duration  \\\n",
       "count            7976   8807.000000   8803      8804   \n",
       "unique            748           NaN     17       220   \n",
       "top     United States           NaN  TV-MA  1 Season   \n",
       "freq             2818           NaN   3207      1793   \n",
       "mean              NaN   2014.180198    NaN       NaN   \n",
       "std               NaN      8.819312    NaN       NaN   \n",
       "min               NaN   1925.000000    NaN       NaN   \n",
       "25%               NaN   2013.000000    NaN       NaN   \n",
       "50%               NaN   2017.000000    NaN       NaN   \n",
       "75%               NaN   2019.000000    NaN       NaN   \n",
       "max               NaN   2021.000000    NaN       NaN   \n",
       "\n",
       "                           listed_in  \\\n",
       "count                           8807   \n",
       "unique                           514   \n",
       "top     Dramas, International Movies   \n",
       "freq                             362   \n",
       "mean                             NaN   \n",
       "std                              NaN   \n",
       "min                              NaN   \n",
       "25%                              NaN   \n",
       "50%                              NaN   \n",
       "75%                              NaN   \n",
       "max                              NaN   \n",
       "\n",
       "                                              description  \n",
       "count                                                8807  \n",
       "unique                                               8775  \n",
       "top     Paranormal activity at a lush, abandoned prope...  \n",
       "freq                                                    4  \n",
       "mean                                                  NaN  \n",
       "std                                                   NaN  \n",
       "min                                                   NaN  \n",
       "25%                                                   NaN  \n",
       "50%                                                   NaN  \n",
       "75%                                                   NaN  \n",
       "max                                                   NaN  "
      ]
     },
     "execution_count": 9,
     "metadata": {},
     "output_type": "execute_result"
    }
   ],
   "source": [
    "df.describe(include=['object','int64'])"
   ]
  },
  {
   "cell_type": "markdown",
   "id": "4a4c6b73",
   "metadata": {},
   "source": [
    "#### Outliers \n",
    " - From above we can see that year seems to have outliers becuase minimum is 1925 and 25 percent is 2013 , lets check with a boxplot.\n",
    " - As we see in Boxplot clearely data below year 2000 is a outlier that say from 1925 to 2000 , we have 75 outliers in this year column for the dataset."
   ]
  },
  {
   "cell_type": "code",
   "execution_count": 10,
   "id": "c6ef795d",
   "metadata": {},
   "outputs": [
    {
     "data": {
      "text/plain": [
       "<AxesSubplot:ylabel='release_year'>"
      ]
     },
     "execution_count": 10,
     "metadata": {},
     "output_type": "execute_result"
    },
    {
     "data": {
      "image/png": "[encoded data removed]",
      "text/plain": [
       "<Figure size 432x288 with 1 Axes>"
      ]
     },
     "metadata": {
      "needs_background": "light"
     },
     "output_type": "display_data"
    }
   ],
   "source": [
    "sns.boxplot(y='release_year',data=df)"
   ]
  },
  {
   "cell_type": "markdown",
   "id": "21d3bc9c",
   "metadata": {},
   "source": [
    "### How has the number of movies released per year changed years?"
   ]
  },
  {
   "cell_type": "code",
   "execution_count": 11,
   "id": "cb0dc0a1",
   "metadata": {},
   "outputs": [
    {
     "data": {
      "image/png": "[encoded data removed]",
      "text/plain": [
       "<Figure size 432x288 with 1 Axes>"
      ]
     },
     "metadata": {
      "needs_background": "light"
     },
     "output_type": "display_data"
    }
   ],
   "source": [
    "df.sort_values(by='release_year',inplace=True,ascending=False)\n",
    "df_y=df['release_year'].value_counts(sort=True).reset_index()\n",
    "df_y.rename(columns={'index':'year','release_year':'count'},inplace=True)\n",
    "sns.lineplot(x='year',y='count',data=df_y)\n",
    "plt.show()"
   ]
  },
  {
   "cell_type": "markdown",
   "id": "e3027d9a",
   "metadata": {},
   "source": [
    "- We can see that after 2019 there is a decrease in movie and TV shows release which is caused by corona\n",
    "- As we see the graph that we can say that after year 2000 movie and TV shows releases started raising exponentially."
   ]
  },
  {
   "cell_type": "markdown",
   "id": "b6349620",
   "metadata": {},
   "source": [
    "####  Lets compare Movies and TV shows how the number of releases changed over the course of the years."
   ]
  },
  {
   "cell_type": "code",
   "execution_count": 47,
   "id": "1d19f982",
   "metadata": {},
   "outputs": [
    {
     "data": {
      "image/png": "[encoded data removed]",
      "text/plain": [
       "<Figure size 432x288 with 1 Axes>"
      ]
     },
     "metadata": {
      "needs_background": "light"
     },
     "output_type": "display_data"
    }
   ],
   "source": [
    "df_m=df[df['type']=='Movie']\n",
    "df_tv=df[df['type']=='TV Show']\n",
    "df_m=df_m['release_year'].value_counts(sort=True).reset_index()\n",
    "df_tv=df_tv['release_year'].value_counts(sort=True).reset_index()\n",
    "df_m.rename(columns={'index':'year','release_year':'count'},inplace=True)\n",
    "df_tv.rename(columns={'index':'year','release_year':'count'},inplace=True)\n",
    "sns.lineplot(x='year',y='count',data=df_m,color='r',label='Movies')\n",
    "sns.lineplot(x='year',y='count',data=df_tv,color='b',label='TV Shows')\n",
    "plt.show()"
   ]
  },
  {
   "cell_type": "markdown",
   "id": "86bfc1a0",
   "metadata": {},
   "source": [
    "#### Does Netflix has more focus on TV Shows than movies in recent years? Lets see with last 5 years"
   ]
  },
  {
   "cell_type": "code",
   "execution_count": 13,
   "id": "03a98c58",
   "metadata": {},
   "outputs": [
    {
     "data": {
      "image/png": "[encoded data removed]",
      "text/plain": [
       "<Figure size 432x288 with 1 Axes>"
      ]
     },
     "metadata": {
      "needs_background": "light"
     },
     "output_type": "display_data"
    }
   ],
   "source": [
    "df_temp=df[df['release_year']>=2017]\n",
    "sns.countplot(x='release_year',hue='type',data=df_temp)\n",
    "plt.show()"
   ]
  },
  {
   "cell_type": "markdown",
   "id": "b0922b57",
   "metadata": {},
   "source": [
    " - As we see both grapths are in same shape in first plot but as wee as zoomed version in countplot we are clearly able to see that in last 5 years the number of movies decresed and number of TV Shows increased, which indeed says that in recent years Netflix is focusing more on TV Shows"
   ]
  },
  {
   "cell_type": "markdown",
   "id": "d2eb824d",
   "metadata": {},
   "source": [
    "#### What is the best time to launch a TV show?\n",
    "Note: Analyzing with which month most no of TV shows released."
   ]
  },
  {
   "cell_type": "code",
   "execution_count": 49,
   "id": "1cfb1036",
   "metadata": {},
   "outputs": [
    {
     "name": "stderr",
     "output_type": "stream",
     "text": [
      "C:\\Users\\akash\\AppData\\Local\\Temp\\ipykernel_38040\\1122455223.py:2: SettingWithCopyWarning: \n",
      "A value is trying to be set on a copy of a slice from a DataFrame.\n",
      "Try using .loc[row_indexer,col_indexer] = value instead\n",
      "\n",
      "See the caveats in the documentation: https://pandas.pydata.org/pandas-docs/stable/user_guide/indexing.html#returning-a-view-versus-a-copy\n",
      "  df_tv['released_month']=df_tv['date_added'].dt.strftime('%B')\n"
     ]
    },
    {
     "data": {
      "image/png": "[encoded data removed]",
      "text/plain": [
       "<Figure size 432x288 with 1 Axes>"
      ]
     },
     "metadata": {
      "needs_background": "light"
     },
     "output_type": "display_data"
    }
   ],
   "source": [
    "df_tv=df[df['type']=='TV Show']\n",
    "df_tv['released_month']=df_tv['date_added'].dt.strftime('%B')\n",
    "sns.countplot(x='released_month',data=df_tv)\n",
    "plt.xticks(rotation=75)\n",
    "plt.show()"
   ]
  },
  {
   "cell_type": "markdown",
   "id": "1d7c598c",
   "metadata": {},
   "source": [
    " - We are able to see a peak in middle of the year which is 6th,7th,8th Month and at 12th month. Preciosuly December and July are the best time to release the TV shows."
   ]
  },
  {
   "cell_type": "markdown",
   "id": "28b32266",
   "metadata": {},
   "source": [
    "### As cast column is nested splitting it into different rows to make it easier to analyze."
   ]
  },
  {
   "cell_type": "code",
   "execution_count": 15,
   "id": "e139a4fb",
   "metadata": {
    "scrolled": true
   },
   "outputs": [
    {
     "data": {
      "text/html": [
       "<div>\n",
       "<style scoped>\n",
       "    .dataframe tbody tr th:only-of-type {\n",
       "        vertical-align: middle;\n",
       "    }\n",
       "\n",
       "    .dataframe tbody tr th {\n",
       "        vertical-align: top;\n",
       "    }\n",
       "\n",
       "    .dataframe thead th {\n",
       "        text-align: right;\n",
       "    }\n",
       "</style>\n",
       "<table border=\"1\" class=\"dataframe\">\n",
       "  <thead>\n",
       "    <tr style=\"text-align: right;\">\n",
       "      <th></th>\n",
       "      <th>title</th>\n",
       "      <th>cast</th>\n",
       "    </tr>\n",
       "  </thead>\n",
       "  <tbody>\n",
       "    <tr>\n",
       "      <th>0</th>\n",
       "      <td>Ali &amp; Ratu Ratu Queens</td>\n",
       "      <td>Iqbaal Ramadhan</td>\n",
       "    </tr>\n",
       "    <tr>\n",
       "      <th>0</th>\n",
       "      <td>Ali &amp; Ratu Ratu Queens</td>\n",
       "      <td>Nirina Zubir</td>\n",
       "    </tr>\n",
       "    <tr>\n",
       "      <th>0</th>\n",
       "      <td>Ali &amp; Ratu Ratu Queens</td>\n",
       "      <td>Asri Welas</td>\n",
       "    </tr>\n",
       "    <tr>\n",
       "      <th>0</th>\n",
       "      <td>Ali &amp; Ratu Ratu Queens</td>\n",
       "      <td>Tika Panggabean</td>\n",
       "    </tr>\n",
       "    <tr>\n",
       "      <th>0</th>\n",
       "      <td>Ali &amp; Ratu Ratu Queens</td>\n",
       "      <td>Happy Salma</td>\n",
       "    </tr>\n",
       "    <tr>\n",
       "      <th>0</th>\n",
       "      <td>Ali &amp; Ratu Ratu Queens</td>\n",
       "      <td>Aurora Ribero</td>\n",
       "    </tr>\n",
       "    <tr>\n",
       "      <th>0</th>\n",
       "      <td>Ali &amp; Ratu Ratu Queens</td>\n",
       "      <td>Marissa Anita</td>\n",
       "    </tr>\n",
       "  </tbody>\n",
       "</table>\n",
       "</div>"
      ],
      "text/plain": [
       "                    title             cast\n",
       "0  Ali & Ratu Ratu Queens  Iqbaal Ramadhan\n",
       "0  Ali & Ratu Ratu Queens     Nirina Zubir\n",
       "0  Ali & Ratu Ratu Queens       Asri Welas\n",
       "0  Ali & Ratu Ratu Queens  Tika Panggabean\n",
       "0  Ali & Ratu Ratu Queens      Happy Salma\n",
       "0  Ali & Ratu Ratu Queens    Aurora Ribero\n",
       "0  Ali & Ratu Ratu Queens    Marissa Anita"
      ]
     },
     "execution_count": 15,
     "metadata": {},
     "output_type": "execute_result"
    }
   ],
   "source": [
    "df_cast=df['cast'].str.split(', ')\n",
    "df_cast.index=df['title']\n",
    "df_cast=df_cast.reset_index().explode('cast')\n",
    "df_cast.head(7)"
   ]
  },
  {
   "cell_type": "markdown",
   "id": "ead17ac8",
   "metadata": {},
   "source": [
    "#### observations:\n",
    "- Social Distance had big cast"
   ]
  },
  {
   "cell_type": "code",
   "execution_count": 16,
   "id": "d2e02274",
   "metadata": {},
   "outputs": [
    {
     "data": {
      "text/html": [
       "<div>\n",
       "<style scoped>\n",
       "    .dataframe tbody tr th:only-of-type {\n",
       "        vertical-align: middle;\n",
       "    }\n",
       "\n",
       "    .dataframe tbody tr th {\n",
       "        vertical-align: top;\n",
       "    }\n",
       "\n",
       "    .dataframe thead th {\n",
       "        text-align: right;\n",
       "    }\n",
       "</style>\n",
       "<table border=\"1\" class=\"dataframe\">\n",
       "  <thead>\n",
       "    <tr style=\"text-align: right;\">\n",
       "      <th></th>\n",
       "      <th>title</th>\n",
       "      <th>cast</th>\n",
       "    </tr>\n",
       "  </thead>\n",
       "  <tbody>\n",
       "    <tr>\n",
       "      <th>count</th>\n",
       "      <td>64951</td>\n",
       "      <td>64126</td>\n",
       "    </tr>\n",
       "    <tr>\n",
       "      <th>unique</th>\n",
       "      <td>8807</td>\n",
       "      <td>36439</td>\n",
       "    </tr>\n",
       "    <tr>\n",
       "      <th>top</th>\n",
       "      <td>Social Distance</td>\n",
       "      <td>Anupam Kher</td>\n",
       "    </tr>\n",
       "    <tr>\n",
       "      <th>freq</th>\n",
       "      <td>50</td>\n",
       "      <td>43</td>\n",
       "    </tr>\n",
       "  </tbody>\n",
       "</table>\n",
       "</div>"
      ],
      "text/plain": [
       "                  title         cast\n",
       "count             64951        64126\n",
       "unique             8807        36439\n",
       "top     Social Distance  Anupam Kher\n",
       "freq                 50           43"
      ]
     },
     "execution_count": 16,
     "metadata": {},
     "output_type": "execute_result"
    }
   ],
   "source": [
    "df_cast.describe()"
   ]
  },
  {
   "cell_type": "markdown",
   "id": "3f5b2bf7",
   "metadata": {},
   "source": [
    "### Using similar technique above used on cast column to split the other nested column includes listed_in,director,country"
   ]
  },
  {
   "cell_type": "code",
   "execution_count": 17,
   "id": "34a3bb0c",
   "metadata": {},
   "outputs": [
    {
     "data": {
      "text/html": [
       "<div>\n",
       "<style scoped>\n",
       "    .dataframe tbody tr th:only-of-type {\n",
       "        vertical-align: middle;\n",
       "    }\n",
       "\n",
       "    .dataframe tbody tr th {\n",
       "        vertical-align: top;\n",
       "    }\n",
       "\n",
       "    .dataframe thead th {\n",
       "        text-align: right;\n",
       "    }\n",
       "</style>\n",
       "<table border=\"1\" class=\"dataframe\">\n",
       "  <thead>\n",
       "    <tr style=\"text-align: right;\">\n",
       "      <th></th>\n",
       "      <th>title</th>\n",
       "      <th>listed_in</th>\n",
       "    </tr>\n",
       "  </thead>\n",
       "  <tbody>\n",
       "    <tr>\n",
       "      <th>0</th>\n",
       "      <td>Ali &amp; Ratu Ratu Queens</td>\n",
       "      <td>Comedies</td>\n",
       "    </tr>\n",
       "    <tr>\n",
       "      <th>0</th>\n",
       "      <td>Ali &amp; Ratu Ratu Queens</td>\n",
       "      <td>Dramas</td>\n",
       "    </tr>\n",
       "    <tr>\n",
       "      <th>0</th>\n",
       "      <td>Ali &amp; Ratu Ratu Queens</td>\n",
       "      <td>International Movies</td>\n",
       "    </tr>\n",
       "    <tr>\n",
       "      <th>1</th>\n",
       "      <td>Black Holes | The Edge of All We Know</td>\n",
       "      <td>Documentaries</td>\n",
       "    </tr>\n",
       "    <tr>\n",
       "      <th>2</th>\n",
       "      <td>Sweet &amp; Sour</td>\n",
       "      <td>Comedies</td>\n",
       "    </tr>\n",
       "    <tr>\n",
       "      <th>2</th>\n",
       "      <td>Sweet &amp; Sour</td>\n",
       "      <td>International Movies</td>\n",
       "    </tr>\n",
       "    <tr>\n",
       "      <th>2</th>\n",
       "      <td>Sweet &amp; Sour</td>\n",
       "      <td>Romantic Movies</td>\n",
       "    </tr>\n",
       "  </tbody>\n",
       "</table>\n",
       "</div>"
      ],
      "text/plain": [
       "                                   title             listed_in\n",
       "0                 Ali & Ratu Ratu Queens              Comedies\n",
       "0                 Ali & Ratu Ratu Queens                Dramas\n",
       "0                 Ali & Ratu Ratu Queens  International Movies\n",
       "1  Black Holes | The Edge of All We Know         Documentaries\n",
       "2                           Sweet & Sour              Comedies\n",
       "2                           Sweet & Sour  International Movies\n",
       "2                           Sweet & Sour       Romantic Movies"
      ]
     },
     "execution_count": 17,
     "metadata": {},
     "output_type": "execute_result"
    }
   ],
   "source": [
    "df_genre=df['listed_in'].str.split(', ')\n",
    "df_genre.index=df['title']\n",
    "df_genre=df_genre.reset_index()\n",
    "df_genre=df_genre.explode('listed_in')\n",
    "df_genre.head(7)"
   ]
  },
  {
   "cell_type": "markdown",
   "id": "fc7a1940",
   "metadata": {},
   "source": [
    "#### observations:\n",
    "- Dramas,Comedies,Documentaries are the top most involved genre in all movies and tv series.\n",
    "\n",
    "Note: International Movies and International TV Shows are not genre , they are mostly like type of the movie"
   ]
  },
  {
   "cell_type": "code",
   "execution_count": 18,
   "id": "a7c5e526",
   "metadata": {},
   "outputs": [
    {
     "data": {
      "text/plain": [
       "International Movies      2752\n",
       "Dramas                    2427\n",
       "Comedies                  1674\n",
       "International TV Shows    1351\n",
       "Documentaries              869\n",
       "Name: listed_in, dtype: int64"
      ]
     },
     "execution_count": 18,
     "metadata": {},
     "output_type": "execute_result"
    }
   ],
   "source": [
    "df_genre['listed_in'].value_counts()[0:5]"
   ]
  },
  {
   "cell_type": "code",
   "execution_count": 19,
   "id": "939b5ba6",
   "metadata": {},
   "outputs": [
    {
     "data": {
      "text/html": [
       "<div>\n",
       "<style scoped>\n",
       "    .dataframe tbody tr th:only-of-type {\n",
       "        vertical-align: middle;\n",
       "    }\n",
       "\n",
       "    .dataframe tbody tr th {\n",
       "        vertical-align: top;\n",
       "    }\n",
       "\n",
       "    .dataframe thead th {\n",
       "        text-align: right;\n",
       "    }\n",
       "</style>\n",
       "<table border=\"1\" class=\"dataframe\">\n",
       "  <thead>\n",
       "    <tr style=\"text-align: right;\">\n",
       "      <th></th>\n",
       "      <th>title</th>\n",
       "      <th>director</th>\n",
       "    </tr>\n",
       "  </thead>\n",
       "  <tbody>\n",
       "    <tr>\n",
       "      <th>0</th>\n",
       "      <td>Ali &amp; Ratu Ratu Queens</td>\n",
       "      <td>Lucky Kuswandi</td>\n",
       "    </tr>\n",
       "    <tr>\n",
       "      <th>1</th>\n",
       "      <td>Black Holes | The Edge of All We Know</td>\n",
       "      <td>Peter Galison</td>\n",
       "    </tr>\n",
       "    <tr>\n",
       "      <th>2</th>\n",
       "      <td>Sweet &amp; Sour</td>\n",
       "      <td>Lee Kae-byeok</td>\n",
       "    </tr>\n",
       "    <tr>\n",
       "      <th>3</th>\n",
       "      <td>Sweet Tooth</td>\n",
       "      <td>NaN</td>\n",
       "    </tr>\n",
       "    <tr>\n",
       "      <th>4</th>\n",
       "      <td>Trippin' with the Kandasamys</td>\n",
       "      <td>Jayan Moodley</td>\n",
       "    </tr>\n",
       "    <tr>\n",
       "      <th>5</th>\n",
       "      <td>Xtreme</td>\n",
       "      <td>Daniel Benmayor</td>\n",
       "    </tr>\n",
       "    <tr>\n",
       "      <th>6</th>\n",
       "      <td>Alan Saldaña: Locked Up</td>\n",
       "      <td>Alex Díaz</td>\n",
       "    </tr>\n",
       "  </tbody>\n",
       "</table>\n",
       "</div>"
      ],
      "text/plain": [
       "                                   title         director\n",
       "0                 Ali & Ratu Ratu Queens   Lucky Kuswandi\n",
       "1  Black Holes | The Edge of All We Know    Peter Galison\n",
       "2                           Sweet & Sour    Lee Kae-byeok\n",
       "3                            Sweet Tooth              NaN\n",
       "4           Trippin' with the Kandasamys    Jayan Moodley\n",
       "5                                 Xtreme  Daniel Benmayor\n",
       "6                Alan Saldaña: Locked Up        Alex Díaz"
      ]
     },
     "execution_count": 19,
     "metadata": {},
     "output_type": "execute_result"
    }
   ],
   "source": [
    "df_dir=df['director'].str.split(', ')\n",
    "df_dir.index=df['title']\n",
    "df_dir=df_dir.reset_index()\n",
    "df_dir=df_dir.explode('director')\n",
    "df_dir.head(7)"
   ]
  },
  {
   "cell_type": "markdown",
   "id": "bc993506",
   "metadata": {},
   "source": [
    "#### Observations:\n",
    " - Walt Disney Animation Studios Short Films Collection had directed by most number of directors 13."
   ]
  },
  {
   "cell_type": "code",
   "execution_count": 20,
   "id": "fcd2fa35",
   "metadata": {},
   "outputs": [
    {
     "data": {
      "text/html": [
       "<div>\n",
       "<style scoped>\n",
       "    .dataframe tbody tr th:only-of-type {\n",
       "        vertical-align: middle;\n",
       "    }\n",
       "\n",
       "    .dataframe tbody tr th {\n",
       "        vertical-align: top;\n",
       "    }\n",
       "\n",
       "    .dataframe thead th {\n",
       "        text-align: right;\n",
       "    }\n",
       "</style>\n",
       "<table border=\"1\" class=\"dataframe\">\n",
       "  <thead>\n",
       "    <tr style=\"text-align: right;\">\n",
       "      <th></th>\n",
       "      <th>title</th>\n",
       "      <th>director</th>\n",
       "    </tr>\n",
       "  </thead>\n",
       "  <tbody>\n",
       "    <tr>\n",
       "      <th>count</th>\n",
       "      <td>9612</td>\n",
       "      <td>6978</td>\n",
       "    </tr>\n",
       "    <tr>\n",
       "      <th>unique</th>\n",
       "      <td>8807</td>\n",
       "      <td>4993</td>\n",
       "    </tr>\n",
       "    <tr>\n",
       "      <th>top</th>\n",
       "      <td>Walt Disney Animation Studios Short Films Coll...</td>\n",
       "      <td>Rajiv Chilaka</td>\n",
       "    </tr>\n",
       "    <tr>\n",
       "      <th>freq</th>\n",
       "      <td>13</td>\n",
       "      <td>22</td>\n",
       "    </tr>\n",
       "  </tbody>\n",
       "</table>\n",
       "</div>"
      ],
      "text/plain": [
       "                                                    title       director\n",
       "count                                                9612           6978\n",
       "unique                                               8807           4993\n",
       "top     Walt Disney Animation Studios Short Films Coll...  Rajiv Chilaka\n",
       "freq                                                   13             22"
      ]
     },
     "execution_count": 20,
     "metadata": {},
     "output_type": "execute_result"
    }
   ],
   "source": [
    "df_dir.describe()"
   ]
  },
  {
   "cell_type": "code",
   "execution_count": 21,
   "id": "b901fe4c",
   "metadata": {},
   "outputs": [
    {
     "data": {
      "text/plain": [
       "Walt Disney Animation Studios Short Films Collection    13\n",
       "Name: title, dtype: int64"
      ]
     },
     "execution_count": 21,
     "metadata": {},
     "output_type": "execute_result"
    }
   ],
   "source": [
    "df_dir['title'].value_counts()[0:1]"
   ]
  },
  {
   "cell_type": "code",
   "execution_count": 22,
   "id": "329fd567",
   "metadata": {
    "scrolled": true
   },
   "outputs": [
    {
     "data": {
      "text/html": [
       "<div>\n",
       "<style scoped>\n",
       "    .dataframe tbody tr th:only-of-type {\n",
       "        vertical-align: middle;\n",
       "    }\n",
       "\n",
       "    .dataframe tbody tr th {\n",
       "        vertical-align: top;\n",
       "    }\n",
       "\n",
       "    .dataframe thead th {\n",
       "        text-align: right;\n",
       "    }\n",
       "</style>\n",
       "<table border=\"1\" class=\"dataframe\">\n",
       "  <thead>\n",
       "    <tr style=\"text-align: right;\">\n",
       "      <th></th>\n",
       "      <th>title</th>\n",
       "      <th>country</th>\n",
       "    </tr>\n",
       "  </thead>\n",
       "  <tbody>\n",
       "    <tr>\n",
       "      <th>0</th>\n",
       "      <td>Ali &amp; Ratu Ratu Queens</td>\n",
       "      <td>NaN</td>\n",
       "    </tr>\n",
       "    <tr>\n",
       "      <th>1</th>\n",
       "      <td>Black Holes | The Edge of All We Know</td>\n",
       "      <td>NaN</td>\n",
       "    </tr>\n",
       "    <tr>\n",
       "      <th>2</th>\n",
       "      <td>Sweet &amp; Sour</td>\n",
       "      <td>South Korea</td>\n",
       "    </tr>\n",
       "    <tr>\n",
       "      <th>3</th>\n",
       "      <td>Sweet Tooth</td>\n",
       "      <td>United States</td>\n",
       "    </tr>\n",
       "    <tr>\n",
       "      <th>4</th>\n",
       "      <td>Trippin' with the Kandasamys</td>\n",
       "      <td>South Africa</td>\n",
       "    </tr>\n",
       "    <tr>\n",
       "      <th>5</th>\n",
       "      <td>Xtreme</td>\n",
       "      <td>Spain</td>\n",
       "    </tr>\n",
       "    <tr>\n",
       "      <th>6</th>\n",
       "      <td>Alan Saldaña: Locked Up</td>\n",
       "      <td>Mexico</td>\n",
       "    </tr>\n",
       "  </tbody>\n",
       "</table>\n",
       "</div>"
      ],
      "text/plain": [
       "                                   title        country\n",
       "0                 Ali & Ratu Ratu Queens            NaN\n",
       "1  Black Holes | The Edge of All We Know            NaN\n",
       "2                           Sweet & Sour    South Korea\n",
       "3                            Sweet Tooth  United States\n",
       "4           Trippin' with the Kandasamys   South Africa\n",
       "5                                 Xtreme          Spain\n",
       "6                Alan Saldaña: Locked Up         Mexico"
      ]
     },
     "execution_count": 22,
     "metadata": {},
     "output_type": "execute_result"
    }
   ],
   "source": [
    "df_coun=df['country'].str.split(', ')\n",
    "df_coun.index=df['title']\n",
    "df_coun=df_coun.reset_index()\n",
    "df_coun=df_coun.explode('country')\n",
    "df_coun.head(7)"
   ]
  },
  {
   "cell_type": "markdown",
   "id": "ddcbf4a9",
   "metadata": {},
   "source": [
    "#### Observation:\n",
    " - United States have produced more number of movies and TV series which implies that they have big film industry"
   ]
  },
  {
   "cell_type": "code",
   "execution_count": 23,
   "id": "6920cc3d",
   "metadata": {},
   "outputs": [
    {
     "data": {
      "text/html": [
       "<div>\n",
       "<style scoped>\n",
       "    .dataframe tbody tr th:only-of-type {\n",
       "        vertical-align: middle;\n",
       "    }\n",
       "\n",
       "    .dataframe tbody tr th {\n",
       "        vertical-align: top;\n",
       "    }\n",
       "\n",
       "    .dataframe thead th {\n",
       "        text-align: right;\n",
       "    }\n",
       "</style>\n",
       "<table border=\"1\" class=\"dataframe\">\n",
       "  <thead>\n",
       "    <tr style=\"text-align: right;\">\n",
       "      <th></th>\n",
       "      <th>title</th>\n",
       "      <th>country</th>\n",
       "    </tr>\n",
       "  </thead>\n",
       "  <tbody>\n",
       "    <tr>\n",
       "      <th>count</th>\n",
       "      <td>10845</td>\n",
       "      <td>10014</td>\n",
       "    </tr>\n",
       "    <tr>\n",
       "      <th>unique</th>\n",
       "      <td>8807</td>\n",
       "      <td>127</td>\n",
       "    </tr>\n",
       "    <tr>\n",
       "      <th>top</th>\n",
       "      <td>Barbecue</td>\n",
       "      <td>United States</td>\n",
       "    </tr>\n",
       "    <tr>\n",
       "      <th>freq</th>\n",
       "      <td>12</td>\n",
       "      <td>3689</td>\n",
       "    </tr>\n",
       "  </tbody>\n",
       "</table>\n",
       "</div>"
      ],
      "text/plain": [
       "           title        country\n",
       "count      10845          10014\n",
       "unique      8807            127\n",
       "top     Barbecue  United States\n",
       "freq          12           3689"
      ]
     },
     "execution_count": 23,
     "metadata": {},
     "output_type": "execute_result"
    }
   ],
   "source": [
    "df_coun.describe()"
   ]
  },
  {
   "cell_type": "markdown",
   "id": "829ff863",
   "metadata": {},
   "source": [
    "### Lets merge the data \n",
    " - Note: Why not merging all columns at once ?\n",
    " - will create duplicates and counts will be inconsistent of the categorical columns."
   ]
  },
  {
   "cell_type": "markdown",
   "id": "121292db",
   "metadata": {},
   "source": [
    "#### Country vs Genre"
   ]
  },
  {
   "cell_type": "code",
   "execution_count": 24,
   "id": "3736c24d",
   "metadata": {},
   "outputs": [
    {
     "data": {
      "text/html": [
       "<div>\n",
       "<style scoped>\n",
       "    .dataframe tbody tr th:only-of-type {\n",
       "        vertical-align: middle;\n",
       "    }\n",
       "\n",
       "    .dataframe tbody tr th {\n",
       "        vertical-align: top;\n",
       "    }\n",
       "\n",
       "    .dataframe thead th {\n",
       "        text-align: right;\n",
       "    }\n",
       "</style>\n",
       "<table border=\"1\" class=\"dataframe\">\n",
       "  <thead>\n",
       "    <tr style=\"text-align: right;\">\n",
       "      <th></th>\n",
       "      <th>show_id</th>\n",
       "      <th>type</th>\n",
       "      <th>title</th>\n",
       "      <th>director</th>\n",
       "      <th>cast</th>\n",
       "      <th>country_x</th>\n",
       "      <th>date_added</th>\n",
       "      <th>release_year</th>\n",
       "      <th>rating</th>\n",
       "      <th>duration</th>\n",
       "      <th>listed_in_x</th>\n",
       "      <th>description</th>\n",
       "      <th>country_y</th>\n",
       "      <th>listed_in_y</th>\n",
       "    </tr>\n",
       "  </thead>\n",
       "  <tbody>\n",
       "    <tr>\n",
       "      <th>0</th>\n",
       "      <td>s694</td>\n",
       "      <td>Movie</td>\n",
       "      <td>Ali &amp; Ratu Ratu Queens</td>\n",
       "      <td>Lucky Kuswandi</td>\n",
       "      <td>Iqbaal Ramadhan, Nirina Zubir, Asri Welas, Tik...</td>\n",
       "      <td>NaN</td>\n",
       "      <td>2021-06-17</td>\n",
       "      <td>2021</td>\n",
       "      <td>TV-14</td>\n",
       "      <td>101 min</td>\n",
       "      <td>Comedies, Dramas, International Movies</td>\n",
       "      <td>After his father's passing, a teenager sets ou...</td>\n",
       "      <td>NaN</td>\n",
       "      <td>Comedies</td>\n",
       "    </tr>\n",
       "    <tr>\n",
       "      <th>1</th>\n",
       "      <td>s694</td>\n",
       "      <td>Movie</td>\n",
       "      <td>Ali &amp; Ratu Ratu Queens</td>\n",
       "      <td>Lucky Kuswandi</td>\n",
       "      <td>Iqbaal Ramadhan, Nirina Zubir, Asri Welas, Tik...</td>\n",
       "      <td>NaN</td>\n",
       "      <td>2021-06-17</td>\n",
       "      <td>2021</td>\n",
       "      <td>TV-14</td>\n",
       "      <td>101 min</td>\n",
       "      <td>Comedies, Dramas, International Movies</td>\n",
       "      <td>After his father's passing, a teenager sets ou...</td>\n",
       "      <td>NaN</td>\n",
       "      <td>Dramas</td>\n",
       "    </tr>\n",
       "  </tbody>\n",
       "</table>\n",
       "</div>"
      ],
      "text/plain": [
       "  show_id   type                   title        director  \\\n",
       "0    s694  Movie  Ali & Ratu Ratu Queens  Lucky Kuswandi   \n",
       "1    s694  Movie  Ali & Ratu Ratu Queens  Lucky Kuswandi   \n",
       "\n",
       "                                                cast country_x date_added  \\\n",
       "0  Iqbaal Ramadhan, Nirina Zubir, Asri Welas, Tik...       NaN 2021-06-17   \n",
       "1  Iqbaal Ramadhan, Nirina Zubir, Asri Welas, Tik...       NaN 2021-06-17   \n",
       "\n",
       "   release_year rating duration                             listed_in_x  \\\n",
       "0          2021  TV-14  101 min  Comedies, Dramas, International Movies   \n",
       "1          2021  TV-14  101 min  Comedies, Dramas, International Movies   \n",
       "\n",
       "                                         description country_y listed_in_y  \n",
       "0  After his father's passing, a teenager sets ou...       NaN    Comedies  \n",
       "1  After his father's passing, a teenager sets ou...       NaN      Dramas  "
      ]
     },
     "execution_count": 24,
     "metadata": {},
     "output_type": "execute_result"
    }
   ],
   "source": [
    "df_new=pd.merge(df,df_coun,on='title',how='left')\n",
    "df_new=pd.merge(df_new,df_genre,on='title',how='left')\n",
    "df_new.head(2)"
   ]
  },
  {
   "cell_type": "code",
   "execution_count": 25,
   "id": "6ecf7ffc",
   "metadata": {},
   "outputs": [
    {
     "data": {
      "text/html": [
       "<div>\n",
       "<style scoped>\n",
       "    .dataframe tbody tr th:only-of-type {\n",
       "        vertical-align: middle;\n",
       "    }\n",
       "\n",
       "    .dataframe tbody tr th {\n",
       "        vertical-align: top;\n",
       "    }\n",
       "\n",
       "    .dataframe thead th {\n",
       "        text-align: right;\n",
       "    }\n",
       "</style>\n",
       "<table border=\"1\" class=\"dataframe\">\n",
       "  <thead>\n",
       "    <tr style=\"text-align: right;\">\n",
       "      <th></th>\n",
       "      <th>country_y</th>\n",
       "      <th>listed_in_y</th>\n",
       "      <th>0</th>\n",
       "    </tr>\n",
       "  </thead>\n",
       "  <tbody>\n",
       "    <tr>\n",
       "      <th>526</th>\n",
       "      <td>India</td>\n",
       "      <td>International Movies</td>\n",
       "      <td>864</td>\n",
       "    </tr>\n",
       "    <tr>\n",
       "      <th>1351</th>\n",
       "      <td>United States</td>\n",
       "      <td>Dramas</td>\n",
       "      <td>835</td>\n",
       "    </tr>\n",
       "    <tr>\n",
       "      <th>1346</th>\n",
       "      <td>United States</td>\n",
       "      <td>Comedies</td>\n",
       "      <td>680</td>\n",
       "    </tr>\n",
       "    <tr>\n",
       "      <th>522</th>\n",
       "      <td>India</td>\n",
       "      <td>Dramas</td>\n",
       "      <td>662</td>\n",
       "    </tr>\n",
       "    <tr>\n",
       "      <th>1349</th>\n",
       "      <td>United States</td>\n",
       "      <td>Documentaries</td>\n",
       "      <td>511</td>\n",
       "    </tr>\n",
       "    <tr>\n",
       "      <th>1339</th>\n",
       "      <td>United States</td>\n",
       "      <td>Action &amp; Adventure</td>\n",
       "      <td>404</td>\n",
       "    </tr>\n",
       "  </tbody>\n",
       "</table>\n",
       "</div>"
      ],
      "text/plain": [
       "          country_y           listed_in_y    0\n",
       "526           India  International Movies  864\n",
       "1351  United States                Dramas  835\n",
       "1346  United States              Comedies  680\n",
       "522           India                Dramas  662\n",
       "1349  United States         Documentaries  511\n",
       "1339  United States    Action & Adventure  404"
      ]
     },
     "execution_count": 25,
     "metadata": {},
     "output_type": "execute_result"
    }
   ],
   "source": [
    "temp=df_new.groupby(['country_y','listed_in_y']).size().reset_index()\n",
    "temp.sort_values(by=[0],ascending=False).head(6)"
   ]
  },
  {
   "cell_type": "markdown",
   "id": "fca7175b",
   "metadata": {},
   "source": [
    "We can get the country and genre which is linked and also have more nu,ber of movies and TV Shows\n",
    " - In US and Inida which are top countried in making films and TV shows are more insterested in Dramas."
   ]
  },
  {
   "cell_type": "markdown",
   "id": "c7225fd7",
   "metadata": {},
   "source": [
    "#### Cast vs Genre"
   ]
  },
  {
   "cell_type": "code",
   "execution_count": 26,
   "id": "a8b6bf4d",
   "metadata": {
    "scrolled": true
   },
   "outputs": [
    {
     "data": {
      "text/html": [
       "<div>\n",
       "<style scoped>\n",
       "    .dataframe tbody tr th:only-of-type {\n",
       "        vertical-align: middle;\n",
       "    }\n",
       "\n",
       "    .dataframe tbody tr th {\n",
       "        vertical-align: top;\n",
       "    }\n",
       "\n",
       "    .dataframe thead th {\n",
       "        text-align: right;\n",
       "    }\n",
       "</style>\n",
       "<table border=\"1\" class=\"dataframe\">\n",
       "  <thead>\n",
       "    <tr style=\"text-align: right;\">\n",
       "      <th></th>\n",
       "      <th>show_id</th>\n",
       "      <th>type</th>\n",
       "      <th>title</th>\n",
       "      <th>director</th>\n",
       "      <th>cast_x</th>\n",
       "      <th>country</th>\n",
       "      <th>date_added</th>\n",
       "      <th>release_year</th>\n",
       "      <th>rating</th>\n",
       "      <th>duration</th>\n",
       "      <th>listed_in_x</th>\n",
       "      <th>description</th>\n",
       "      <th>cast_y</th>\n",
       "      <th>listed_in_y</th>\n",
       "    </tr>\n",
       "  </thead>\n",
       "  <tbody>\n",
       "    <tr>\n",
       "      <th>0</th>\n",
       "      <td>s694</td>\n",
       "      <td>Movie</td>\n",
       "      <td>Ali &amp; Ratu Ratu Queens</td>\n",
       "      <td>Lucky Kuswandi</td>\n",
       "      <td>Iqbaal Ramadhan, Nirina Zubir, Asri Welas, Tik...</td>\n",
       "      <td>NaN</td>\n",
       "      <td>2021-06-17</td>\n",
       "      <td>2021</td>\n",
       "      <td>TV-14</td>\n",
       "      <td>101 min</td>\n",
       "      <td>Comedies, Dramas, International Movies</td>\n",
       "      <td>After his father's passing, a teenager sets ou...</td>\n",
       "      <td>Iqbaal Ramadhan</td>\n",
       "      <td>Comedies</td>\n",
       "    </tr>\n",
       "    <tr>\n",
       "      <th>1</th>\n",
       "      <td>s694</td>\n",
       "      <td>Movie</td>\n",
       "      <td>Ali &amp; Ratu Ratu Queens</td>\n",
       "      <td>Lucky Kuswandi</td>\n",
       "      <td>Iqbaal Ramadhan, Nirina Zubir, Asri Welas, Tik...</td>\n",
       "      <td>NaN</td>\n",
       "      <td>2021-06-17</td>\n",
       "      <td>2021</td>\n",
       "      <td>TV-14</td>\n",
       "      <td>101 min</td>\n",
       "      <td>Comedies, Dramas, International Movies</td>\n",
       "      <td>After his father's passing, a teenager sets ou...</td>\n",
       "      <td>Iqbaal Ramadhan</td>\n",
       "      <td>Dramas</td>\n",
       "    </tr>\n",
       "  </tbody>\n",
       "</table>\n",
       "</div>"
      ],
      "text/plain": [
       "  show_id   type                   title        director  \\\n",
       "0    s694  Movie  Ali & Ratu Ratu Queens  Lucky Kuswandi   \n",
       "1    s694  Movie  Ali & Ratu Ratu Queens  Lucky Kuswandi   \n",
       "\n",
       "                                              cast_x country date_added  \\\n",
       "0  Iqbaal Ramadhan, Nirina Zubir, Asri Welas, Tik...     NaN 2021-06-17   \n",
       "1  Iqbaal Ramadhan, Nirina Zubir, Asri Welas, Tik...     NaN 2021-06-17   \n",
       "\n",
       "   release_year rating duration                             listed_in_x  \\\n",
       "0          2021  TV-14  101 min  Comedies, Dramas, International Movies   \n",
       "1          2021  TV-14  101 min  Comedies, Dramas, International Movies   \n",
       "\n",
       "                                         description           cast_y  \\\n",
       "0  After his father's passing, a teenager sets ou...  Iqbaal Ramadhan   \n",
       "1  After his father's passing, a teenager sets ou...  Iqbaal Ramadhan   \n",
       "\n",
       "  listed_in_y  \n",
       "0    Comedies  \n",
       "1      Dramas  "
      ]
     },
     "execution_count": 26,
     "metadata": {},
     "output_type": "execute_result"
    }
   ],
   "source": [
    "df_new=pd.merge(df,df_cast,on='title',how='left')\n",
    "df_new=pd.merge(df_new,df_genre,on='title',how='left')\n",
    "df_new.head(2)"
   ]
  },
  {
   "cell_type": "code",
   "execution_count": 27,
   "id": "dcbec416",
   "metadata": {},
   "outputs": [
    {
     "data": {
      "text/html": [
       "<div>\n",
       "<style scoped>\n",
       "    .dataframe tbody tr th:only-of-type {\n",
       "        vertical-align: middle;\n",
       "    }\n",
       "\n",
       "    .dataframe tbody tr th {\n",
       "        vertical-align: top;\n",
       "    }\n",
       "\n",
       "    .dataframe thead th {\n",
       "        text-align: right;\n",
       "    }\n",
       "</style>\n",
       "<table border=\"1\" class=\"dataframe\">\n",
       "  <thead>\n",
       "    <tr style=\"text-align: right;\">\n",
       "      <th></th>\n",
       "      <th>cast_y</th>\n",
       "      <th>listed_in_y</th>\n",
       "      <th>0</th>\n",
       "    </tr>\n",
       "  </thead>\n",
       "  <tbody>\n",
       "    <tr>\n",
       "      <th>8830</th>\n",
       "      <td>Anupam Kher</td>\n",
       "      <td>International Movies</td>\n",
       "      <td>38</td>\n",
       "    </tr>\n",
       "    <tr>\n",
       "      <th>94654</th>\n",
       "      <td>Shah Rukh Khan</td>\n",
       "      <td>International Movies</td>\n",
       "      <td>32</td>\n",
       "    </tr>\n",
       "    <tr>\n",
       "      <th>75002</th>\n",
       "      <td>Naseeruddin Shah</td>\n",
       "      <td>Dramas</td>\n",
       "      <td>28</td>\n",
       "    </tr>\n",
       "    <tr>\n",
       "      <th>8828</th>\n",
       "      <td>Anupam Kher</td>\n",
       "      <td>Dramas</td>\n",
       "      <td>28</td>\n",
       "    </tr>\n",
       "    <tr>\n",
       "      <th>94653</th>\n",
       "      <td>Shah Rukh Khan</td>\n",
       "      <td>Dramas</td>\n",
       "      <td>28</td>\n",
       "    </tr>\n",
       "    <tr>\n",
       "      <th>2668</th>\n",
       "      <td>Akshay Kumar</td>\n",
       "      <td>International Movies</td>\n",
       "      <td>27</td>\n",
       "    </tr>\n",
       "  </tbody>\n",
       "</table>\n",
       "</div>"
      ],
      "text/plain": [
       "                 cast_y           listed_in_y   0\n",
       "8830        Anupam Kher  International Movies  38\n",
       "94654    Shah Rukh Khan  International Movies  32\n",
       "75002  Naseeruddin Shah                Dramas  28\n",
       "8828        Anupam Kher                Dramas  28\n",
       "94653    Shah Rukh Khan                Dramas  28\n",
       "2668       Akshay Kumar  International Movies  27"
      ]
     },
     "execution_count": 27,
     "metadata": {},
     "output_type": "execute_result"
    }
   ],
   "source": [
    "temp=df_new.groupby(['cast_y','listed_in_y']).size().reset_index()\n",
    "temp.sort_values(by=[0],ascending=False).head(6)"
   ]
  },
  {
   "cell_type": "markdown",
   "id": "4532b76c",
   "metadata": {},
   "source": [
    "Anupam Kher,Naseeruddin Shah and Shah Rukh Khan are the actors who done most movies or TV shows in one genre.From this we can also get each actors favorite genre."
   ]
  },
  {
   "cell_type": "markdown",
   "id": "53100be9",
   "metadata": {},
   "source": [
    "#### Director vs Genre"
   ]
  },
  {
   "cell_type": "code",
   "execution_count": 28,
   "id": "e143f1d6",
   "metadata": {
    "scrolled": true
   },
   "outputs": [
    {
     "data": {
      "text/html": [
       "<div>\n",
       "<style scoped>\n",
       "    .dataframe tbody tr th:only-of-type {\n",
       "        vertical-align: middle;\n",
       "    }\n",
       "\n",
       "    .dataframe tbody tr th {\n",
       "        vertical-align: top;\n",
       "    }\n",
       "\n",
       "    .dataframe thead th {\n",
       "        text-align: right;\n",
       "    }\n",
       "</style>\n",
       "<table border=\"1\" class=\"dataframe\">\n",
       "  <thead>\n",
       "    <tr style=\"text-align: right;\">\n",
       "      <th></th>\n",
       "      <th>show_id</th>\n",
       "      <th>type</th>\n",
       "      <th>title</th>\n",
       "      <th>director_x</th>\n",
       "      <th>cast</th>\n",
       "      <th>country</th>\n",
       "      <th>date_added</th>\n",
       "      <th>release_year</th>\n",
       "      <th>rating</th>\n",
       "      <th>duration</th>\n",
       "      <th>listed_in_x</th>\n",
       "      <th>description</th>\n",
       "      <th>director_y</th>\n",
       "      <th>listed_in_y</th>\n",
       "    </tr>\n",
       "  </thead>\n",
       "  <tbody>\n",
       "    <tr>\n",
       "      <th>0</th>\n",
       "      <td>s694</td>\n",
       "      <td>Movie</td>\n",
       "      <td>Ali &amp; Ratu Ratu Queens</td>\n",
       "      <td>Lucky Kuswandi</td>\n",
       "      <td>Iqbaal Ramadhan, Nirina Zubir, Asri Welas, Tik...</td>\n",
       "      <td>NaN</td>\n",
       "      <td>2021-06-17</td>\n",
       "      <td>2021</td>\n",
       "      <td>TV-14</td>\n",
       "      <td>101 min</td>\n",
       "      <td>Comedies, Dramas, International Movies</td>\n",
       "      <td>After his father's passing, a teenager sets ou...</td>\n",
       "      <td>Lucky Kuswandi</td>\n",
       "      <td>Comedies</td>\n",
       "    </tr>\n",
       "    <tr>\n",
       "      <th>1</th>\n",
       "      <td>s694</td>\n",
       "      <td>Movie</td>\n",
       "      <td>Ali &amp; Ratu Ratu Queens</td>\n",
       "      <td>Lucky Kuswandi</td>\n",
       "      <td>Iqbaal Ramadhan, Nirina Zubir, Asri Welas, Tik...</td>\n",
       "      <td>NaN</td>\n",
       "      <td>2021-06-17</td>\n",
       "      <td>2021</td>\n",
       "      <td>TV-14</td>\n",
       "      <td>101 min</td>\n",
       "      <td>Comedies, Dramas, International Movies</td>\n",
       "      <td>After his father's passing, a teenager sets ou...</td>\n",
       "      <td>Lucky Kuswandi</td>\n",
       "      <td>Dramas</td>\n",
       "    </tr>\n",
       "  </tbody>\n",
       "</table>\n",
       "</div>"
      ],
      "text/plain": [
       "  show_id   type                   title      director_x  \\\n",
       "0    s694  Movie  Ali & Ratu Ratu Queens  Lucky Kuswandi   \n",
       "1    s694  Movie  Ali & Ratu Ratu Queens  Lucky Kuswandi   \n",
       "\n",
       "                                                cast country date_added  \\\n",
       "0  Iqbaal Ramadhan, Nirina Zubir, Asri Welas, Tik...     NaN 2021-06-17   \n",
       "1  Iqbaal Ramadhan, Nirina Zubir, Asri Welas, Tik...     NaN 2021-06-17   \n",
       "\n",
       "   release_year rating duration                             listed_in_x  \\\n",
       "0          2021  TV-14  101 min  Comedies, Dramas, International Movies   \n",
       "1          2021  TV-14  101 min  Comedies, Dramas, International Movies   \n",
       "\n",
       "                                         description      director_y  \\\n",
       "0  After his father's passing, a teenager sets ou...  Lucky Kuswandi   \n",
       "1  After his father's passing, a teenager sets ou...  Lucky Kuswandi   \n",
       "\n",
       "  listed_in_y  \n",
       "0    Comedies  \n",
       "1      Dramas  "
      ]
     },
     "execution_count": 28,
     "metadata": {},
     "output_type": "execute_result"
    }
   ],
   "source": [
    "df_new=pd.merge(df,df_dir,on='title',how='left')\n",
    "df_new=pd.merge(df_new,df_genre,on='title',how='left')\n",
    "df_new.head(2)"
   ]
  },
  {
   "cell_type": "code",
   "execution_count": 29,
   "id": "9d26dc23",
   "metadata": {},
   "outputs": [
    {
     "data": {
      "text/html": [
       "<div>\n",
       "<style scoped>\n",
       "    .dataframe tbody tr th:only-of-type {\n",
       "        vertical-align: middle;\n",
       "    }\n",
       "\n",
       "    .dataframe tbody tr th {\n",
       "        vertical-align: top;\n",
       "    }\n",
       "\n",
       "    .dataframe thead th {\n",
       "        text-align: right;\n",
       "    }\n",
       "</style>\n",
       "<table border=\"1\" class=\"dataframe\">\n",
       "  <thead>\n",
       "    <tr style=\"text-align: right;\">\n",
       "      <th></th>\n",
       "      <th>director_y</th>\n",
       "      <th>listed_in_y</th>\n",
       "      <th>0</th>\n",
       "    </tr>\n",
       "  </thead>\n",
       "  <tbody>\n",
       "    <tr>\n",
       "      <th>8969</th>\n",
       "      <td>Rajiv Chilaka</td>\n",
       "      <td>Children &amp; Family Movies</td>\n",
       "      <td>22</td>\n",
       "    </tr>\n",
       "    <tr>\n",
       "      <th>4553</th>\n",
       "      <td>Jan Suter</td>\n",
       "      <td>Stand-Up Comedy</td>\n",
       "      <td>21</td>\n",
       "    </tr>\n",
       "    <tr>\n",
       "      <th>9107</th>\n",
       "      <td>Raúl Campos</td>\n",
       "      <td>Stand-Up Comedy</td>\n",
       "      <td>19</td>\n",
       "    </tr>\n",
       "    <tr>\n",
       "      <th>10736</th>\n",
       "      <td>Suhas Kadav</td>\n",
       "      <td>Children &amp; Family Movies</td>\n",
       "      <td>16</td>\n",
       "    </tr>\n",
       "    <tr>\n",
       "      <th>6817</th>\n",
       "      <td>Marcus Raboy</td>\n",
       "      <td>Stand-Up Comedy</td>\n",
       "      <td>15</td>\n",
       "    </tr>\n",
       "    <tr>\n",
       "      <th>4675</th>\n",
       "      <td>Jay Karas</td>\n",
       "      <td>Stand-Up Comedy</td>\n",
       "      <td>14</td>\n",
       "    </tr>\n",
       "  </tbody>\n",
       "</table>\n",
       "</div>"
      ],
      "text/plain": [
       "          director_y               listed_in_y   0\n",
       "8969   Rajiv Chilaka  Children & Family Movies  22\n",
       "4553       Jan Suter           Stand-Up Comedy  21\n",
       "9107     Raúl Campos           Stand-Up Comedy  19\n",
       "10736    Suhas Kadav  Children & Family Movies  16\n",
       "6817    Marcus Raboy           Stand-Up Comedy  15\n",
       "4675       Jay Karas           Stand-Up Comedy  14"
      ]
     },
     "execution_count": 29,
     "metadata": {},
     "output_type": "execute_result"
    }
   ],
   "source": [
    "temp=df_new.groupby(['director_y','listed_in_y']).size().reset_index()\n",
    "temp.sort_values(by=[0],ascending=False).head(6)"
   ]
  },
  {
   "cell_type": "markdown",
   "id": "a5772ed3",
   "metadata": {},
   "source": [
    "Rajiv Chilaka have directed most number of movies in one genre."
   ]
  },
  {
   "cell_type": "markdown",
   "id": "872a999e",
   "metadata": {},
   "source": [
    "#### Director vs Cast"
   ]
  },
  {
   "cell_type": "code",
   "execution_count": 30,
   "id": "a3b7e46c",
   "metadata": {
    "scrolled": true
   },
   "outputs": [
    {
     "data": {
      "text/html": [
       "<div>\n",
       "<style scoped>\n",
       "    .dataframe tbody tr th:only-of-type {\n",
       "        vertical-align: middle;\n",
       "    }\n",
       "\n",
       "    .dataframe tbody tr th {\n",
       "        vertical-align: top;\n",
       "    }\n",
       "\n",
       "    .dataframe thead th {\n",
       "        text-align: right;\n",
       "    }\n",
       "</style>\n",
       "<table border=\"1\" class=\"dataframe\">\n",
       "  <thead>\n",
       "    <tr style=\"text-align: right;\">\n",
       "      <th></th>\n",
       "      <th>show_id</th>\n",
       "      <th>type</th>\n",
       "      <th>title</th>\n",
       "      <th>director_x</th>\n",
       "      <th>cast_x</th>\n",
       "      <th>country</th>\n",
       "      <th>date_added</th>\n",
       "      <th>release_year</th>\n",
       "      <th>rating</th>\n",
       "      <th>duration</th>\n",
       "      <th>listed_in</th>\n",
       "      <th>description</th>\n",
       "      <th>director_y</th>\n",
       "      <th>cast_y</th>\n",
       "    </tr>\n",
       "  </thead>\n",
       "  <tbody>\n",
       "    <tr>\n",
       "      <th>0</th>\n",
       "      <td>s694</td>\n",
       "      <td>Movie</td>\n",
       "      <td>Ali &amp; Ratu Ratu Queens</td>\n",
       "      <td>Lucky Kuswandi</td>\n",
       "      <td>Iqbaal Ramadhan, Nirina Zubir, Asri Welas, Tik...</td>\n",
       "      <td>NaN</td>\n",
       "      <td>2021-06-17</td>\n",
       "      <td>2021</td>\n",
       "      <td>TV-14</td>\n",
       "      <td>101 min</td>\n",
       "      <td>Comedies, Dramas, International Movies</td>\n",
       "      <td>After his father's passing, a teenager sets ou...</td>\n",
       "      <td>Lucky Kuswandi</td>\n",
       "      <td>Iqbaal Ramadhan</td>\n",
       "    </tr>\n",
       "    <tr>\n",
       "      <th>1</th>\n",
       "      <td>s694</td>\n",
       "      <td>Movie</td>\n",
       "      <td>Ali &amp; Ratu Ratu Queens</td>\n",
       "      <td>Lucky Kuswandi</td>\n",
       "      <td>Iqbaal Ramadhan, Nirina Zubir, Asri Welas, Tik...</td>\n",
       "      <td>NaN</td>\n",
       "      <td>2021-06-17</td>\n",
       "      <td>2021</td>\n",
       "      <td>TV-14</td>\n",
       "      <td>101 min</td>\n",
       "      <td>Comedies, Dramas, International Movies</td>\n",
       "      <td>After his father's passing, a teenager sets ou...</td>\n",
       "      <td>Lucky Kuswandi</td>\n",
       "      <td>Nirina Zubir</td>\n",
       "    </tr>\n",
       "  </tbody>\n",
       "</table>\n",
       "</div>"
      ],
      "text/plain": [
       "  show_id   type                   title      director_x  \\\n",
       "0    s694  Movie  Ali & Ratu Ratu Queens  Lucky Kuswandi   \n",
       "1    s694  Movie  Ali & Ratu Ratu Queens  Lucky Kuswandi   \n",
       "\n",
       "                                              cast_x country date_added  \\\n",
       "0  Iqbaal Ramadhan, Nirina Zubir, Asri Welas, Tik...     NaN 2021-06-17   \n",
       "1  Iqbaal Ramadhan, Nirina Zubir, Asri Welas, Tik...     NaN 2021-06-17   \n",
       "\n",
       "   release_year rating duration                               listed_in  \\\n",
       "0          2021  TV-14  101 min  Comedies, Dramas, International Movies   \n",
       "1          2021  TV-14  101 min  Comedies, Dramas, International Movies   \n",
       "\n",
       "                                         description      director_y  \\\n",
       "0  After his father's passing, a teenager sets ou...  Lucky Kuswandi   \n",
       "1  After his father's passing, a teenager sets ou...  Lucky Kuswandi   \n",
       "\n",
       "            cast_y  \n",
       "0  Iqbaal Ramadhan  \n",
       "1     Nirina Zubir  "
      ]
     },
     "execution_count": 30,
     "metadata": {},
     "output_type": "execute_result"
    }
   ],
   "source": [
    "df_new=pd.merge(df,df_dir,on='title',how='left')\n",
    "df_new=pd.merge(df_new,df_cast,on='title',how='left')\n",
    "df_new.head(2)"
   ]
  },
  {
   "cell_type": "code",
   "execution_count": 31,
   "id": "8e47f8d7",
   "metadata": {
    "scrolled": true
   },
   "outputs": [
    {
     "data": {
      "text/html": [
       "<div>\n",
       "<style scoped>\n",
       "    .dataframe tbody tr th:only-of-type {\n",
       "        vertical-align: middle;\n",
       "    }\n",
       "\n",
       "    .dataframe tbody tr th {\n",
       "        vertical-align: top;\n",
       "    }\n",
       "\n",
       "    .dataframe thead th {\n",
       "        text-align: right;\n",
       "    }\n",
       "</style>\n",
       "<table border=\"1\" class=\"dataframe\">\n",
       "  <thead>\n",
       "    <tr style=\"text-align: right;\">\n",
       "      <th></th>\n",
       "      <th>director_y</th>\n",
       "      <th>cast_y</th>\n",
       "      <th>0</th>\n",
       "    </tr>\n",
       "  </thead>\n",
       "  <tbody>\n",
       "    <tr>\n",
       "      <th>35337</th>\n",
       "      <td>Rajiv Chilaka</td>\n",
       "      <td>Rajesh Kava</td>\n",
       "      <td>19</td>\n",
       "    </tr>\n",
       "    <tr>\n",
       "      <th>35331</th>\n",
       "      <td>Rajiv Chilaka</td>\n",
       "      <td>Julie Tejwani</td>\n",
       "      <td>19</td>\n",
       "    </tr>\n",
       "    <tr>\n",
       "      <th>35338</th>\n",
       "      <td>Rajiv Chilaka</td>\n",
       "      <td>Rupa Bhimani</td>\n",
       "      <td>18</td>\n",
       "    </tr>\n",
       "    <tr>\n",
       "      <th>35330</th>\n",
       "      <td>Rajiv Chilaka</td>\n",
       "      <td>Jigna Bhardwaj</td>\n",
       "      <td>18</td>\n",
       "    </tr>\n",
       "    <tr>\n",
       "      <th>35345</th>\n",
       "      <td>Rajiv Chilaka</td>\n",
       "      <td>Vatsal Dubey</td>\n",
       "      <td>16</td>\n",
       "    </tr>\n",
       "    <tr>\n",
       "      <th>35334</th>\n",
       "      <td>Rajiv Chilaka</td>\n",
       "      <td>Mousam</td>\n",
       "      <td>13</td>\n",
       "    </tr>\n",
       "  </tbody>\n",
       "</table>\n",
       "</div>"
      ],
      "text/plain": [
       "          director_y          cast_y   0\n",
       "35337  Rajiv Chilaka     Rajesh Kava  19\n",
       "35331  Rajiv Chilaka   Julie Tejwani  19\n",
       "35338  Rajiv Chilaka    Rupa Bhimani  18\n",
       "35330  Rajiv Chilaka  Jigna Bhardwaj  18\n",
       "35345  Rajiv Chilaka    Vatsal Dubey  16\n",
       "35334  Rajiv Chilaka          Mousam  13"
      ]
     },
     "execution_count": 31,
     "metadata": {},
     "output_type": "execute_result"
    }
   ],
   "source": [
    "temp=df_new.groupby(['director_y','cast_y']).size().reset_index()\n",
    "temp.sort_values(by=[0],ascending=False).head(6)"
   ]
  },
  {
   "cell_type": "markdown",
   "id": "4d48f271",
   "metadata": {},
   "source": [
    "As per above we can say that Rajiv Chilaka's favourite cast members are Rajesh Kava and Julie Tejwani"
   ]
  },
  {
   "cell_type": "markdown",
   "id": "87b6beee",
   "metadata": {},
   "source": [
    "#### With following analysis ,Netflix can produce successfull TV show.\n",
    "     - Best Director,Top 5 cast members,Top 3 genre to create a story, Best month to release a TV Show,Best country to release on.\n",
    "     - Best Month to release TV Show is we already analyzed with count plot and got December and July.\n",
    "#### Why select TV show ?\n",
    "- Increase in number of release in recent years which shows it is improving field.\n",
    "- Number of release is less compare to movies which shows it still have more to explore in that TV show field."
   ]
  },
  {
   "cell_type": "code",
   "execution_count": 32,
   "id": "fd65a56d",
   "metadata": {},
   "outputs": [],
   "source": [
    "df_new=df.loc[df['type']=='TV Show']"
   ]
  },
  {
   "cell_type": "markdown",
   "id": "421a7dd0",
   "metadata": {},
   "source": [
    "#### Best director -- purely by number of TV shows he/she did , as i believe if director is not good will not get to do many TV Shows."
   ]
  },
  {
   "cell_type": "code",
   "execution_count": 33,
   "id": "e493f917",
   "metadata": {},
   "outputs": [
    {
     "data": {
      "text/plain": [
       "show_id            0\n",
       "type               0\n",
       "title              0\n",
       "director        2446\n",
       "cast             350\n",
       "country          391\n",
       "date_added        10\n",
       "release_year       0\n",
       "rating             2\n",
       "duration           0\n",
       "listed_in          0\n",
       "description        0\n",
       "dtype: int64"
      ]
     },
     "execution_count": 33,
     "metadata": {},
     "output_type": "execute_result"
    }
   ],
   "source": [
    "df_new.isna().sum()"
   ]
  },
  {
   "cell_type": "code",
   "execution_count": 34,
   "id": "10c73c84",
   "metadata": {},
   "outputs": [
    {
     "data": {
      "text/plain": [
       "(2676, 12)"
      ]
     },
     "execution_count": 34,
     "metadata": {},
     "output_type": "execute_result"
    }
   ],
   "source": [
    "df_new.shape"
   ]
  },
  {
   "cell_type": "code",
   "execution_count": 35,
   "id": "9f52248b",
   "metadata": {},
   "outputs": [
    {
     "data": {
      "text/plain": [
       "0.914050822122571"
      ]
     },
     "execution_count": 35,
     "metadata": {},
     "output_type": "execute_result"
    }
   ],
   "source": [
    "2446/2676"
   ]
  },
  {
   "cell_type": "markdown",
   "id": "3e3c41b1",
   "metadata": {},
   "source": [
    "In 2676 rows 2446 is missing for director , that is more than 90 percent .From this we can conclude that finding best director for the TV Show with this dataset is out of scope."
   ]
  },
  {
   "cell_type": "markdown",
   "id": "9ced7740",
   "metadata": {},
   "source": [
    "#### Best Country -- purely by number of TV shows made in the particular country."
   ]
  },
  {
   "cell_type": "code",
   "execution_count": 36,
   "id": "81b7234d",
   "metadata": {},
   "outputs": [
    {
     "data": {
      "text/html": [
       "<div>\n",
       "<style scoped>\n",
       "    .dataframe tbody tr th:only-of-type {\n",
       "        vertical-align: middle;\n",
       "    }\n",
       "\n",
       "    .dataframe tbody tr th {\n",
       "        vertical-align: top;\n",
       "    }\n",
       "\n",
       "    .dataframe thead th {\n",
       "        text-align: right;\n",
       "    }\n",
       "</style>\n",
       "<table border=\"1\" class=\"dataframe\">\n",
       "  <thead>\n",
       "    <tr style=\"text-align: right;\">\n",
       "      <th></th>\n",
       "      <th>index</th>\n",
       "      <th>country_y</th>\n",
       "    </tr>\n",
       "  </thead>\n",
       "  <tbody>\n",
       "    <tr>\n",
       "      <th>0</th>\n",
       "      <td>United States</td>\n",
       "      <td>938</td>\n",
       "    </tr>\n",
       "    <tr>\n",
       "      <th>1</th>\n",
       "      <td>United Kingdom</td>\n",
       "      <td>272</td>\n",
       "    </tr>\n",
       "    <tr>\n",
       "      <th>2</th>\n",
       "      <td>Japan</td>\n",
       "      <td>199</td>\n",
       "    </tr>\n",
       "    <tr>\n",
       "      <th>3</th>\n",
       "      <td>South Korea</td>\n",
       "      <td>170</td>\n",
       "    </tr>\n",
       "    <tr>\n",
       "      <th>4</th>\n",
       "      <td>Canada</td>\n",
       "      <td>126</td>\n",
       "    </tr>\n",
       "    <tr>\n",
       "      <th>...</th>\n",
       "      <td>...</td>\n",
       "      <td>...</td>\n",
       "    </tr>\n",
       "    <tr>\n",
       "      <th>61</th>\n",
       "      <td>Austria</td>\n",
       "      <td>1</td>\n",
       "    </tr>\n",
       "    <tr>\n",
       "      <th>62</th>\n",
       "      <td>Uruguay</td>\n",
       "      <td>1</td>\n",
       "    </tr>\n",
       "    <tr>\n",
       "      <th>63</th>\n",
       "      <td>Syria</td>\n",
       "      <td>1</td>\n",
       "    </tr>\n",
       "    <tr>\n",
       "      <th>64</th>\n",
       "      <td>Hungary</td>\n",
       "      <td>1</td>\n",
       "    </tr>\n",
       "    <tr>\n",
       "      <th>65</th>\n",
       "      <td></td>\n",
       "      <td>1</td>\n",
       "    </tr>\n",
       "  </tbody>\n",
       "</table>\n",
       "<p>66 rows × 2 columns</p>\n",
       "</div>"
      ],
      "text/plain": [
       "             index  country_y\n",
       "0    United States        938\n",
       "1   United Kingdom        272\n",
       "2            Japan        199\n",
       "3      South Korea        170\n",
       "4           Canada        126\n",
       "..             ...        ...\n",
       "61         Austria          1\n",
       "62         Uruguay          1\n",
       "63           Syria          1\n",
       "64         Hungary          1\n",
       "65                          1\n",
       "\n",
       "[66 rows x 2 columns]"
      ]
     },
     "execution_count": 36,
     "metadata": {},
     "output_type": "execute_result"
    }
   ],
   "source": [
    "df_c=pd.merge(df_new,df_coun,on='title',how='left')\n",
    "df_c['country_y'].value_counts().reset_index()"
   ]
  },
  {
   "cell_type": "code",
   "execution_count": 37,
   "id": "ba5af0d6",
   "metadata": {},
   "outputs": [
    {
     "data": {
      "text/html": [
       "<div>\n",
       "<style scoped>\n",
       "    .dataframe tbody tr th:only-of-type {\n",
       "        vertical-align: middle;\n",
       "    }\n",
       "\n",
       "    .dataframe tbody tr th {\n",
       "        vertical-align: top;\n",
       "    }\n",
       "\n",
       "    .dataframe thead th {\n",
       "        text-align: right;\n",
       "    }\n",
       "</style>\n",
       "<table border=\"1\" class=\"dataframe\">\n",
       "  <thead>\n",
       "    <tr style=\"text-align: right;\">\n",
       "      <th></th>\n",
       "      <th>show_id</th>\n",
       "      <th>type</th>\n",
       "      <th>title</th>\n",
       "      <th>director</th>\n",
       "      <th>cast</th>\n",
       "      <th>country_x</th>\n",
       "      <th>date_added</th>\n",
       "      <th>release_year</th>\n",
       "      <th>rating</th>\n",
       "      <th>duration</th>\n",
       "      <th>listed_in</th>\n",
       "      <th>description</th>\n",
       "      <th>country_y</th>\n",
       "    </tr>\n",
       "  </thead>\n",
       "  <tbody>\n",
       "  </tbody>\n",
       "</table>\n",
       "</div>"
      ],
      "text/plain": [
       "Empty DataFrame\n",
       "Columns: [show_id, type, title, director, cast, country_x, date_added, release_year, rating, duration, listed_in, description, country_y]\n",
       "Index: []"
      ]
     },
     "execution_count": 37,
     "metadata": {},
     "output_type": "execute_result"
    }
   ],
   "source": [
    "df_c[df_c.duplicated()]"
   ]
  },
  {
   "cell_type": "markdown",
   "id": "4fca0e2f",
   "metadata": {},
   "source": [
    "By far US have more number of TV Shows lets check its progress to see how in recent years no of release is in US"
   ]
  },
  {
   "cell_type": "code",
   "execution_count": 38,
   "id": "81d07967",
   "metadata": {
    "scrolled": true
   },
   "outputs": [
    {
     "data": {
      "text/plain": [
       "<AxesSubplot:xlabel='release_year', ylabel='count'>"
      ]
     },
     "execution_count": 38,
     "metadata": {},
     "output_type": "execute_result"
    },
    {
     "data": {
      "image/png": "[encoded data removed]",
      "text/plain": [
       "<Figure size 432x288 with 1 Axes>"
      ]
     },
     "metadata": {
      "needs_background": "light"
     },
     "output_type": "display_data"
    }
   ],
   "source": [
    "temp=df_c.loc[(df_c['country_y']=='United States') & (df_c['release_year']>=2017)]\n",
    "sns.countplot(x='release_year',data=temp)"
   ]
  },
  {
   "cell_type": "markdown",
   "id": "31e41438",
   "metadata": {},
   "source": [
    "As we see the graph which implies the increase in counts of the country variable in the dataset which also represent that number of TV shows are increasing year by year it came down at 2021 due to corona , we can neglect that as we are moving past corona in coming months,From this we can conclude best country to make TV Show is United States."
   ]
  },
  {
   "cell_type": "markdown",
   "id": "72944252",
   "metadata": {},
   "source": [
    "#### Top 3 Genre"
   ]
  },
  {
   "cell_type": "code",
   "execution_count": 39,
   "id": "2b2687e1",
   "metadata": {},
   "outputs": [
    {
     "data": {
      "text/html": [
       "<div>\n",
       "<style scoped>\n",
       "    .dataframe tbody tr th:only-of-type {\n",
       "        vertical-align: middle;\n",
       "    }\n",
       "\n",
       "    .dataframe tbody tr th {\n",
       "        vertical-align: top;\n",
       "    }\n",
       "\n",
       "    .dataframe thead th {\n",
       "        text-align: right;\n",
       "    }\n",
       "</style>\n",
       "<table border=\"1\" class=\"dataframe\">\n",
       "  <thead>\n",
       "    <tr style=\"text-align: right;\">\n",
       "      <th></th>\n",
       "      <th>index</th>\n",
       "      <th>listed_in_y</th>\n",
       "    </tr>\n",
       "  </thead>\n",
       "  <tbody>\n",
       "    <tr>\n",
       "      <th>0</th>\n",
       "      <td>International TV Shows</td>\n",
       "      <td>1351</td>\n",
       "    </tr>\n",
       "    <tr>\n",
       "      <th>1</th>\n",
       "      <td>TV Dramas</td>\n",
       "      <td>763</td>\n",
       "    </tr>\n",
       "    <tr>\n",
       "      <th>2</th>\n",
       "      <td>TV Comedies</td>\n",
       "      <td>581</td>\n",
       "    </tr>\n",
       "    <tr>\n",
       "      <th>3</th>\n",
       "      <td>Crime TV Shows</td>\n",
       "      <td>470</td>\n",
       "    </tr>\n",
       "    <tr>\n",
       "      <th>4</th>\n",
       "      <td>Kids' TV</td>\n",
       "      <td>451</td>\n",
       "    </tr>\n",
       "  </tbody>\n",
       "</table>\n",
       "</div>"
      ],
      "text/plain": [
       "                    index  listed_in_y\n",
       "0  International TV Shows         1351\n",
       "1               TV Dramas          763\n",
       "2             TV Comedies          581\n",
       "3          Crime TV Shows          470\n",
       "4                Kids' TV          451"
      ]
     },
     "execution_count": 39,
     "metadata": {},
     "output_type": "execute_result"
    }
   ],
   "source": [
    "df_g=pd.merge(df_new,df_genre,on='title',how='left')\n",
    "df_g['listed_in_y'].value_counts().reset_index().head(5)"
   ]
  },
  {
   "cell_type": "markdown",
   "id": "477d583e",
   "metadata": {},
   "source": [
    "From above we can say that TV Dramas,TV Comedies and Crime TV Shows are the top 3 genre."
   ]
  },
  {
   "cell_type": "code",
   "execution_count": 40,
   "id": "78886ff4",
   "metadata": {},
   "outputs": [
    {
     "data": {
      "image/png": "[encoded data removed]",
      "text/plain": [
       "<Figure size 432x288 with 1 Axes>"
      ]
     },
     "metadata": {
      "needs_background": "light"
     },
     "output_type": "display_data"
    }
   ],
   "source": [
    "l=['TV Dramas','TV Comedies','Crime TV Shows']\n",
    "temp=df_g.loc[(df_g['release_year']>=2017) & (df_g['listed_in_y'].isin(l))]\n",
    "sns.countplot(x='release_year',hue='listed_in_y',data=temp)\n",
    "plt.show()"
   ]
  },
  {
   "cell_type": "markdown",
   "id": "4106386e",
   "metadata": {},
   "source": [
    "#### Top 5 Cast Members-- As we planned on releasing movie in US lets get cast members who already established in US."
   ]
  },
  {
   "cell_type": "code",
   "execution_count": 41,
   "id": "03148806",
   "metadata": {},
   "outputs": [
    {
     "data": {
      "text/html": [
       "<div>\n",
       "<style scoped>\n",
       "    .dataframe tbody tr th:only-of-type {\n",
       "        vertical-align: middle;\n",
       "    }\n",
       "\n",
       "    .dataframe tbody tr th {\n",
       "        vertical-align: top;\n",
       "    }\n",
       "\n",
       "    .dataframe thead th {\n",
       "        text-align: right;\n",
       "    }\n",
       "</style>\n",
       "<table border=\"1\" class=\"dataframe\">\n",
       "  <thead>\n",
       "    <tr style=\"text-align: right;\">\n",
       "      <th></th>\n",
       "      <th>index</th>\n",
       "      <th>cast_y</th>\n",
       "    </tr>\n",
       "  </thead>\n",
       "  <tbody>\n",
       "    <tr>\n",
       "      <th>0</th>\n",
       "      <td>Grey Griffin</td>\n",
       "      <td>7</td>\n",
       "    </tr>\n",
       "    <tr>\n",
       "      <th>1</th>\n",
       "      <td>Mike Colter</td>\n",
       "      <td>7</td>\n",
       "    </tr>\n",
       "    <tr>\n",
       "      <th>2</th>\n",
       "      <td>Steven Yeun</td>\n",
       "      <td>6</td>\n",
       "    </tr>\n",
       "    <tr>\n",
       "      <th>3</th>\n",
       "      <td>Kari Wahlgren</td>\n",
       "      <td>6</td>\n",
       "    </tr>\n",
       "    <tr>\n",
       "      <th>4</th>\n",
       "      <td>Kevin Michael Richardson</td>\n",
       "      <td>6</td>\n",
       "    </tr>\n",
       "    <tr>\n",
       "      <th>5</th>\n",
       "      <td>Keith David</td>\n",
       "      <td>5</td>\n",
       "    </tr>\n",
       "    <tr>\n",
       "      <th>6</th>\n",
       "      <td>Sean Astin</td>\n",
       "      <td>5</td>\n",
       "    </tr>\n",
       "  </tbody>\n",
       "</table>\n",
       "</div>"
      ],
      "text/plain": [
       "                      index  cast_y\n",
       "0              Grey Griffin       7\n",
       "1               Mike Colter       7\n",
       "2               Steven Yeun       6\n",
       "3             Kari Wahlgren       6\n",
       "4  Kevin Michael Richardson       6\n",
       "5               Keith David       5\n",
       "6                Sean Astin       5"
      ]
     },
     "execution_count": 41,
     "metadata": {},
     "output_type": "execute_result"
    }
   ],
   "source": [
    "df_ca=pd.merge(df_new,df_cast,on='title',how='left')\n",
    "df_ca=df_ca.loc[df_ca['country'] == 'United States' ]\n",
    "df_ca['cast_y'].value_counts().reset_index().head(7)"
   ]
  },
  {
   "cell_type": "markdown",
   "id": "4bf865c0",
   "metadata": {},
   "source": [
    "These are the top 5 cast members in TV Shows \n",
    "- Grey Griffin,Mike Colter,Kevin Michael Richardson,Kari Wahlgren,Steven Yeun"
   ]
  },
  {
   "cell_type": "markdown",
   "id": "9e5ab20d",
   "metadata": {},
   "source": [
    "#### As year progressed how number of minutes in a movies have changed."
   ]
  },
  {
   "cell_type": "code",
   "execution_count": 42,
   "id": "d287ae02",
   "metadata": {
    "scrolled": false
   },
   "outputs": [
    {
     "name": "stderr",
     "output_type": "stream",
     "text": [
      "C:\\Users\\akash\\AppData\\Local\\Temp\\ipykernel_38040\\2215455627.py:4: SettingWithCopyWarning: \n",
      "A value is trying to be set on a copy of a slice from a DataFrame.\n",
      "Try using .loc[row_indexer,col_indexer] = value instead\n",
      "\n",
      "See the caveats in the documentation: https://pandas.pydata.org/pandas-docs/stable/user_guide/indexing.html#returning-a-view-versus-a-copy\n",
      "  df_new['minutes']=temp[0].astype('int')\n",
      "C:\\Users\\akash\\AppData\\Local\\Temp\\ipykernel_38040\\2215455627.py:5: SettingWithCopyWarning: \n",
      "A value is trying to be set on a copy of a slice from a DataFrame.\n",
      "Try using .loc[row_indexer,col_indexer] = value instead\n",
      "\n",
      "See the caveats in the documentation: https://pandas.pydata.org/pandas-docs/stable/user_guide/indexing.html#returning-a-view-versus-a-copy\n",
      "  df_new['Avg_Minutes']=df_new.groupby(['release_year'])['minutes'].transform(np.mean)\n"
     ]
    },
    {
     "data": {
      "text/html": [
       "<div>\n",
       "<style scoped>\n",
       "    .dataframe tbody tr th:only-of-type {\n",
       "        vertical-align: middle;\n",
       "    }\n",
       "\n",
       "    .dataframe tbody tr th {\n",
       "        vertical-align: top;\n",
       "    }\n",
       "\n",
       "    .dataframe thead th {\n",
       "        text-align: right;\n",
       "    }\n",
       "</style>\n",
       "<table border=\"1\" class=\"dataframe\">\n",
       "  <thead>\n",
       "    <tr style=\"text-align: right;\">\n",
       "      <th></th>\n",
       "      <th>show_id</th>\n",
       "      <th>type</th>\n",
       "      <th>title</th>\n",
       "      <th>director</th>\n",
       "      <th>cast</th>\n",
       "      <th>country</th>\n",
       "      <th>date_added</th>\n",
       "      <th>release_year</th>\n",
       "      <th>rating</th>\n",
       "      <th>duration</th>\n",
       "      <th>listed_in</th>\n",
       "      <th>description</th>\n",
       "      <th>minutes</th>\n",
       "      <th>Avg_Minutes</th>\n",
       "    </tr>\n",
       "  </thead>\n",
       "  <tbody>\n",
       "    <tr>\n",
       "      <th>693</th>\n",
       "      <td>s694</td>\n",
       "      <td>Movie</td>\n",
       "      <td>Ali &amp; Ratu Ratu Queens</td>\n",
       "      <td>Lucky Kuswandi</td>\n",
       "      <td>Iqbaal Ramadhan, Nirina Zubir, Asri Welas, Tik...</td>\n",
       "      <td>NaN</td>\n",
       "      <td>2021-06-17</td>\n",
       "      <td>2021</td>\n",
       "      <td>TV-14</td>\n",
       "      <td>101 min</td>\n",
       "      <td>Comedies, Dramas, International Movies</td>\n",
       "      <td>After his father's passing, a teenager sets ou...</td>\n",
       "      <td>101.0</td>\n",
       "      <td>96.444043</td>\n",
       "    </tr>\n",
       "    <tr>\n",
       "      <th>781</th>\n",
       "      <td>s782</td>\n",
       "      <td>Movie</td>\n",
       "      <td>Black Holes | The Edge of All We Know</td>\n",
       "      <td>Peter Galison</td>\n",
       "      <td>NaN</td>\n",
       "      <td>NaN</td>\n",
       "      <td>2021-06-02</td>\n",
       "      <td>2021</td>\n",
       "      <td>TV-14</td>\n",
       "      <td>99 min</td>\n",
       "      <td>Documentaries</td>\n",
       "      <td>Follow scientists on their quest to understand...</td>\n",
       "      <td>99.0</td>\n",
       "      <td>96.444043</td>\n",
       "    </tr>\n",
       "    <tr>\n",
       "      <th>762</th>\n",
       "      <td>s763</td>\n",
       "      <td>Movie</td>\n",
       "      <td>Sweet &amp; Sour</td>\n",
       "      <td>Lee Kae-byeok</td>\n",
       "      <td>Jang Ki-yong, Chae Soo-bin, Jung Soo-jung</td>\n",
       "      <td>South Korea</td>\n",
       "      <td>2021-06-04</td>\n",
       "      <td>2021</td>\n",
       "      <td>TV-14</td>\n",
       "      <td>103 min</td>\n",
       "      <td>Comedies, International Movies, Romantic Movies</td>\n",
       "      <td>Faced with real-world opportunities and challe...</td>\n",
       "      <td>103.0</td>\n",
       "      <td>96.444043</td>\n",
       "    </tr>\n",
       "  </tbody>\n",
       "</table>\n",
       "</div>"
      ],
      "text/plain": [
       "    show_id   type                                  title        director  \\\n",
       "693    s694  Movie                 Ali & Ratu Ratu Queens  Lucky Kuswandi   \n",
       "781    s782  Movie  Black Holes | The Edge of All We Know   Peter Galison   \n",
       "762    s763  Movie                           Sweet & Sour   Lee Kae-byeok   \n",
       "\n",
       "                                                  cast      country  \\\n",
       "693  Iqbaal Ramadhan, Nirina Zubir, Asri Welas, Tik...          NaN   \n",
       "781                                                NaN          NaN   \n",
       "762          Jang Ki-yong, Chae Soo-bin, Jung Soo-jung  South Korea   \n",
       "\n",
       "    date_added  release_year rating duration  \\\n",
       "693 2021-06-17          2021  TV-14  101 min   \n",
       "781 2021-06-02          2021  TV-14   99 min   \n",
       "762 2021-06-04          2021  TV-14  103 min   \n",
       "\n",
       "                                           listed_in  \\\n",
       "693           Comedies, Dramas, International Movies   \n",
       "781                                    Documentaries   \n",
       "762  Comedies, International Movies, Romantic Movies   \n",
       "\n",
       "                                           description  minutes  Avg_Minutes  \n",
       "693  After his father's passing, a teenager sets ou...    101.0    96.444043  \n",
       "781  Follow scientists on their quest to understand...     99.0    96.444043  \n",
       "762  Faced with real-world opportunities and challe...    103.0    96.444043  "
      ]
     },
     "execution_count": 42,
     "metadata": {},
     "output_type": "execute_result"
    }
   ],
   "source": [
    "df_new=df.loc[df['type']=='Movie']\n",
    "temp=df_new['duration'].str.extractall('(\\d+)')\n",
    "temp=temp.reset_index().drop(['match'],axis=1).set_index('level_0')\n",
    "df_new['minutes']=temp[0].astype('int')\n",
    "df_new['Avg_Minutes']=df_new.groupby(['release_year'])['minutes'].transform(np.mean)\n",
    "df_new.head(3)"
   ]
  },
  {
   "cell_type": "code",
   "execution_count": 43,
   "id": "8bce6ab9",
   "metadata": {
    "scrolled": true
   },
   "outputs": [
    {
     "data": {
      "image/png": "[encoded data removed]",
      "text/plain": [
       "<Figure size 432x288 with 1 Axes>"
      ]
     },
     "metadata": {
      "needs_background": "light"
     },
     "output_type": "display_data"
    }
   ],
   "source": [
    "sns.scatterplot(data=df_new,x='release_year',y='Avg_Minutes')\n",
    "plt.show()"
   ]
  },
  {
   "cell_type": "markdown",
   "id": "5651432f",
   "metadata": {},
   "source": [
    "Before 2000 whatever we had those are outliers , as we saw above in boxplot so lets focus after . As per the plot Avg movie time per year is almost in range of 85 , 125 for last 21 years, Which says we have standard timings."
   ]
  },
  {
   "cell_type": "code",
   "execution_count": 44,
   "id": "a5c7b30b",
   "metadata": {
    "scrolled": true
   },
   "outputs": [
    {
     "data": {
      "image/png": "[encoded data removed]",
      "text/plain": [
       "<Figure size 432x288 with 1 Axes>"
      ]
     },
     "metadata": {
      "needs_background": "light"
     },
     "output_type": "display_data"
    }
   ],
   "source": [
    "sns.scatterplot(data=df_new,x='release_year',y='Avg_Minutes')\n",
    "plt.xlim(2000,)\n",
    "plt.show()"
   ]
  }
 ],
 "metadata": {
  "kernelspec": {
   "display_name": "Python 3 (ipykernel)",
   "language": "python",
   "name": "python3"
  },
  "language_info": {
   "codemirror_mode": {
    "name": "ipython",
    "version": 3
   },
   "file_extension": ".py",
   "mimetype": "text/x-python",
   "name": "python",
   "nbconvert_exporter": "python",
   "pygments_lexer": "ipython3",
   "version": "3.8.5"
  }
 },
 "nbformat": 4,
 "nbformat_minor": 5
}
